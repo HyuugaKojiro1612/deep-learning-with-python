{
 "cells": [
  {
   "cell_type": "markdown",
   "id": "fd8abff7",
   "metadata": {},
   "source": [
    "# 4.3 Predicting house prices: a regression example\n",
    "\n",
    "Another common type of\n",
    "machine-learning problem is *regression*, which consists of predicting a continuous\n",
    "value instead of a discrete label: for instance, predicting the temperature tomorrow,\n",
    "given meteorological data; or predicting the time that a software project will take to\n",
    "complete, given its specifications.\n",
    "\n",
    "## 4.3.1 The Boston Housing Price dataset\n",
    "\n",
    "You’ll attempt to predict the median price of homes in a given Boston suburb in the\n",
    "mid-1970s, given data points about the suburb at the time, such as the crime rate, the\n",
    "local property tax rate, and so on. The dataset you’ll use has an interesting difference\n",
    "from the two previous examples. It has relatively few data points: only 506, split\n",
    "between 404 training samples and 102 test samples. And each feature in the input data\n",
    "(for example, the crime rate) has a different scale. For instance, some values are proportions, which take values between 0 and 1; others take values between 1 and 12, others between 0 and 100, and so on."
   ]
  },
  {
   "cell_type": "code",
   "execution_count": 1,
   "id": "be1a147c",
   "metadata": {},
   "outputs": [],
   "source": [
    "from tensorflow.keras.datasets import boston_housing\n",
    "(train_data, train_targets), (test_data, test_targets) = (boston_housing.load_data())"
   ]
  },
  {
   "cell_type": "code",
   "execution_count": 2,
   "id": "2ce6bb34",
   "metadata": {},
   "outputs": [
    {
     "name": "stdout",
     "output_type": "stream",
     "text": [
      "(404, 13)\n",
      "(102, 13)\n"
     ]
    }
   ],
   "source": [
    "print(train_data.shape)\n",
    "print(test_data.shape)"
   ]
  },
  {
   "cell_type": "markdown",
   "id": "05d85f80",
   "metadata": {},
   "source": [
    "As you can see, you have 404 training samples and 102 test samples, each with 13\n",
    "numerical features, such as per capita crime rate, average number of rooms per dwelling, accessibility to highways, and so on.\n",
    " The targets are the median values of owner-occupied homes, in thousands of\n",
    "dollars:"
   ]
  },
  {
   "cell_type": "code",
   "execution_count": 3,
   "id": "03be5bbb",
   "metadata": {
    "collapsed": true
   },
   "outputs": [
    {
     "data": {
      "text/plain": [
       "array([15.2, 42.3, 50. , 21.1, 17.7, 18.5, 11.3, 15.6, 15.6, 14.4, 12.1,\n",
       "       17.9, 23.1, 19.9, 15.7,  8.8, 50. , 22.5, 24.1, 27.5, 10.9, 30.8,\n",
       "       32.9, 24. , 18.5, 13.3, 22.9, 34.7, 16.6, 17.5, 22.3, 16.1, 14.9,\n",
       "       23.1, 34.9, 25. , 13.9, 13.1, 20.4, 20. , 15.2, 24.7, 22.2, 16.7,\n",
       "       12.7, 15.6, 18.4, 21. , 30.1, 15.1, 18.7,  9.6, 31.5, 24.8, 19.1,\n",
       "       22. , 14.5, 11. , 32. , 29.4, 20.3, 24.4, 14.6, 19.5, 14.1, 14.3,\n",
       "       15.6, 10.5,  6.3, 19.3, 19.3, 13.4, 36.4, 17.8, 13.5, 16.5,  8.3,\n",
       "       14.3, 16. , 13.4, 28.6, 43.5, 20.2, 22. , 23. , 20.7, 12.5, 48.5,\n",
       "       14.6, 13.4, 23.7, 50. , 21.7, 39.8, 38.7, 22.2, 34.9, 22.5, 31.1,\n",
       "       28.7, 46. , 41.7, 21. , 26.6, 15. , 24.4, 13.3, 21.2, 11.7, 21.7,\n",
       "       19.4, 50. , 22.8, 19.7, 24.7, 36.2, 14.2, 18.9, 18.3, 20.6, 24.6,\n",
       "       18.2,  8.7, 44. , 10.4, 13.2, 21.2, 37. , 30.7, 22.9, 20. , 19.3,\n",
       "       31.7, 32. , 23.1, 18.8, 10.9, 50. , 19.6,  5. , 14.4, 19.8, 13.8,\n",
       "       19.6, 23.9, 24.5, 25. , 19.9, 17.2, 24.6, 13.5, 26.6, 21.4, 11.9,\n",
       "       22.6, 19.6,  8.5, 23.7, 23.1, 22.4, 20.5, 23.6, 18.4, 35.2, 23.1,\n",
       "       27.9, 20.6, 23.7, 28. , 13.6, 27.1, 23.6, 20.6, 18.2, 21.7, 17.1,\n",
       "        8.4, 25.3, 13.8, 22.2, 18.4, 20.7, 31.6, 30.5, 20.3,  8.8, 19.2,\n",
       "       19.4, 23.1, 23. , 14.8, 48.8, 22.6, 33.4, 21.1, 13.6, 32.2, 13.1,\n",
       "       23.4, 18.9, 23.9, 11.8, 23.3, 22.8, 19.6, 16.7, 13.4, 22.2, 20.4,\n",
       "       21.8, 26.4, 14.9, 24.1, 23.8, 12.3, 29.1, 21. , 19.5, 23.3, 23.8,\n",
       "       17.8, 11.5, 21.7, 19.9, 25. , 33.4, 28.5, 21.4, 24.3, 27.5, 33.1,\n",
       "       16.2, 23.3, 48.3, 22.9, 22.8, 13.1, 12.7, 22.6, 15. , 15.3, 10.5,\n",
       "       24. , 18.5, 21.7, 19.5, 33.2, 23.2,  5. , 19.1, 12.7, 22.3, 10.2,\n",
       "       13.9, 16.3, 17. , 20.1, 29.9, 17.2, 37.3, 45.4, 17.8, 23.2, 29. ,\n",
       "       22. , 18. , 17.4, 34.6, 20.1, 25. , 15.6, 24.8, 28.2, 21.2, 21.4,\n",
       "       23.8, 31. , 26.2, 17.4, 37.9, 17.5, 20. ,  8.3, 23.9,  8.4, 13.8,\n",
       "        7.2, 11.7, 17.1, 21.6, 50. , 16.1, 20.4, 20.6, 21.4, 20.6, 36.5,\n",
       "        8.5, 24.8, 10.8, 21.9, 17.3, 18.9, 36.2, 14.9, 18.2, 33.3, 21.8,\n",
       "       19.7, 31.6, 24.8, 19.4, 22.8,  7.5, 44.8, 16.8, 18.7, 50. , 50. ,\n",
       "       19.5, 20.1, 50. , 17.2, 20.8, 19.3, 41.3, 20.4, 20.5, 13.8, 16.5,\n",
       "       23.9, 20.6, 31.5, 23.3, 16.8, 14. , 33.8, 36.1, 12.8, 18.3, 18.7,\n",
       "       19.1, 29. , 30.1, 50. , 50. , 22. , 11.9, 37.6, 50. , 22.7, 20.8,\n",
       "       23.5, 27.9, 50. , 19.3, 23.9, 22.6, 15.2, 21.7, 19.2, 43.8, 20.3,\n",
       "       33.2, 19.9, 22.5, 32.7, 22. , 17.1, 19. , 15. , 16.1, 25.1, 23.7,\n",
       "       28.7, 37.2, 22.6, 16.4, 25. , 29.8, 22.1, 17.4, 18.1, 30.3, 17.5,\n",
       "       24.7, 12.6, 26.5, 28.7, 13.3, 10.4, 24.4, 23. , 20. , 17.8,  7. ,\n",
       "       11.8, 24.4, 13.8, 19.4, 25.2, 19.4, 19.4, 29.1])"
      ]
     },
     "execution_count": 3,
     "metadata": {},
     "output_type": "execute_result"
    }
   ],
   "source": [
    "train_targets"
   ]
  },
  {
   "cell_type": "markdown",
   "id": "fe24ccea",
   "metadata": {},
   "source": [
    "## 4.3.2 Preparing the data\n",
    "\n",
    "It would be problematic to feed into a neural network values that all take wildly different ranges. The network might be able to automatically adapt to such heterogeneous\n",
    "data, but it would definitely make learning more difficult. A widespread best practice\n",
    "to deal with such data is to do feature-wise normalization: for each feature in the input\n",
    "data (a column in the input data matrix), you subtract the mean of the feature and\n",
    "divide by the standard deviation, so that the feature is centered around 0 and has a\n",
    "unit standard deviation. This is easily done in Numpy.\n",
    "\n",
    "### *Normalizing the data*"
   ]
  },
  {
   "cell_type": "code",
   "execution_count": 4,
   "id": "2c2e2ed1",
   "metadata": {},
   "outputs": [],
   "source": [
    "mean = train_data.mean(axis=0)\n",
    "train_data -= mean\n",
    "std = train_data.std(axis=0)\n",
    "train_data /= std\n",
    "\n",
    "test_data -= mean\n",
    "test_data /= std"
   ]
  },
  {
   "cell_type": "markdown",
   "id": "0811304f",
   "metadata": {},
   "source": [
    "## 4.3.3 Building your network\n",
    "\n",
    "Because so few samples are available, you’ll use a very small network with two hidden\n",
    "layers, each with 64 units. In general, the less training data you have, the worse overfitting will be, and using a small network is one way to mitigate overfitting.\n",
    "\n",
    "### *Model definition*"
   ]
  },
  {
   "cell_type": "code",
   "execution_count": 5,
   "id": "5d0b723c",
   "metadata": {
    "scrolled": true
   },
   "outputs": [],
   "source": [
    "from tensorflow import keras\n",
    "from tensorflow.keras import layers\n",
    "\n",
    "def build_model():\n",
    "    model = keras.Sequential([\n",
    "        layers.Dense(64, activation=\"relu\"),\n",
    "        layers.Dense(64, activation=\"relu\"),\n",
    "        layers.Dense(1)\n",
    "    ])\n",
    "    model.compile(optimizer=\"rmsprop\", loss=\"mse\", metrics=[\"mae\"])\n",
    "    return model"
   ]
  },
  {
   "cell_type": "markdown",
   "id": "ba2b3bbc",
   "metadata": {},
   "source": [
    "The network ends with a single unit and no activation (it will be a linear layer). This is\n",
    "a typical setup for scalar regression (a regression where you’re trying to predict a single\n",
    "continuous value). Applying an activation function would constrain the range the output can take; for instance, if you applied a sigmoid activation function to the last layer,\n",
    "the network could only learn to predict values between 0 and 1. Here, because the last\n",
    "layer is purely linear, the network is free to learn to predict values in any range.\n",
    "\n",
    "Note that you compile the network with the `mse` loss function—*mean squared error*,\n",
    "the square of the difference between the predictions and the targets. This is a widely\n",
    "used loss function for regression problems.\n",
    " You’re also monitoring a new metric during training: *mean absolute error* (MAE). It’s\n",
    "the absolute value of the difference between the predictions and the targets. For\n",
    "instance, an MAE of 0.5 on this problem would mean your predictions are off by $500\n",
    "on average."
   ]
  },
  {
   "cell_type": "markdown",
   "id": "525d85d0",
   "metadata": {},
   "source": [
    "## 4.3.4 Validating your approach using K-fold validation\n",
    "\n",
    "To evaluate your network while you keep adjusting its parameters (such as the number\n",
    "of epochs used for training), you could split the data into a training set and a validation set, as you did in the previous examples. But because you have so few data points,\n",
    "the validation set would end up being very small (for instance, about 100 examples).\n",
    "As a consequence, the validation scores might change a lot depending on which data\n",
    "points you chose to use for validation and which you chose for training: the validation\n",
    "scores might have a high *variance* with regard to the validation split. This would prevent you from reliably evaluating your model.\n",
    "\n",
    "The best practice in such situations is to use *K-fold* cross-validation.\n",
    "It consists of splitting the available data into *K* partitions (typically *K* = 4 or 5), instantiating *K* identical models, and training each one on *K* – 1 partitions while evaluating on\n",
    "the remaining partition. The validation score for the model used is then the average of\n",
    "the *K* validation scores obtained. In terms of code, this is straightforward.\n",
    "\n",
    "### *K-fold validation*"
   ]
  },
  {
   "cell_type": "code",
   "execution_count": 6,
   "id": "12bfbf02",
   "metadata": {},
   "outputs": [],
   "source": [
    "import numpy as np\n",
    "\n",
    "k = 4\n",
    "num_val_samples = len(train_data) // k\n",
    "num_epochs = 100\n",
    "all_scores = []"
   ]
  },
  {
   "cell_type": "code",
   "execution_count": 7,
   "id": "7637b22d",
   "metadata": {},
   "outputs": [
    {
     "name": "stdout",
     "output_type": "stream",
     "text": [
      "processing fold #0\n",
      "processing fold #1\n",
      "processing fold #2\n",
      "processing fold #3\n"
     ]
    }
   ],
   "source": [
    "for i in range(k):\n",
    "    print(f'processing fold #{i}')\n",
    "    # Prepares the validation data: data from partition #k\n",
    "    val_data = train_data[i * num_val_samples: (i + 1) * num_val_samples]\n",
    "    val_targets = train_targets[i * num_val_samples: (i + 1) * num_val_samples]\n",
    "    \n",
    "    # Prepares the training data: data from all other partitions\n",
    "    partial_train_data = np.concatenate(\n",
    "        [train_data[:i * num_val_samples], \n",
    "         train_data[(i + 1) * num_val_samples:]], \n",
    "        axis=0)\n",
    "    partial_train_targets = np.concatenate(\n",
    "        [train_targets[:i * num_val_samples], \n",
    "         train_targets[(i + 1) * num_val_samples:]], \n",
    "        axis=0)\n",
    "    \n",
    "    # Builds the Keras model (already compiled)\n",
    "    model = build_model()\n",
    "    # Trains the model\n",
    "    model.fit(partial_train_data, partial_train_targets, epochs=num_epochs, batch_size=16, verbose=0)\n",
    "    # Evaluates the model on the validation data\n",
    "    val_mse, val_mae = model.evaluate(val_data, val_targets, verbose=0)\n",
    "    all_scores.append(val_mae)"
   ]
  },
  {
   "cell_type": "code",
   "execution_count": 8,
   "id": "fc60ffa0",
   "metadata": {},
   "outputs": [
    {
     "data": {
      "text/plain": [
       "[1.981117606163025, 2.3983864784240723, 2.4413363933563232, 2.482590675354004]"
      ]
     },
     "execution_count": 8,
     "metadata": {},
     "output_type": "execute_result"
    }
   ],
   "source": [
    "all_scores"
   ]
  },
  {
   "cell_type": "code",
   "execution_count": 9,
   "id": "625e045b",
   "metadata": {},
   "outputs": [
    {
     "data": {
      "text/plain": [
       "2.325857788324356"
      ]
     },
     "execution_count": 9,
     "metadata": {},
     "output_type": "execute_result"
    }
   ],
   "source": [
    "np.mean(all_scores)"
   ]
  },
  {
   "cell_type": "markdown",
   "id": "a6f78339",
   "metadata": {},
   "source": [
    "The different runs do indeed show rather different validation scores, from 2.1 to 3.1.\n",
    "The average (2.3) is a much more reliable metric than any single score—that’s the\n",
    "entire point of K-fold cross-validation. In this case, you’re off by $2,300 on average,\n",
    "which is significant considering that the prices range from 10,000 to 50,000.\n",
    " Let’s try training the network a bit longer: 500 epochs. To keep a record of how\n",
    "well the model does at each epoch, you’ll modify the training loop to save the per epoch validation score log.\n",
    "\n",
    "### *Saving the validation logs at each fold*"
   ]
  },
  {
   "cell_type": "code",
   "execution_count": 10,
   "id": "28193b8a",
   "metadata": {},
   "outputs": [
    {
     "name": "stdout",
     "output_type": "stream",
     "text": [
      "processing fold #0\n",
      "processing fold #1\n",
      "processing fold #2\n",
      "processing fold #3\n"
     ]
    }
   ],
   "source": [
    "num_epochs = 500\n",
    "all_mae_histories = []\n",
    "for i in range(k):\n",
    "    print(f'processing fold #{i}')\n",
    "    # Prepares the validation data: data from partition #k\n",
    "    val_data = train_data[i * num_val_samples: (i + 1) * num_val_samples]\n",
    "    val_targets = train_targets[i * num_val_samples: (i + 1) * num_val_samples]\n",
    "    \n",
    "    # Prepares the training data: data from all other partitions\n",
    "    partial_train_data = np.concatenate(\n",
    "        [train_data[:i * num_val_samples], \n",
    "         train_data[(i + 1) * num_val_samples:]], \n",
    "        axis=0)\n",
    "    partial_train_targets = np.concatenate(\n",
    "        [train_targets[:i * num_val_samples], \n",
    "         train_targets[(i + 1) * num_val_samples:]], \n",
    "        axis=0)\n",
    "    \n",
    "    model = build_model()\n",
    "    history = model.fit(partial_train_data, partial_train_targets, validation_data=(val_data, val_targets), \n",
    "                       epochs=num_epochs, batch_size=16, verbose=0)\n",
    "    mae_history = history.history['val_mae']\n",
    "    all_mae_histories.append(mae_history)"
   ]
  },
  {
   "cell_type": "code",
   "execution_count": 11,
   "id": "9ae9a365",
   "metadata": {},
   "outputs": [
    {
     "name": "stdout",
     "output_type": "stream",
     "text": [
      "dict_keys(['loss', 'mae', 'val_loss', 'val_mae'])\n",
      "all_mae_history.shape: (4, 500)\n"
     ]
    }
   ],
   "source": [
    "print(history.history.keys())\n",
    "print(f'all_mae_history.shape: ({len(all_mae_histories)}, {len(all_mae_histories[0])})')"
   ]
  },
  {
   "cell_type": "markdown",
   "id": "d22fc667",
   "metadata": {},
   "source": [
    "You can then compute the average of the per-epoch MAE scores for all folds.\n",
    "\n",
    "### *Building the history of successive mean K-fold validation scores*"
   ]
  },
  {
   "cell_type": "code",
   "execution_count": 12,
   "id": "928c9c2e",
   "metadata": {},
   "outputs": [],
   "source": [
    "average_mae_history = [\n",
    "    np.mean([ x[i] for x in all_mae_histories ]) for i in range(num_epochs)\n",
    "]"
   ]
  },
  {
   "cell_type": "code",
   "execution_count": 13,
   "id": "386c640b",
   "metadata": {},
   "outputs": [
    {
     "data": {
      "image/png": "[encoded data removed]",
      "text/plain": [
       "<Figure size 640x480 with 1 Axes>"
      ]
     },
     "metadata": {},
     "output_type": "display_data"
    }
   ],
   "source": [
    "import matplotlib.pyplot as plt\n",
    "\n",
    "plt.plot(range(1, len(average_mae_history) + 1), average_mae_history)\n",
    "plt.xlabel('Epochs')\n",
    "plt.ylabel('Validation MAE')\n",
    "plt.show()"
   ]
  },
  {
   "cell_type": "markdown",
   "id": "8f64e890",
   "metadata": {},
   "source": [
    "It may be a little difficult to see the plot, due to scaling issues and relatively high variance. Let’s do the following:\n",
    "- Omit the first 10 data points, which are on a different scale than the rest of the curve.\n",
    "- Replace each point with an exponential moving average of the previous points,\n",
    "to obtain a smooth curve.\n",
    "\n",
    "### *Plotting validation scores, excluding the first 10 data points*"
   ]
  },
  {
   "cell_type": "code",
   "execution_count": 15,
   "id": "f329bc91",
   "metadata": {},
   "outputs": [
    {
     "data": {
      "image/png": "[encoded data removed]",
      "text/plain": [
       "<Figure size 640x480 with 1 Axes>"
      ]
     },
     "metadata": {},
     "output_type": "display_data"
    }
   ],
   "source": [
    "# def smooth_curve(points, factor=0.9):\n",
    "#     smoothed_points = []\n",
    "#     for point in points:\n",
    "#         if smoothed_points:\n",
    "#             previous = smoothed_points[-1]\n",
    "#             smoothed_points.append(previous * factor + point * (1 - factor))\n",
    "#         else:\n",
    "#             smoothed_points.append(point)\n",
    "#     return smoothed_points\n",
    "    \n",
    "# smooth_mae_history = smooth_curve(average_mae_history[10:])\n",
    "# plt.plot(range(1, len(smooth_mae_history) + 1), smooth_mae_history)\n",
    "\n",
    "truncated_mae_history = average_mae_history[10:]\n",
    "plt.plot(range(1, len(truncated_mae_history) + 1), truncated_mae_history)\n",
    "plt.xlabel('Epochs')\n",
    "plt.ylabel('Validation MAE')\n",
    "plt.show()"
   ]
  },
  {
   "cell_type": "markdown",
   "id": "3a363bfe",
   "metadata": {},
   "source": [
    "According to this plot, validation MAE stops improving significantly after 170-180 epochs (including the 10 epochs we omitted).\n",
    "Past that point, you start overfitting.\n",
    "\n",
    " Once you’re finished tuning other parameters of the model (in addition to the\n",
    "number of epochs, you could also adjust the size of the hidden layers), you can train a\n",
    "final production model on all of the training data, with the best parameters, and then\n",
    "look at its performance on the test data.\n",
    "\n",
    "### *Training the model*"
   ]
  },
  {
   "cell_type": "code",
   "execution_count": 16,
   "id": "2be337bd",
   "metadata": {},
   "outputs": [
    {
     "name": "stdout",
     "output_type": "stream",
     "text": [
      "4/4 [==============================] - 0s 2ms/step - loss: 13.1279 - mae: 2.5161\n"
     ]
    },
    {
     "data": {
      "text/plain": [
       "2.5160837173461914"
      ]
     },
     "execution_count": 16,
     "metadata": {},
     "output_type": "execute_result"
    }
   ],
   "source": [
    "model = build_model()\n",
    "model.fit(train_data, train_targets, epochs=170, batch_size=16, verbose=0)\n",
    "test_mse_score, test_mae_score = model.evaluate(test_data, test_targets)\n",
    "\n",
    "test_mae_score"
   ]
  },
  {
   "cell_type": "markdown",
   "id": "8bc4fb39",
   "metadata": {},
   "source": [
    "We're still off by about $2,500."
   ]
  },
  {
   "cell_type": "markdown",
   "id": "25d5d2c8",
   "metadata": {},
   "source": [
    "## 4.3.5 Generating predictions on new data\n",
    "\n",
    "When calling `predict()` on our binary classification model, we retrieved a scalar score\n",
    "between 0 and 1 for each input sample. With our multiclass classification model, we\n",
    "retrieved a probability distribution over all classes for each sample. Now, with this scalar regression model, `predict()` returns the model’s guess for the sample’s price in\n",
    "thousands of dollars:"
   ]
  },
  {
   "cell_type": "code",
   "execution_count": 17,
   "id": "ee211d96",
   "metadata": {},
   "outputs": [
    {
     "name": "stdout",
     "output_type": "stream",
     "text": [
      "4/4 [==============================] - 0s 2ms/step\n"
     ]
    },
    {
     "data": {
      "text/plain": [
       "array([8.51468], dtype=float32)"
      ]
     },
     "execution_count": 17,
     "metadata": {},
     "output_type": "execute_result"
    }
   ],
   "source": [
    "predictions = model.predict(test_data)\n",
    "predictions[0]"
   ]
  },
  {
   "cell_type": "markdown",
   "id": "f5c47cbe",
   "metadata": {},
   "source": [
    "The first house in the test set is predicted to have a price of about $10,000."
   ]
  },
  {
   "cell_type": "markdown",
   "id": "3636247b",
   "metadata": {},
   "source": [
    "## 4.3.6 Wrapping up\n",
    "\n",
    "Here's what you should take away from this example:\n",
    "- Regression is done using different loss functions than what we used for classification. Mean squared error (MSE) is a loss function commonly used for regression.\n",
    "- Similarly, evaluation metrics to be used for regression differ from those used for\n",
    "classification; naturally, the concept of accuracy doesn’t apply for regression. A\n",
    "common regression metric is mean absolute error (MAE).\n",
    "- When features in the input data have values in different ranges, each feature\n",
    "should be scaled independently as a preprocessing step.\n",
    "- When there is little data available, using K-fold validation is a great way to reliably evaluate a model.\n",
    "- When little training data is available, it’s preferable to use a small network with\n",
    "few hidden layers (typically only one or two), in order to avoid severe overfitting. "
   ]
  },
  {
   "cell_type": "code",
   "execution_count": null,
   "id": "a27f1c7c",
   "metadata": {},
   "outputs": [],
   "source": []
  }
 ],
 "metadata": {
  "kernelspec": {
   "display_name": "Python 3 (ipykernel)",
   "language": "python",
   "name": "python3"
  },
  "language_info": {
   "codemirror_mode": {
    "name": "ipython",
    "version": 3
   },
   "file_extension": ".py",
   "mimetype": "text/x-python",
   "name": "python",
   "nbconvert_exporter": "python",
   "pygments_lexer": "ipython3",
   "version": "3.10.9"
  }
 },
 "nbformat": 4,
 "nbformat_minor": 5
}
