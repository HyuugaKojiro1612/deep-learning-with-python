{
 "cells": [
  {
   "cell_type": "markdown",
   "id": "daf8e887",
   "metadata": {},
   "source": [
    "# 7.2 Different ways to build Keras models\n",
    "\n",
    "There are three APIs for building models in Keras:\n",
    "- The Sequential model, the most approachable API—it’s basically a Python list. As such, it’s limited to simple stacks of layers.\n",
    "- The Functional API, which focuses on graph-like model architectures. It represents a nice mid-point between usability and flexibility, and as such, it’s the most commonly used model-building API.\n",
    "- Model subclassing, a low-level option where you write everything yourself from scratch. This is ideal if you want full control over every little thing. However, you won’t get access to many built-in Keras features, and you will be more at risk of making mistakes.\n",
    "\n",
    "## 7.2.1 The Sequential model\n",
    "\n",
    "### *The `Sequential` class*"
   ]
  },
  {
   "cell_type": "code",
   "execution_count": 1,
   "id": "c7ba4266",
   "metadata": {},
   "outputs": [],
   "source": [
    "from tensorflow import keras\n",
    "from tensorflow.keras import layers\n",
    "\n",
    "model = keras.Sequential([\n",
    "    layers.Dense(64, activation='relu'),\n",
    "    layers.Dense(10, activation='softmax')\n",
    "])"
   ]
  },
  {
   "cell_type": "markdown",
   "id": "758de4a0",
   "metadata": {},
   "source": [
    "### *Incrementially building a Sequential model*"
   ]
  },
  {
   "cell_type": "code",
   "execution_count": 2,
   "id": "9d360ca5",
   "metadata": {},
   "outputs": [],
   "source": [
    "model = keras.Sequential()\n",
    "model.add(layers.Dense(64, activation='relu'))\n",
    "model.add(layers.Dense(10, activation='softmax'))"
   ]
  },
  {
   "cell_type": "markdown",
   "id": "647b44aa",
   "metadata": {},
   "source": [
    "You saw in chapter 4 that layers only get built (which is to say, create their weights) when\n",
    "they are called for the first time. That’s because the shape of the layers' weights depends\n",
    "on the shape of their input: until the input shape is known, they can’t be created.\n",
    " As such, the preceding Sequential model does not have any weights until you actually call it on some data, or call its `build()` method with an input shape.\n",
    " \n",
    " ### *Models that aren't built have no weights*"
   ]
  },
  {
   "cell_type": "code",
   "execution_count": 3,
   "id": "0d32ca10",
   "metadata": {},
   "outputs": [
    {
     "name": "stdout",
     "output_type": "stream",
     "text": [
      "ValueError: Weights for model 'sequential_1' have not yet been created. Weights are created when the model is first called on inputs or `build()` is called with an `input_shape`.\n"
     ]
    }
   ],
   "source": [
    "try: model.weights\n",
    "except: print(\"ValueError: Weights for model 'sequential_1' have not yet been created. Weights are created when the model is first called on inputs or `build()` is called with an `input_shape`.\")"
   ]
  },
  {
   "cell_type": "markdown",
   "id": "9034cf86",
   "metadata": {},
   "source": [
    "### *Calling a model for the first time to build it*"
   ]
  },
  {
   "cell_type": "code",
   "execution_count": 4,
   "id": "f52d916d",
   "metadata": {},
   "outputs": [
    {
     "data": {
      "text/plain": [
       "[<tf.Variable 'dense_2/kernel:0' shape=(3, 64) dtype=float32, numpy=\n",
       " array([[-0.24337009,  0.22791457, -0.0453462 ,  0.02879596, -0.00986463,\n",
       "          0.08332887, -0.12102023, -0.24046609, -0.15935962,  0.26339585,\n",
       "         -0.27476922, -0.17202678, -0.09314379,  0.22764754,  0.11960769,\n",
       "         -0.26715168, -0.19212215,  0.19386524,  0.16347337, -0.23775482,\n",
       "          0.02152681,  0.27077508,  0.06392565,  0.24474889,  0.07846832,\n",
       "         -0.09819339, -0.02048141, -0.00388402, -0.05500266, -0.03163111,\n",
       "          0.23641247,  0.14188698, -0.21450448, -0.0762911 , -0.03044409,\n",
       "         -0.05756688,  0.24083549,  0.12736279, -0.04945818,  0.26263094,\n",
       "         -0.23041952, -0.23405167,  0.23366797, -0.05293666, -0.10324751,\n",
       "          0.03736416,  0.26856083,  0.02155676, -0.26522738, -0.03349277,\n",
       "         -0.1595666 ,  0.22236091, -0.041457  , -0.10135187,  0.18422654,\n",
       "          0.2724638 , -0.00736848,  0.25835502,  0.08340499, -0.18634301,\n",
       "          0.23455381, -0.04676697, -0.22540258,  0.24728376],\n",
       "        [-0.24971893,  0.26339716, -0.28708464,  0.26945615, -0.00290611,\n",
       "         -0.29713637,  0.11644614,  0.27941036, -0.27734238,  0.17667136,\n",
       "          0.14341876, -0.18520358,  0.21285903, -0.09893042,  0.08046991,\n",
       "          0.24692565, -0.12437062,  0.09103546,  0.18218458,  0.1722297 ,\n",
       "         -0.02503487,  0.1353027 ,  0.20245188,  0.17225581, -0.03287661,\n",
       "          0.11861533,  0.13573071, -0.22846118,  0.23090303, -0.24704555,\n",
       "         -0.18825418,  0.26683652, -0.19536525, -0.15374608, -0.23220898,\n",
       "          0.14300016,  0.29647875,  0.07532033,  0.19239077,  0.29699612,\n",
       "         -0.12384908, -0.0707511 ,  0.09118351,  0.1698437 ,  0.13469246,\n",
       "         -0.05720201, -0.09123781, -0.16365995, -0.03104347,  0.2247501 ,\n",
       "         -0.26488268, -0.28802857, -0.23607087,  0.12088266,  0.00570396,\n",
       "         -0.20112368, -0.02459651, -0.291992  ,  0.12880751, -0.12539932,\n",
       "          0.01027259,  0.17523772, -0.2955229 , -0.28324103],\n",
       "        [-0.21462356, -0.10237265, -0.11582784,  0.08393332,  0.26553684,\n",
       "         -0.1883438 , -0.03376788, -0.2457496 , -0.2138269 , -0.15132311,\n",
       "          0.27195895,  0.24800432,  0.13915023,  0.16787124, -0.14004794,\n",
       "         -0.24840607, -0.15946978,  0.14766777, -0.01359382,  0.11900073,\n",
       "          0.05932695, -0.2104837 , -0.23549661,  0.22264779, -0.2810802 ,\n",
       "         -0.10641883,  0.21779054,  0.1875338 ,  0.00456631, -0.09246513,\n",
       "          0.01086906, -0.0266878 , -0.12749693,  0.09654742, -0.21924615,\n",
       "         -0.2907176 , -0.0238919 , -0.24847478,  0.0294674 , -0.02604461,\n",
       "          0.12132138, -0.19293395, -0.2741779 , -0.05153617, -0.04500088,\n",
       "          0.18664303,  0.18625975, -0.27444252,  0.14265218, -0.18185005,\n",
       "          0.2877406 ,  0.19342217,  0.24847698,  0.23695803,  0.23311526,\n",
       "          0.19358426,  0.01680225,  0.10597062,  0.13328505,  0.19275406,\n",
       "         -0.17103021, -0.21726713,  0.23365122, -0.2664762 ]],\n",
       "       dtype=float32)>,\n",
       " <tf.Variable 'dense_2/bias:0' shape=(64,) dtype=float32, numpy=\n",
       " array([0., 0., 0., 0., 0., 0., 0., 0., 0., 0., 0., 0., 0., 0., 0., 0., 0.,\n",
       "        0., 0., 0., 0., 0., 0., 0., 0., 0., 0., 0., 0., 0., 0., 0., 0., 0.,\n",
       "        0., 0., 0., 0., 0., 0., 0., 0., 0., 0., 0., 0., 0., 0., 0., 0., 0.,\n",
       "        0., 0., 0., 0., 0., 0., 0., 0., 0., 0., 0., 0., 0.], dtype=float32)>,\n",
       " <tf.Variable 'dense_3/kernel:0' shape=(64, 10) dtype=float32, numpy=\n",
       " array([[-0.04738793,  0.0546298 ,  0.09528911,  0.24243739, -0.07694127,\n",
       "          0.27887556, -0.21094227,  0.16894338,  0.12917334, -0.03123176],\n",
       "        [ 0.06249067, -0.1537331 , -0.17763507,  0.00778097, -0.1082684 ,\n",
       "          0.15865126, -0.17582868, -0.19248343, -0.21613246, -0.07628661],\n",
       "        [ 0.17838293, -0.10509975,  0.1797624 , -0.07546128,  0.21657369,\n",
       "         -0.25589126,  0.13304079,  0.08305141,  0.23413298,  0.07665333],\n",
       "        [ 0.2225376 ,  0.20190412,  0.1708858 ,  0.06247845, -0.25994176,\n",
       "         -0.23238035, -0.26817837, -0.25969523, -0.15371008,  0.13503441],\n",
       "        [-0.02713424, -0.23572192, -0.23250832, -0.11619139, -0.10895659,\n",
       "         -0.04229835, -0.24806407,  0.13619205,  0.15335551,  0.0014787 ],\n",
       "        [ 0.04654521, -0.02287054, -0.19784978,  0.24371919, -0.06746788,\n",
       "          0.04431662,  0.17118996,  0.17705041, -0.22443393,  0.23645481],\n",
       "        [-0.00211543,  0.01075172,  0.23803493, -0.2813754 ,  0.10818368,\n",
       "         -0.23425646, -0.22466224,  0.00748184, -0.14536108, -0.14393541],\n",
       "        [-0.15575592, -0.06022581,  0.10393259, -0.25871038, -0.22940348,\n",
       "          0.02114859, -0.16690981,  0.26650378, -0.00072655, -0.16040768],\n",
       "        [-0.20449002,  0.04209277,  0.00238541, -0.22702274,  0.02090794,\n",
       "         -0.01345351, -0.15866911,  0.20052531, -0.26479915,  0.04395282],\n",
       "        [ 0.18006891,  0.20539248,  0.09888655,  0.11894974,  0.03297284,\n",
       "          0.21717891, -0.1432661 ,  0.0945248 ,  0.15460879, -0.09073918],\n",
       "        [-0.09857832,  0.13777205, -0.17761321,  0.00381285,  0.16980252,\n",
       "         -0.12789229,  0.02046204,  0.21880218,  0.1423741 , -0.08737636],\n",
       "        [-0.194407  , -0.03070337, -0.15850598, -0.1173853 , -0.09306695,\n",
       "          0.19454232,  0.03849128,  0.03403062,  0.10377613,  0.20504352],\n",
       "        [-0.06007564, -0.25357735,  0.13746789,  0.09000829,  0.19097847,\n",
       "         -0.10176544,  0.26781568, -0.07412964, -0.04710266,  0.20022205],\n",
       "        [ 0.09071514, -0.22062854,  0.15046689,  0.25264797,  0.2340773 ,\n",
       "         -0.07368857,  0.18193421, -0.25167617, -0.10754864, -0.00121263],\n",
       "        [-0.2767703 , -0.04264472,  0.14036867, -0.18556213,  0.24420127,\n",
       "          0.16674018, -0.26290455, -0.02311236,  0.15438572,  0.08789319],\n",
       "        [ 0.22839496, -0.06952472, -0.05276841,  0.04879057, -0.02337766,\n",
       "         -0.0332399 ,  0.15715173, -0.25876606,  0.26326266,  0.26418814],\n",
       "        [ 0.2209625 , -0.08703929,  0.18633261, -0.07894541, -0.10775523,\n",
       "          0.15868276,  0.2592416 , -0.15771052, -0.18930249, -0.00847182],\n",
       "        [-0.25252098,  0.08559325,  0.1614745 , -0.19817661,  0.11517888,\n",
       "         -0.21447793, -0.15698926,  0.2264817 , -0.12682974,  0.0922873 ],\n",
       "        [-0.21932703,  0.17927814, -0.15017891,  0.11471948,  0.12675425,\n",
       "         -0.2452735 , -0.2572401 ,  0.13001123,  0.19667965,  0.07978323],\n",
       "        [-0.24817812,  0.00491232, -0.08167075,  0.11234736,  0.04112393,\n",
       "         -0.13412294,  0.06383094, -0.17023686,  0.02177536, -0.08774656],\n",
       "        [-0.18618299, -0.26989782, -0.05721833,  0.16375387, -0.2513373 ,\n",
       "         -0.13857754,  0.2776561 ,  0.17085445,  0.20545235, -0.0427659 ],\n",
       "        [ 0.04849043,  0.02866608, -0.1254977 ,  0.26140395, -0.03380284,\n",
       "          0.21529701,  0.2592192 ,  0.2488024 , -0.01691437, -0.03915678],\n",
       "        [-0.258931  , -0.16817719,  0.21567687,  0.2359536 , -0.00386268,\n",
       "          0.25679436, -0.09979863, -0.28384978, -0.02871647,  0.06404966],\n",
       "        [ 0.10631788, -0.1581006 , -0.0787687 , -0.22044334, -0.1127816 ,\n",
       "          0.14463371,  0.01450288, -0.26819286,  0.2596995 ,  0.0763959 ],\n",
       "        [ 0.00392249, -0.02540931,  0.11955041,  0.20936555,  0.02980107,\n",
       "          0.03998396, -0.13659573, -0.15547968,  0.09019992, -0.23909967],\n",
       "        [-0.05603808,  0.07732925, -0.12593408, -0.12853932,  0.05618715,\n",
       "         -0.19621916,  0.20070556, -0.13075978, -0.03520857, -0.20609383],\n",
       "        [-0.25286993, -0.13977605, -0.00311875, -0.07234973, -0.06275713,\n",
       "         -0.23390737,  0.05910301,  0.04470482,  0.083702  ,  0.0083243 ],\n",
       "        [-0.06622721, -0.2359361 , -0.20025083,  0.12158844, -0.13784291,\n",
       "          0.11149517, -0.08887039, -0.17703731, -0.14267594, -0.15145542],\n",
       "        [ 0.18778381, -0.05802424,  0.23836699, -0.237367  ,  0.02243483,\n",
       "         -0.05470705,  0.04124016,  0.21667352,  0.21010622, -0.16453174],\n",
       "        [ 0.13114768, -0.06606014, -0.01848233, -0.10722359, -0.21821345,\n",
       "         -0.03812087,  0.09088466, -0.07313778, -0.23275977, -0.00405711],\n",
       "        [-0.10828707,  0.14294037,  0.17539379,  0.24870524,  0.01789236,\n",
       "         -0.14760074,  0.15552849, -0.10914668, -0.05722839,  0.1879532 ],\n",
       "        [-0.2558427 ,  0.17616719,  0.21908358, -0.27319384,  0.27165028,\n",
       "          0.03026515, -0.01849157,  0.11535263, -0.24989688,  0.08438203],\n",
       "        [ 0.01585644, -0.23030096, -0.04231906,  0.21202436, -0.0012258 ,\n",
       "         -0.05241627, -0.2544056 ,  0.10901472, -0.17576507, -0.12393264],\n",
       "        [-0.22174484, -0.06083255,  0.18747613, -0.05955568,  0.04027385,\n",
       "         -0.21515948, -0.18093842, -0.07627411, -0.07950951,  0.26606694],\n",
       "        [ 0.18215784,  0.19370544, -0.2528161 , -0.25827107,  0.051487  ,\n",
       "         -0.11178553,  0.23076138, -0.06455253,  0.0741255 , -0.09545943],\n",
       "        [ 0.0613288 ,  0.0764904 , -0.00765082, -0.04791617, -0.08712775,\n",
       "         -0.06840312, -0.04671997,  0.17407504,  0.1664511 ,  0.05422673],\n",
       "        [-0.01508352, -0.17753133,  0.15785751,  0.00946164, -0.20703654,\n",
       "         -0.09902754, -0.2405013 ,  0.224386  , -0.03445473,  0.21313038],\n",
       "        [-0.2797343 , -0.20397842,  0.19509384,  0.28432634, -0.20791394,\n",
       "         -0.02660674, -0.00145304, -0.25276458,  0.21064049, -0.19791877],\n",
       "        [ 0.1020228 ,  0.10742   ,  0.02590755, -0.1817721 , -0.07115276,\n",
       "         -0.14262237,  0.00343701, -0.00686285,  0.17699304,  0.18840247],\n",
       "        [ 0.06057701, -0.10394557, -0.1438638 ,  0.03815418, -0.21418777,\n",
       "         -0.14813958,  0.27174136, -0.14318171, -0.11739276, -0.1026095 ],\n",
       "        [ 0.07212269, -0.01113924,  0.24972138,  0.17890278,  0.03814706,\n",
       "          0.0968965 ,  0.19702405,  0.25427815,  0.1155867 , -0.03884368],\n",
       "        [ 0.27791396,  0.05962425, -0.00881913,  0.269424  ,  0.26568738,\n",
       "          0.07355231,  0.17326322,  0.22081295,  0.21506116, -0.20124444],\n",
       "        [-0.01734096,  0.10436809,  0.06086636, -0.25485238,  0.23750868,\n",
       "          0.10535344, -0.23974264, -0.184636  , -0.06471844, -0.17347905],\n",
       "        [ 0.15916932,  0.27267793, -0.13683414, -0.08048181,  0.19962299,\n",
       "          0.13134608, -0.17303254,  0.05713707,  0.19665691,  0.25502738],\n",
       "        [-0.01637837, -0.26772517, -0.00189939, -0.15425415, -0.03730871,\n",
       "         -0.22900443,  0.09648693, -0.05918474,  0.08894676,  0.2429845 ],\n",
       "        [-0.04351893,  0.22369912,  0.2743512 ,  0.15670386, -0.02217561,\n",
       "         -0.2738854 , -0.06787299,  0.20251295,  0.0148007 , -0.0162282 ],\n",
       "        [ 0.16453269, -0.25001535, -0.15012616,  0.17862171, -0.06055209,\n",
       "         -0.23308802, -0.0423919 , -0.00729108,  0.21279517,  0.09833235],\n",
       "        [-0.0881086 ,  0.26254752, -0.2130987 , -0.06916878, -0.19790018,\n",
       "         -0.25069436, -0.2666383 ,  0.23414758,  0.06636998, -0.18332289],\n",
       "        [ 0.04168749, -0.07603854,  0.10415947, -0.15472883, -0.1086815 ,\n",
       "         -0.15298   , -0.24513581,  0.09403008,  0.09567377,  0.1008881 ],\n",
       "        [ 0.20546234, -0.22445145, -0.0488244 ,  0.02751219, -0.22986342,\n",
       "          0.04404479, -0.15249717, -0.11204168,  0.22244886, -0.10117501],\n",
       "        [ 0.02316049,  0.03603539, -0.01047543,  0.18046075,  0.09743828,\n",
       "          0.11344889, -0.06116323, -0.12670124,  0.06883001, -0.17569338],\n",
       "        [ 0.02097371,  0.20358002,  0.22842768,  0.0374237 ,  0.04380196,\n",
       "          0.1611417 ,  0.17453581, -0.23322855, -0.04974844, -0.03937247],\n",
       "        [ 0.07720998, -0.01938382, -0.1563249 ,  0.25183883, -0.01064882,\n",
       "         -0.00183648, -0.1956316 ,  0.24474785,  0.03689045, -0.10072002],\n",
       "        [ 0.12048396, -0.26156014, -0.21714318, -0.08651321,  0.2742385 ,\n",
       "         -0.22455049,  0.13682681,  0.14366129,  0.2764937 ,  0.19465682],\n",
       "        [ 0.19716948, -0.04067601,  0.28098664, -0.1021782 ,  0.08662224,\n",
       "         -0.20331147,  0.17248473,  0.16013327, -0.01107454, -0.24242005],\n",
       "        [ 0.14734697, -0.27801517,  0.18690783, -0.156816  , -0.26003408,\n",
       "         -0.10746588, -0.1493254 , -0.25055587,  0.08107334,  0.08915994],\n",
       "        [ 0.00452968, -0.18287502,  0.04151437, -0.15870652,  0.20532641,\n",
       "         -0.12024322, -0.28320652, -0.21554962,  0.2279658 ,  0.07623503],\n",
       "        [-0.27892455,  0.12103963, -0.15086044,  0.1694915 , -0.25004047,\n",
       "          0.28277788,  0.17829502,  0.05219415, -0.06406589,  0.01684254],\n",
       "        [-0.10006659, -0.2033962 ,  0.24007979, -0.12642092,  0.22674045,\n",
       "          0.11966839, -0.0176796 , -0.04424126, -0.1042064 , -0.04086019],\n",
       "        [-0.04561575, -0.08068188, -0.19063577, -0.06764576,  0.07728043,\n",
       "          0.2547867 , -0.17810732,  0.15485138,  0.13768691,  0.15850714],\n",
       "        [-0.11574678,  0.28343436, -0.17609969, -0.1474598 , -0.0857143 ,\n",
       "         -0.00559908, -0.13887374,  0.10470349,  0.26872918, -0.20601183],\n",
       "        [ 0.07282147, -0.23909423,  0.1503582 ,  0.27480373, -0.21075454,\n",
       "         -0.23047952,  0.06745219, -0.0914142 ,  0.20711821,  0.09022063],\n",
       "        [ 0.26168063, -0.14041944, -0.2096783 , -0.0379193 ,  0.07960597,\n",
       "         -0.03427455, -0.17707878,  0.2606111 ,  0.2798181 , -0.23373093],\n",
       "        [ 0.27059206,  0.09211862, -0.22747189, -0.0150933 , -0.11004953,\n",
       "          0.12491018, -0.07349393,  0.15746701, -0.02044392, -0.04531066]],\n",
       "       dtype=float32)>,\n",
       " <tf.Variable 'dense_3/bias:0' shape=(10,) dtype=float32, numpy=array([0., 0., 0., 0., 0., 0., 0., 0., 0., 0.], dtype=float32)>]"
      ]
     },
     "execution_count": 4,
     "metadata": {},
     "output_type": "execute_result"
    }
   ],
   "source": [
    "# Builds the model—now the model will expect samples of shape (3,). The\n",
    "# None in the input shape signals that the batch size could be anything.\n",
    "model.build(input_shape=(None, 3))\n",
    "model.weights"
   ]
  },
  {
   "cell_type": "markdown",
   "id": "3c8b59c3",
   "metadata": {},
   "source": [
    "### *The `summary()` method*"
   ]
  },
  {
   "cell_type": "code",
   "execution_count": 5,
   "id": "f21ad8f6",
   "metadata": {},
   "outputs": [
    {
     "name": "stdout",
     "output_type": "stream",
     "text": [
      "Model: \"sequential_1\"\n",
      "_________________________________________________________________\n",
      " Layer (type)                Output Shape              Param #   \n",
      "=================================================================\n",
      " dense_2 (Dense)             (None, 64)                256       \n",
      "                                                                 \n",
      " dense_3 (Dense)             (None, 10)                650       \n",
      "                                                                 \n",
      "=================================================================\n",
      "Total params: 906\n",
      "Trainable params: 906\n",
      "Non-trainable params: 0\n",
      "_________________________________________________________________\n"
     ]
    }
   ],
   "source": [
    "model.summary()"
   ]
  },
  {
   "cell_type": "markdown",
   "id": "f16889a1",
   "metadata": {},
   "source": [
    "### *Naming models and layers with the `name` argument*"
   ]
  },
  {
   "cell_type": "code",
   "execution_count": 6,
   "id": "985eb6ac",
   "metadata": {},
   "outputs": [
    {
     "name": "stdout",
     "output_type": "stream",
     "text": [
      "Model: \"my_example_model\"\n",
      "_________________________________________________________________\n",
      " Layer (type)                Output Shape              Param #   \n",
      "=================================================================\n",
      " my_first_layer (Dense)      (None, 64)                256       \n",
      "                                                                 \n",
      " my_last_layer (Dense)       (None, 10)                650       \n",
      "                                                                 \n",
      "=================================================================\n",
      "Total params: 906\n",
      "Trainable params: 906\n",
      "Non-trainable params: 0\n",
      "_________________________________________________________________\n"
     ]
    }
   ],
   "source": [
    "model = keras.Sequential(name='my_example_model')\n",
    "model.add(layers.Dense(64, activation='relu', name='my_first_layer'))\n",
    "model.add(layers.Dense(10, activation='relu', name='my_last_layer'))\n",
    "model.build((None, 3))\n",
    "model.summary()"
   ]
  },
  {
   "cell_type": "markdown",
   "id": "e61ef098",
   "metadata": {},
   "source": [
    "When building a Sequential model incrementally, it’s useful to be able to print a summary of what the current model looks like after you add each layer. But you can’t print\n",
    "a summary until the model is built! There’s actually a way to have your `Sequential`\n",
    "built on the fly: just declare the shape of the model’s inputs in advance. You can do\n",
    "this via the `Input` class.\n",
    "\n",
    "### *Specifying the input shape of your model in advance*"
   ]
  },
  {
   "cell_type": "code",
   "execution_count": 7,
   "id": "98fd8407",
   "metadata": {},
   "outputs": [
    {
     "name": "stdout",
     "output_type": "stream",
     "text": [
      "Model: \"sequential_2\"\n",
      "_________________________________________________________________\n",
      " Layer (type)                Output Shape              Param #   \n",
      "=================================================================\n",
      " dense_4 (Dense)             (None, 64)                256       \n",
      "                                                                 \n",
      "=================================================================\n",
      "Total params: 256\n",
      "Trainable params: 256\n",
      "Non-trainable params: 0\n",
      "_________________________________________________________________\n"
     ]
    }
   ],
   "source": [
    "model = keras.Sequential()\n",
    "# Use Input to declare the shape of the inputs. Note that the shape argument \n",
    "# must be the shape of each sample, not the shape of one batch.\n",
    "model.add(keras.Input(shape=(3,)))\n",
    "model.add(layers.Dense(64, activation=\"relu\"))\n",
    "model.summary()"
   ]
  },
  {
   "cell_type": "code",
   "execution_count": 8,
   "id": "01f5fa95",
   "metadata": {},
   "outputs": [
    {
     "name": "stdout",
     "output_type": "stream",
     "text": [
      "Model: \"sequential_2\"\n",
      "_________________________________________________________________\n",
      " Layer (type)                Output Shape              Param #   \n",
      "=================================================================\n",
      " dense_4 (Dense)             (None, 64)                256       \n",
      "                                                                 \n",
      " dense_5 (Dense)             (None, 10)                650       \n",
      "                                                                 \n",
      "=================================================================\n",
      "Total params: 906\n",
      "Trainable params: 906\n",
      "Non-trainable params: 0\n",
      "_________________________________________________________________\n"
     ]
    }
   ],
   "source": [
    "model.add(layers.Dense(10, activation=\"softmax\"))\n",
    "model.summary()"
   ]
  },
  {
   "cell_type": "markdown",
   "id": "eb64e655",
   "metadata": {},
   "source": [
    "## 7.2.2 The Functional API\n",
    "\n",
    "The Sequential model is easy to use, but its applicability is extremely limited: it can\n",
    "only express models with a single input and a single output, applying one layer after\n",
    "the other in a sequential fashion. In practice, it’s pretty common to encounter models\n",
    "with multiple inputs (say, an image and its metadata), multiple outputs (different\n",
    "things you want to predict about the data), or a nonlinear topology.\n",
    "\n",
    " In such cases, you’d build your model using the Functional API. This is what most\n",
    "Keras models you’ll encounter in the wild use. It’s fun and powerful—it feels like playing with LEGO bricks.\n",
    "\n",
    "### 7.2.2.1 A simple example\n",
    "\n",
    "Let’s start with something simple: the stack of two layers we used in the previous section. Its Functional API version looks like the following listing.\n",
    "\n",
    "### *A simple Functional model with two Dense layers*\n",
    "\n",
    "We started by declaring an `Input`. This `inputs` object holds information about the shape and dtype of the data that the\n",
    "model will process:"
   ]
  },
  {
   "cell_type": "code",
   "execution_count": 9,
   "id": "d10799b8",
   "metadata": {},
   "outputs": [
    {
     "name": "stdout",
     "output_type": "stream",
     "text": [
      "(None, 3) <dtype: 'float32'>\n"
     ]
    }
   ],
   "source": [
    "inputs = keras.Input(shape=(3,), name='my_input')\n",
    "\n",
    "# The model will process batches where each sample has shape (3,). \n",
    "# The number of samples per batch is variable (indicated by the None batch size).\n",
    "\n",
    "print(inputs.shape, inputs.dtype)"
   ]
  },
  {
   "cell_type": "markdown",
   "id": "65644969",
   "metadata": {},
   "source": [
    "We call such an object a *symbolic tensor*. It doesn’t contain any actual data, but it\n",
    "encodes the specifications of the actual tensors of data that the model will see when\n",
    "you use it. It *stands for* future tensors of data.\n",
    "\n",
    "Next, we created a layer and called it on the input. All Keras layers can be called both on real tensors of data and on these symbolic tensors. In the latter case, they return a new symbolic tensor, with updated shape and\n",
    "dtype information:"
   ]
  },
  {
   "cell_type": "code",
   "execution_count": 10,
   "id": "2d47ed84",
   "metadata": {},
   "outputs": [
    {
     "name": "stdout",
     "output_type": "stream",
     "text": [
      "(None, 64) <dtype: 'float32'>\n"
     ]
    }
   ],
   "source": [
    "features = layers.Dense(64, activation='relu')(inputs)\n",
    "print(features.shape, features.dtype)"
   ]
  },
  {
   "cell_type": "markdown",
   "id": "8e9f251a",
   "metadata": {},
   "source": [
    "After obtaining the final outputs, we instantiated the model by specifying its inputs\n",
    "and outputs in the `Model` constructor:"
   ]
  },
  {
   "cell_type": "code",
   "execution_count": 11,
   "id": "00d3d8f6",
   "metadata": {},
   "outputs": [
    {
     "name": "stdout",
     "output_type": "stream",
     "text": [
      "Model: \"model\"\n",
      "_________________________________________________________________\n",
      " Layer (type)                Output Shape              Param #   \n",
      "=================================================================\n",
      " my_input (InputLayer)       [(None, 3)]               0         \n",
      "                                                                 \n",
      " dense_6 (Dense)             (None, 64)                256       \n",
      "                                                                 \n",
      " dense_7 (Dense)             (None, 10)                650       \n",
      "                                                                 \n",
      "=================================================================\n",
      "Total params: 906\n",
      "Trainable params: 906\n",
      "Non-trainable params: 0\n",
      "_________________________________________________________________\n"
     ]
    }
   ],
   "source": [
    "outputs = layers.Dense(10, activation='softmax')(features)\n",
    "model = keras.Model(inputs=inputs, outputs=outputs)\n",
    "\n",
    "model.summary()"
   ]
  },
  {
   "cell_type": "markdown",
   "id": "baa79dc4",
   "metadata": {},
   "source": [
    "### 7.2.2.2 Multi-input, multi-output models\n",
    "\n",
    "Most deep learning models don’t look like lists—they look like\n",
    "graphs. They may, for instance, have multiple inputs or multiple outputs. It’s for this\n",
    "kind of model that the Functional API really shines.\n",
    "\n",
    " Let’s say you’re building a system to rank customer support tickets by priority and\n",
    "route them to the appropriate department. Your model has three inputs:\n",
    "- The title of the ticket (text input)\n",
    "- The text body of the ticket (text input)\n",
    "- Any tags added by the user (categorical input, assumed here to be one-hot encoded)\n",
    "\n",
    "We can encode the text inputs as arrays of ones and zeros of size `vocabulary_size`\n",
    "(see chapter 11 for detailed information about text encoding techniques).\n",
    "\n",
    " Your model also has two outputs:\n",
    "- The priority score of the ticket, a scalar between 0 and 1 (sigmoid output)\n",
    "- The department that should handle the ticket (a softmax over the set of departments)\n",
    "\n",
    "You can build this model in a few lines with the Functional API.\n",
    "\n",
    "### *A multi-input, multi-output Functional model*"
   ]
  },
  {
   "cell_type": "code",
   "execution_count": 12,
   "id": "a109248b",
   "metadata": {},
   "outputs": [],
   "source": [
    "vocabulary_size = 10000\n",
    "num_tags = 100\n",
    "num_departments = 4\n",
    "\n",
    "# Define model inputs.\n",
    "title = keras.Input(shape=(vocabulary_size,), name=\"title\")\n",
    "text_body = keras.Input(shape=(vocabulary_size,), name=\"text_body\")\n",
    "tags = keras.Input(shape=(num_tags,), name=\"tags\") \n",
    "\n",
    "# Combine input features into a single tensor, features, by concatenating them.\n",
    "features = layers.Concatenate()([title, text_body, tags])\n",
    "# Apply an intermediate layer to recombine input features into richer representations.\n",
    "features = layers.Dense(64, activation=\"relu\")(features)\n",
    "\n",
    "# Define model outputs.\n",
    "priority = layers.Dense(1, activation=\"sigmoid\", name=\"priority\")(features)\n",
    "department = layers.Dense(num_departments, activation=\"softmax\", name=\"department\")(features) \n",
    "\n",
    "# Create the model by specifying its inputs and outputs.\n",
    "model = keras.Model(inputs=[title, text_body, tags], outputs=[priority, department]) "
   ]
  },
  {
   "cell_type": "markdown",
   "id": "ae03ede3",
   "metadata": {},
   "source": [
    "### 7.2.2.3 Training a multi-input, multi-output model\n",
    "\n",
    "You can train your model in much the same way as you would train a Sequential\n",
    "model, by calling `fit()` with lists of input and output data. These lists of data should\n",
    "be in the same order as the inputs you passed to the `Model` constructor.\n",
    "\n",
    "### *Training a model by providing lists of input and target arrays*"
   ]
  },
  {
   "cell_type": "code",
   "execution_count": 13,
   "id": "81972fd5",
   "metadata": {},
   "outputs": [
    {
     "name": "stdout",
     "output_type": "stream",
     "text": [
      "40/40 [==============================] - 2s 18ms/step - loss: 86.5961 - priority_loss: 0.3261 - department_loss: 86.2699 - priority_mean_absolute_error: 0.4901 - department_accuracy: 0.2609\n",
      "40/40 [==============================] - 0s 6ms/step - loss: 96.3089 - priority_loss: 0.3312 - department_loss: 95.9776 - priority_mean_absolute_error: 0.4958 - department_accuracy: 0.2680\n",
      "40/40 [==============================] - 0s 6ms/step\n"
     ]
    }
   ],
   "source": [
    "import numpy as np\n",
    "num_samples = 1280\n",
    "\n",
    "# Dummy input data\n",
    "title_data = np.random.randint(0, 2, size=(num_samples, vocabulary_size))\n",
    "text_body_data = np.random.randint(0, 2, size=(num_samples, vocabulary_size))\n",
    "tags_data = np.random.randint(0, 2, size=(num_samples, num_tags)) \n",
    "# Dummy target data\n",
    "priority_data = np.random.random(size=(num_samples, 1))\n",
    "department_data = np.random.randint(0, 2, size=(num_samples, num_departments))\n",
    "\n",
    "model.compile(optimizer='rmsprop', \n",
    "              loss=['mean_squared_error', 'categorical_crossentropy'], \n",
    "              metrics=[['mean_absolute_error'], ['accuracy']])\n",
    "\n",
    "model.fit([title_data, text_body_data, tags_data], [priority_data, department_data], epochs=1)\n",
    "\n",
    "model.evaluate([title_data, text_body_data, tags_data], [priority_data, department_data])\n",
    "\n",
    "priority_preds, department_preds = model.predict([title_data, text_body_data, tags_data])"
   ]
  },
  {
   "cell_type": "markdown",
   "id": "37297abd",
   "metadata": {},
   "source": [
    "If you don’t want to rely on input order (for instance, because you have many inputs\n",
    "or outputs), you can also leverage the names you gave to the Input objects and the\n",
    "output layers, and pass data via dictionaries.\n",
    "\n",
    "### *Training a model by providing dicts of input and target arrays*"
   ]
  },
  {
   "cell_type": "code",
   "execution_count": 14,
   "id": "8eb582e9",
   "metadata": {},
   "outputs": [
    {
     "name": "stdout",
     "output_type": "stream",
     "text": [
      "40/40 [==============================] - 1s 19ms/step - loss: 61.4631 - priority_loss: 0.3312 - department_loss: 61.1319 - priority_mean_absolute_error: 0.4958 - department_accuracy: 0.3242\n",
      "40/40 [==============================] - 0s 6ms/step - loss: 47.8695 - priority_loss: 0.3312 - department_loss: 47.5384 - priority_mean_absolute_error: 0.4958 - department_accuracy: 0.1273\n",
      "40/40 [==============================] - 0s 6ms/step\n"
     ]
    }
   ],
   "source": [
    "model.compile(optimizer=\"rmsprop\",\n",
    "              loss={\"priority\": \"mean_squared_error\", \"department\": \"categorical_crossentropy\"}, \n",
    "              metrics={\"priority\": [\"mean_absolute_error\"], \"department\": [\"accuracy\"]})\n",
    "\n",
    "model.fit({\"title\": title_data, \"text_body\": text_body_data, \"tags\": tags_data},\n",
    "          {\"priority\": priority_data, \"department\": department_data}, \n",
    "          epochs=1)\n",
    "\n",
    "model.evaluate({\"title\": title_data, \"text_body\": text_body_data, \"tags\": tags_data},\n",
    "               {\"priority\": priority_data, \"department\": department_data})\n",
    "\n",
    "priority_preds, department_preds = model.predict(\n",
    "    {\"title\": title_data, \"text_body\": text_body_data, \"tags\": tags_data})"
   ]
  },
  {
   "cell_type": "markdown",
   "id": "288e34dd",
   "metadata": {},
   "source": [
    "### 7.2.2.4 The power of the Functional API: Access to layer connectivity\n",
    "\n",
    "A Functional model is an explicit graph data structure. This makes it possible to\n",
    "inspect how layers are connected and reuse previous graph nodes (which are layer\n",
    "outputs) as part of new models. It also nicely fits the “mental model” that most researchers use when thinking about a deep neural network: a graph of layers. This enables\n",
    "two important use cases: model visualization and feature extraction.\n",
    " Let’s visualize the connectivity of the model we just defined (the *topology* of the\n",
    "model). You can plot a Functional model as a graph with the `plot_model()` utility."
   ]
  },
  {
   "cell_type": "code",
   "execution_count": 19,
   "id": "f8523ab1",
   "metadata": {},
   "outputs": [
    {
     "data": {
      "image/png": "[encoded data removed]",
      "text/plain": [
       "<IPython.core.display.Image object>"
      ]
     },
     "execution_count": 19,
     "metadata": {},
     "output_type": "execute_result"
    }
   ],
   "source": [
    "import os\n",
    "os.environ['PATH'] += os.pathsep + \"D:/Graphviz/bin\"\n",
    "from tensorflow.keras.utils import plot_model\n",
    "plot_model(model, 'ticket_classifier.png')"
   ]
  },
  {
   "cell_type": "markdown",
   "id": "2140e4b1",
   "metadata": {},
   "source": [
    "You can add to this plot the input and output shapes of each layer in the model, which\n",
    "can be helpful during debugging."
   ]
  },
  {
   "cell_type": "code",
   "execution_count": 20,
   "id": "34da59b3",
   "metadata": {},
   "outputs": [
    {
     "data": {
      "image/png": "[encoded data removed]",
      "text/plain": [
       "<IPython.core.display.Image object>"
      ]
     },
     "execution_count": 20,
     "metadata": {},
     "output_type": "execute_result"
    }
   ],
   "source": [
    "plot_model(model, \"ticket_classifier_with_shape_info.png\", show_shapes=True)"
   ]
  },
  {
   "cell_type": "markdown",
   "id": "b288141f",
   "metadata": {},
   "source": [
    "The “None” in the tensor shapes represents the batch size: this model allows batches\n",
    "of any size.\n",
    "\n",
    " Access to layer connectivity also means that you can inspect and reuse individual\n",
    "nodes (layer calls) in the graph. The `model.layers` model property provides the list\n",
    "of layers that make up the model, and for each layer you can query `layer.input` and\n",
    "`layer.output`.\n",
    "\n",
    "### *Retrieving the inputs or outputs of a layer in a Functional model*"
   ]
  },
  {
   "cell_type": "code",
   "execution_count": 21,
   "id": "4f58ccca",
   "metadata": {},
   "outputs": [
    {
     "data": {
      "text/plain": [
       "[<keras.engine.input_layer.InputLayer at 0x2af14e47eb0>,\n",
       " <keras.engine.input_layer.InputLayer at 0x2af14ed80d0>,\n",
       " <keras.engine.input_layer.InputLayer at 0x2af14edb2b0>,\n",
       " <keras.layers.merging.concatenate.Concatenate at 0x2af14ed8e80>,\n",
       " <keras.layers.core.dense.Dense at 0x2af14ee2710>,\n",
       " <keras.layers.core.dense.Dense at 0x2af14ee1450>,\n",
       " <keras.layers.core.dense.Dense at 0x2af14ee2410>]"
      ]
     },
     "execution_count": 21,
     "metadata": {},
     "output_type": "execute_result"
    }
   ],
   "source": [
    "model.layers"
   ]
  },
  {
   "cell_type": "code",
   "execution_count": 22,
   "id": "d9e69eb7",
   "metadata": {},
   "outputs": [
    {
     "data": {
      "text/plain": [
       "[<KerasTensor: shape=(None, 10000) dtype=float32 (created by layer 'title')>,\n",
       " <KerasTensor: shape=(None, 10000) dtype=float32 (created by layer 'text_body')>,\n",
       " <KerasTensor: shape=(None, 100) dtype=float32 (created by layer 'tags')>]"
      ]
     },
     "execution_count": 22,
     "metadata": {},
     "output_type": "execute_result"
    }
   ],
   "source": [
    "model.layers[3].input"
   ]
  },
  {
   "cell_type": "code",
   "execution_count": 23,
   "id": "328adfe1",
   "metadata": {},
   "outputs": [
    {
     "data": {
      "text/plain": [
       "<KerasTensor: shape=(None, 20100) dtype=float32 (created by layer 'concatenate')>"
      ]
     },
     "execution_count": 23,
     "metadata": {},
     "output_type": "execute_result"
    }
   ],
   "source": [
    "model.layers[3].output"
   ]
  },
  {
   "cell_type": "markdown",
   "id": "1240a353",
   "metadata": {},
   "source": [
    "This enables you to do *feature extraction*, creating models that reuse intermediate features from another model.\n",
    "\n",
    " Let’s say you want to add another output to the previous model—you want to estimate how long a given issue ticket will take to resolve, a kind of difficulty rating. You\n",
    "could do this via a classification layer over three categories: “quick,” “medium,” and\n",
    "“difficult.” You don’t need to recreate and retrain a model from scratch. You can start\n",
    "from the intermediate features of your previous model, since you have access to them,\n",
    "like this.\n",
    "\n",
    "### *Creating a new model by reusing intermediate layer outputs*"
   ]
  },
  {
   "cell_type": "code",
   "execution_count": 27,
   "id": "9a9e993e",
   "metadata": {},
   "outputs": [],
   "source": [
    "# layers[4] is our intermediate Dense layer\n",
    "features = model.layers[4].output\n",
    "difficulty = layers.Dense(3, activation=\"softmax\", name=\"difficulty\")(features)\n",
    "\n",
    "new_model = keras.Model(inputs=[title, text_body, tags], outputs=[priority, department, difficulty])"
   ]
  },
  {
   "cell_type": "code",
   "execution_count": 28,
   "id": "94eb80c4",
   "metadata": {},
   "outputs": [
    {
     "data": {
      "image/png": "[encoded data removed]",
      "text/plain": [
       "<IPython.core.display.Image object>"
      ]
     },
     "execution_count": 28,
     "metadata": {},
     "output_type": "execute_result"
    }
   ],
   "source": [
    "plot_model(new_model, \"updated_ticket_classifier.png\", show_shapes=True)"
   ]
  },
  {
   "cell_type": "markdown",
   "id": "6e87eafa",
   "metadata": {},
   "source": [
    "## 7.2.3 Subclassing the Model class\n",
    "\n",
    "The last model-building pattern you should know about is the most advanced one:\n",
    "Model subclassing. You learned in chapter 3 how to subclass the Layer class to create\n",
    "custom layers. Subclassing Model is pretty similar:\n",
    "- In the `__init__()` method, define the layers the model will use.\n",
    "- In the `call()` method, define the forward pass of the model, reusing the layers previously created.\n",
    "- Instantiate your subclass, and call it on data to create its weights.\n",
    "\n",
    "### 7.2.3.1 Rewriting our previous example as a subclassed model\n",
    "Let’s take a look at a simple example: we will reimplement the customer support ticket\n",
    "management model using a `Model` subclass.\n",
    "### *A simple subclassed model*"
   ]
  },
  {
   "cell_type": "code",
   "execution_count": 31,
   "id": "7a1f0b0f",
   "metadata": {},
   "outputs": [],
   "source": [
    "class CustomerTicketModel(keras.Model):\n",
    "    \n",
    "    def __init__(self, num_departments):\n",
    "        super().__init__()\n",
    "        # Define sublayers in the constructor.\n",
    "        self.concat_layer = layers.Concatenate()\n",
    "        self.mixing_layer = layers.Dense(64, activation='relu')\n",
    "        self.priority_scorer = layers.Dense(1, activation='sigmoid')\n",
    "        self.department_classifier = layers.Dense(num_departments, activation='softmax')\n",
    "        \n",
    "    def call(self, inputs):\n",
    "        # Define the forward pass in the call() method.\n",
    "        title = inputs['title']\n",
    "        text_body = inputs['text_body']\n",
    "        tags = inputs['tags']\n",
    "        \n",
    "        features = self.concat_layer([title, text_body, tags])\n",
    "        features = self.mixing_layer(features)\n",
    "        \n",
    "        priority = self.priority_scorer(features)\n",
    "        department = self.department_classifier(features)\n",
    "        return priority, department"
   ]
  },
  {
   "cell_type": "markdown",
   "id": "6df256c7",
   "metadata": {},
   "source": [
    "Once you’ve defined the model, you can instantiate it. Note that it will only create its\n",
    "weights the first time you call it on some data, much like `Layer` subclasses:"
   ]
  },
  {
   "cell_type": "code",
   "execution_count": 32,
   "id": "a7f5c713",
   "metadata": {},
   "outputs": [],
   "source": [
    "model = CustomerTicketModel(num_departments=4)\n",
    "priority, department = model({\"title\": title_data, \"text_body\": text_body_data, \"tags\": tags_data})"
   ]
  },
  {
   "cell_type": "markdown",
   "id": "9bb30e1c",
   "metadata": {},
   "source": [
    "So far, everything looks very similar to `Layer` subclassing, a workflow you encountered\n",
    "in chapter 3. What, then, is the difference between a `Layer` subclass and a `Model` subclass? It’s simple: a “layer” is a building block you use to create models, and a “model”\n",
    "is the top-level object that you will actually train, export for inference, etc. In short, a\n",
    "`Model` has `fit()`, `evaluate()`, and `predict()` methods. Layers don’t. Other than that,\n",
    "the two classes are virtually identical. (Another difference is that you can *save* a model\n",
    "to a file on disk, which we will cover in a few sections.)\n",
    " You can compile and train a `Model` subclass just like a Sequential or Functional\n",
    "model:"
   ]
  },
  {
   "cell_type": "code",
   "execution_count": 33,
   "id": "5851cee1",
   "metadata": {},
   "outputs": [
    {
     "name": "stdout",
     "output_type": "stream",
     "text": [
      "40/40 [==============================] - 2s 18ms/step - loss: 21.5480 - output_1_loss: 0.3257 - output_2_loss: 21.2223 - output_1_mean_absolute_error: 0.4903 - output_2_accuracy: 0.1820\n",
      "40/40 [==============================] - 0s 5ms/step - loss: 16.2446 - output_1_loss: 0.3312 - output_2_loss: 15.9134 - output_1_mean_absolute_error: 0.4958 - output_2_accuracy: 0.0547\n",
      "40/40 [==============================] - 0s 5ms/step\n"
     ]
    }
   ],
   "source": [
    "# The structure of what you pass as the loss and metrics arguments must match exactly what gets\n",
    "# returned by call()—here, a list of two elements.\n",
    "model.compile(optimizer=\"rmsprop\",\n",
    "              loss=[\"mean_squared_error\", \"categorical_crossentropy\"],\n",
    "              metrics=[[\"mean_absolute_error\"], [\"accuracy\"]])\n",
    "\n",
    "# The structure of the input data must match exactly what is expected by the call() method—\n",
    "# here, a dict with keys title, text_body, and tags.\n",
    "model.fit({\"title\": title_data, \"text_body\": text_body_data, \"tags\": tags_data},\n",
    "          # The structure of the target data must match exactly what is\n",
    "          # returned by the call() method—here, a list of two elements.\n",
    "          [priority_data, department_data],\n",
    "          epochs=1)\n",
    "\n",
    "model.evaluate({\"title\": title_data, \"text_body\": text_body_data, \"tags\": tags_data},\n",
    "               [priority_data, department_data])\n",
    "\n",
    "priority_preds, department_preds = model.predict({\"title\": title_data, \"text_body\": text_body_data, \"tags\": tags_data})"
   ]
  },
  {
   "cell_type": "markdown",
   "id": "c2b0ba29",
   "metadata": {},
   "source": [
    "The `Model` subclassing workflow is the most flexible way to build a model. It enables\n",
    "you to build models that cannot be expressed as directed acyclic graphs of layers—\n",
    "imagine, for instance, a model where the `call()` method uses layers inside a for loop,\n",
    "or even calls them recursively. Anything is possible—you’re in charge.\n",
    "\n",
    "### 7.2.3.2 Beware: What subclassed models don't support\n",
    "\n",
    "This freedom comes at a cost: with subclassed models, you are responsible for more of\n",
    "the model logic, which means your potential error surface is much larger. As a result,\n",
    "you will have more debugging work to do. You are developing a new Python object,\n",
    "not just snapping together LEGO bricks.\n",
    "\n",
    "Functional and subclassed models are also substantially different in nature. A Functional model is an explicit data structure—a graph of layers, which you can view, inspect,\n",
    "and modify. A subclassed model is a piece of bytecode—a Python class with a `call()`\n",
    "method that contains raw code. This is the source of the subclassing workflow’s flexibility—you can code up whatever functionality you like—but it introduces new limitations.\n",
    "\n",
    " For instance, because the way layers are connected to each other is hidden inside\n",
    "the body of the `call()` method, you cannot access that information. Calling `summary()` will not display layer connectivity, and you cannot plot the model topology via\n",
    "`plot_model()`. Likewise, if you have a subclassed model, you cannot access the nodes\n",
    "of the graph of layers to do feature extraction because there is simply no graph. Once\n",
    "the model is instantiated, its forward pass becomes a complete black box. "
   ]
  },
  {
   "cell_type": "markdown",
   "id": "8a13e62b",
   "metadata": {},
   "source": [
    "## 7.2.4 Mixing and matching different components\n",
    "\n",
    "Crucially, choosing one of these patterns—the Sequential model, the Functional API,\n",
    "or `Model` subclassing—does not lock you out of the others. All models in the Keras API\n",
    "can smoothly interoperate with each other, whether they’re Sequential models, Functional models, or subclassed models written from scratch. They’re all part of the same\n",
    "spectrum of workflows.\n",
    "\n",
    " For instance, you can use a subclassed layer or model in a Functional model.\n",
    " \n",
    "### *Creating a Functional model that includes a subclassed model*"
   ]
  },
  {
   "cell_type": "code",
   "execution_count": 34,
   "id": "bd61f201",
   "metadata": {},
   "outputs": [],
   "source": [
    "class Classifier(keras.Model):\n",
    "    \n",
    "    def __init__(self, num_classes=2):\n",
    "        super().__init__()\n",
    "        if num_classes == 2:\n",
    "            num_units = 1\n",
    "            activation = 'sigmoid'\n",
    "        else:\n",
    "            num_units = num_classes\n",
    "            activation = 'softmax'\n",
    "        self.dense = layers.Dense(num_units, activation=activation)\n",
    "        \n",
    "    def call(self, inputs):\n",
    "        return self.dense(inputs)\n",
    "    \n",
    "inputs = keras.Input(shape=(3,))\n",
    "features = layers.Dense(64, activation='relu')(inputs)\n",
    "outputs = Classifier(num_classes=10)(features)\n",
    "model = keras.Model(inputs=inputs, outputs=outputs)"
   ]
  },
  {
   "cell_type": "markdown",
   "id": "b7e84bc3",
   "metadata": {},
   "source": [
    "Inversely, you can use a Functional model as part of a subclassed layer or model. \n",
    "\n",
    "### *Creating a subclassed model that includes a Functional model*"
   ]
  },
  {
   "cell_type": "code",
   "execution_count": 35,
   "id": "e5bc052f",
   "metadata": {},
   "outputs": [],
   "source": [
    "inputs = keras.Input(shape=(64,))\n",
    "outputs = layers.Dense(1, activation='sigmoid')(inputs)\n",
    "binary_classifier = keras.Model(inputs=inputs, outputs=outputs)\n",
    "\n",
    "class MyModel(keras.Model):\n",
    "    \n",
    "    def __init__(self, num_classes=2):\n",
    "        super().__init__()\n",
    "        self.dense = layers.Dense(64, activation='relu')\n",
    "        self.classifier = binary_classifier\n",
    "    \n",
    "    def call(self, inputs):\n",
    "        features = self.dense(inputs)\n",
    "        return self.classifier(features)\n",
    "\n",
    "model = MyModel()"
   ]
  },
  {
   "cell_type": "markdown",
   "id": "355c2d96",
   "metadata": {},
   "source": [
    "## 7.2.5 Remember: Use the right tool for the job\n",
    "\n",
    "You’ve learned about the spectrum of workflows for building Keras models, from the\n",
    "simplest workflow, the Sequential model, to the most advanced one, model subclassing. When should you use one over the other? Each one has its pros and cons—pick\n",
    "the one most suitable for the job at hand.\n",
    "\n",
    " In general, the Functional API provides you with a pretty good trade-off between\n",
    "ease of use and flexibility. It also gives you direct access to layer connectivity, which is\n",
    "very powerful for use cases such as model plotting or feature extraction. If you can use\n",
    "the Functional API—that is, if your model can be expressed as a directed acyclic graph\n",
    "of layers—I recommend using it over model subclassing.\n",
    " \n",
    " Going forward, all examples in this book will use the Functional API, simply\n",
    "because all the models we will work with are expressible as graphs of layers. We will,\n",
    "however, make frequent use of subclassed layers. In general, using Functional models\n",
    "that include subclassed layers provides the best of both worlds: high development flexibility while retaining the advantages of the Functional API. "
   ]
  },
  {
   "cell_type": "code",
   "execution_count": null,
   "id": "3731b6b9",
   "metadata": {},
   "outputs": [],
   "source": []
  }
 ],
 "metadata": {
  "kernelspec": {
   "display_name": "Python 3 (ipykernel)",
   "language": "python",
   "name": "python3"
  },
  "language_info": {
   "codemirror_mode": {
    "name": "ipython",
    "version": 3
   },
   "file_extension": ".py",
   "mimetype": "text/x-python",
   "name": "python",
   "nbconvert_exporter": "python",
   "pygments_lexer": "ipython3",
   "version": "3.10.9"
  }
 },
 "nbformat": 4,
 "nbformat_minor": 5
}
