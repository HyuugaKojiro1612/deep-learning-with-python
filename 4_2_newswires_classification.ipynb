{
 "cells": [
  {
   "attachments": {},
   "cell_type": "markdown",
   "metadata": {},
   "source": [
    "# 4.2 Classifying newswires: a multiclass classification example"
   ]
  },
  {
   "attachments": {},
   "cell_type": "markdown",
   "metadata": {},
   "source": [
    "In this section, you’ll build a network to classify Reuters newswires into 46 mutually exclusive topics. Because you have many classes, this problem is an instance of *multiclass classification*; and because each data point should be classified into only one category, the problem is more specifically an instance of *single-label, multiclass classification*. If each data point could belong to multiple categories (in this case, topics), you’d be facing a *multilabel, multiclass classification* problem."
   ]
  },
  {
   "attachments": {},
   "cell_type": "markdown",
   "metadata": {},
   "source": [
    "## 4.2.1 The Reuters dataset\n",
    "You’ll work with the Reuters dataset, a set of short newswires and their topics, published by Reuters in 1986. It’s a simple, widely used toy dataset for text classification. There are 46 different topics; some topics are more represented than others, but each topic has at least 10 examples in the training set."
   ]
  },
  {
   "cell_type": "code",
   "execution_count": 2,
   "metadata": {
    "execution": {
     "iopub.execute_input": "2023-05-06T16:49:14.732066Z",
     "iopub.status.busy": "2023-05-06T16:49:14.731637Z",
     "iopub.status.idle": "2023-05-06T16:49:24.739554Z",
     "shell.execute_reply": "2023-05-06T16:49:24.738476Z",
     "shell.execute_reply.started": "2023-05-06T16:49:14.732030Z"
    }
   },
   "outputs": [],
   "source": [
    "from keras.datasets import reuters\n",
    "(train_data, train_labels), (test_data, test_labels) = reuters.load_data(\n",
    "num_words=10000)"
   ]
  },
  {
   "attachments": {},
   "cell_type": "markdown",
   "metadata": {},
   "source": [
    "As with the IMDB dataset, the argument num_words=10000 restricts the data to the 10,000 most frequently occurring words found in the data.\n",
    "You have 8,982 training examples and 2,246 test examples:"
   ]
  },
  {
   "cell_type": "code",
   "execution_count": 3,
   "metadata": {
    "execution": {
     "iopub.execute_input": "2023-05-06T16:49:27.963520Z",
     "iopub.status.busy": "2023-05-06T16:49:27.962403Z",
     "iopub.status.idle": "2023-05-06T16:49:27.968934Z",
     "shell.execute_reply": "2023-05-06T16:49:27.967941Z",
     "shell.execute_reply.started": "2023-05-06T16:49:27.963481Z"
    }
   },
   "outputs": [
    {
     "name": "stdout",
     "output_type": "stream",
     "text": [
      "8982\n",
      "2246\n"
     ]
    }
   ],
   "source": [
    "print(len(train_data))\n",
    "print(len(test_data))"
   ]
  },
  {
   "attachments": {},
   "cell_type": "markdown",
   "metadata": {},
   "source": [
    "As with the IMDB reviews, each example is a list of integers (word indices):"
   ]
  },
  {
   "cell_type": "code",
   "execution_count": 4,
   "metadata": {
    "execution": {
     "iopub.execute_input": "2023-05-06T16:49:30.338009Z",
     "iopub.status.busy": "2023-05-06T16:49:30.337593Z",
     "iopub.status.idle": "2023-05-06T16:49:30.344370Z",
     "shell.execute_reply": "2023-05-06T16:49:30.342975Z",
     "shell.execute_reply.started": "2023-05-06T16:49:30.337980Z"
    }
   },
   "outputs": [
    {
     "name": "stdout",
     "output_type": "stream",
     "text": [
      "[1, 245, 273, 207, 156, 53, 74, 160, 26, 14, 46, 296, 26, 39, 74, 2979, 3554, 14, 46, 4689, 4329, 86, 61, 3499, 4795, 14, 61, 451, 4329, 17, 12]\n"
     ]
    }
   ],
   "source": [
    "print(train_data[10])"
   ]
  },
  {
   "cell_type": "code",
   "execution_count": 5,
   "metadata": {
    "execution": {
     "iopub.execute_input": "2023-05-06T16:49:32.170708Z",
     "iopub.status.busy": "2023-05-06T16:49:32.170271Z",
     "iopub.status.idle": "2023-05-06T16:49:32.176758Z",
     "shell.execute_reply": "2023-05-06T16:49:32.175465Z",
     "shell.execute_reply.started": "2023-05-06T16:49:32.170657Z"
    }
   },
   "outputs": [
    {
     "name": "stdout",
     "output_type": "stream",
     "text": [
      "3\n"
     ]
    }
   ],
   "source": [
    "print(train_labels[10])"
   ]
  },
  {
   "attachments": {},
   "cell_type": "markdown",
   "metadata": {},
   "source": [
    "## 4.2.2 Preparing the data\n",
    "### *Encoding the data*"
   ]
  },
  {
   "cell_type": "code",
   "execution_count": 6,
   "metadata": {
    "execution": {
     "iopub.execute_input": "2023-05-06T16:49:33.834830Z",
     "iopub.status.busy": "2023-05-06T16:49:33.834417Z",
     "iopub.status.idle": "2023-05-06T16:49:34.400924Z",
     "shell.execute_reply": "2023-05-06T16:49:34.399396Z",
     "shell.execute_reply.started": "2023-05-06T16:49:33.834796Z"
    }
   },
   "outputs": [],
   "source": [
    "import numpy as np\n",
    "\n",
    "def vectorize_sequences(sequences, dimension=10000):\n",
    "    results = np.zeros((len(sequences), dimension))\n",
    "    for i, sequence in enumerate(sequences):\n",
    "        results[i, sequence] = 1.\n",
    "    return results\n",
    "\n",
    "x_train = vectorize_sequences(train_data)\n",
    "x_test = vectorize_sequences(test_data)"
   ]
  },
  {
   "attachments": {},
   "cell_type": "markdown",
   "metadata": {},
   "source": [
    "To vectorize the labels, there are two possibilities: you can cast the label list as an integer tensor, or you can use one-hot encoding. One-hot encoding is a widely used format for categorical data, also called *categorical encoding*. For a more detailed explanation of one-hot encoding, see section 6.1. In this case, one-hot encoding of the labels consists of embedding each label as an all-zero vector with a 1 in the place of\n",
    "the label index. Here’s an example:"
   ]
  },
  {
   "cell_type": "code",
   "execution_count": 7,
   "metadata": {
    "execution": {
     "iopub.execute_input": "2023-05-06T16:49:37.860512Z",
     "iopub.status.busy": "2023-05-06T16:49:37.859700Z",
     "iopub.status.idle": "2023-05-06T16:49:37.872804Z",
     "shell.execute_reply": "2023-05-06T16:49:37.871467Z",
     "shell.execute_reply.started": "2023-05-06T16:49:37.860470Z"
    }
   },
   "outputs": [],
   "source": [
    "def to_one_hot(labels, dimension=46):\n",
    "    results = np.zeros((len(labels), dimension))\n",
    "    for i, label in enumerate(labels):\n",
    "        results[i, label] = 1.\n",
    "    return results\n",
    "one_hot_train_labels = to_one_hot(train_labels)\n",
    "one_hot_test_labels = to_one_hot(test_labels)"
   ]
  },
  {
   "attachments": {},
   "cell_type": "markdown",
   "metadata": {},
   "source": [
    "Note that there is a built-in way to do this in Keras, which you’ve already seen in action\n",
    "in the MNIST example:"
   ]
  },
  {
   "cell_type": "code",
   "execution_count": 8,
   "metadata": {
    "execution": {
     "iopub.execute_input": "2023-05-06T16:49:42.482514Z",
     "iopub.status.busy": "2023-05-06T16:49:42.482132Z",
     "iopub.status.idle": "2023-05-06T16:49:42.489843Z",
     "shell.execute_reply": "2023-05-06T16:49:42.488457Z",
     "shell.execute_reply.started": "2023-05-06T16:49:42.482483Z"
    }
   },
   "outputs": [],
   "source": [
    "from keras.utils.np_utils import to_categorical\n",
    "one_hot_train_labels = to_categorical(train_labels)\n",
    "one_hot_test_labels = to_categorical(test_labels)"
   ]
  },
  {
   "attachments": {},
   "cell_type": "markdown",
   "metadata": {},
   "source": [
    "## 4.2.3 Building your network\n",
    "This topic-classification problem looks similar to the previous movie-review classification problem: in both cases, you’re trying to classify short snippets of text. But there is a new constraint here: the number of output classes has gone from 2 to 46. The dimensionality of the output space is much larger.\n",
    "\n",
    " In a stack of `Dense` layers like that you’ve been using, each layer can only access information present in the output of the previous layer. If one layer drops some information relevant to the classification problem, this information can never be recovered by later layers: each layer can potentially become an information bottleneck. In the previous example, you used 16-dimensional intermediate layers, but a 16-dimensional space may\n",
    "be too limited to learn to separate 46 different classes: such small layers may act as information bottlenecks, permanently dropping relevant information.\n",
    "\n",
    " For this reason you’ll use larger layers. Let’s go with 64 units."
   ]
  },
  {
   "attachments": {},
   "cell_type": "markdown",
   "metadata": {},
   "source": [
    "### *Model definition*"
   ]
  },
  {
   "cell_type": "code",
   "execution_count": 9,
   "metadata": {
    "execution": {
     "iopub.execute_input": "2023-05-06T16:49:46.274503Z",
     "iopub.status.busy": "2023-05-06T16:49:46.274125Z",
     "iopub.status.idle": "2023-05-06T16:49:46.489088Z",
     "shell.execute_reply": "2023-05-06T16:49:46.487993Z",
     "shell.execute_reply.started": "2023-05-06T16:49:46.274475Z"
    }
   },
   "outputs": [],
   "source": [
    "from keras import models\n",
    "from keras import layers\n",
    "\n",
    "model = models.Sequential()\n",
    "model.add(layers.Dense(64, activation='relu', input_shape=(10000,)))\n",
    "model.add(layers.Dense(64, activation='relu'))\n",
    "model.add(layers.Dense(46, activation='softmax'))"
   ]
  },
  {
   "attachments": {},
   "cell_type": "markdown",
   "metadata": {},
   "source": [
    "There are two other things you should note about this architecture:\n",
    "- You end the network with a `Dense` layer of size 46. This means for each input sample, the network will output a 46-dimensional vector. Each entry in this vector (each dimension) will encode a different output class.\n",
    "- The last layer uses a `softmax` activation. You saw this pattern in the MNIST example. It means the network will output a *probability distribution* over the 46 different output classes—for every input sample, the network will produce a 46-dimensional output vector, where `output[i]` is the probability that the samplebelongs to class `i`. The 46 scores will sum to 1."
   ]
  },
  {
   "attachments": {},
   "cell_type": "markdown",
   "metadata": {},
   "source": [
    "### *Compiling the model*\n",
    "The best loss function to use in this case is `categorical_crossentropy`. It measures the distance between two probability distributions: here, between the probability distribution output by the network and the true distribution of the labels. By minimizing the distance between these two distributions, you train the network to output something as close as possible to the true labels."
   ]
  },
  {
   "cell_type": "code",
   "execution_count": 10,
   "metadata": {
    "execution": {
     "iopub.execute_input": "2023-05-06T16:49:50.091763Z",
     "iopub.status.busy": "2023-05-06T16:49:50.091249Z",
     "iopub.status.idle": "2023-05-06T16:49:50.111553Z",
     "shell.execute_reply": "2023-05-06T16:49:50.110246Z",
     "shell.execute_reply.started": "2023-05-06T16:49:50.091716Z"
    }
   },
   "outputs": [],
   "source": [
    "model.compile(optimizer='rmsprop',\\\n",
    "              loss='categorical_crossentropy',\\\n",
    "              metrics=['accuracy'])"
   ]
  },
  {
   "attachments": {},
   "cell_type": "markdown",
   "metadata": {},
   "source": [
    "## 4.2.4 Validating your approach\n",
    "### *Setting aside a validation set*\n",
    "Let’s set apart 1,000 samples in the training data to use as a validation set."
   ]
  },
  {
   "cell_type": "code",
   "execution_count": 11,
   "metadata": {
    "execution": {
     "iopub.execute_input": "2023-05-06T16:49:52.833587Z",
     "iopub.status.busy": "2023-05-06T16:49:52.833194Z",
     "iopub.status.idle": "2023-05-06T16:49:52.839099Z",
     "shell.execute_reply": "2023-05-06T16:49:52.837930Z",
     "shell.execute_reply.started": "2023-05-06T16:49:52.833552Z"
    }
   },
   "outputs": [],
   "source": [
    "x_val = x_train[:1000]\n",
    "partial_x_train = x_train[1000:]\n",
    "y_val = one_hot_train_labels[:1000]\n",
    "partial_y_train = one_hot_train_labels[1000:]"
   ]
  },
  {
   "attachments": {},
   "cell_type": "markdown",
   "metadata": {},
   "source": [
    "### *Training the model*\n",
    "Now, let’s train the network for 20 epochs."
   ]
  },
  {
   "cell_type": "code",
   "execution_count": 12,
   "metadata": {
    "execution": {
     "iopub.execute_input": "2023-05-06T16:49:56.228402Z",
     "iopub.status.busy": "2023-05-06T16:49:56.228031Z",
     "iopub.status.idle": "2023-05-06T16:50:18.365167Z",
     "shell.execute_reply": "2023-05-06T16:50:18.364142Z",
     "shell.execute_reply.started": "2023-05-06T16:49:56.228374Z"
    }
   },
   "outputs": [
    {
     "name": "stdout",
     "output_type": "stream",
     "text": [
      "Epoch 1/20\n",
      "16/16 [==============================] - 4s 127ms/step - loss: 2.7163 - accuracy: 0.5070 - val_loss: 1.8386 - val_accuracy: 0.6290\n",
      "Epoch 2/20\n",
      "16/16 [==============================] - 1s 83ms/step - loss: 1.5368 - accuracy: 0.6761 - val_loss: 1.3684 - val_accuracy: 0.6980\n",
      "Epoch 3/20\n",
      "16/16 [==============================] - 2s 96ms/step - loss: 1.1755 - accuracy: 0.7481 - val_loss: 1.1786 - val_accuracy: 0.7330\n",
      "Epoch 4/20\n",
      "16/16 [==============================] - 1s 88ms/step - loss: 0.9616 - accuracy: 0.7958 - val_loss: 1.0782 - val_accuracy: 0.7620\n",
      "Epoch 5/20\n",
      "16/16 [==============================] - 1s 92ms/step - loss: 0.8020 - accuracy: 0.8296 - val_loss: 1.0081 - val_accuracy: 0.7800\n",
      "Epoch 6/20\n",
      "16/16 [==============================] - 1s 84ms/step - loss: 0.6734 - accuracy: 0.8547 - val_loss: 0.9612 - val_accuracy: 0.7960\n",
      "Epoch 7/20\n",
      "16/16 [==============================] - 1s 82ms/step - loss: 0.5647 - accuracy: 0.8812 - val_loss: 0.9179 - val_accuracy: 0.8120\n",
      "Epoch 8/20\n",
      "16/16 [==============================] - 2s 113ms/step - loss: 0.4726 - accuracy: 0.9033 - val_loss: 0.8809 - val_accuracy: 0.8110\n",
      "Epoch 9/20\n",
      "16/16 [==============================] - 1s 61ms/step - loss: 0.4030 - accuracy: 0.9178 - val_loss: 0.8749 - val_accuracy: 0.8100\n",
      "Epoch 10/20\n",
      "16/16 [==============================] - 1s 78ms/step - loss: 0.3390 - accuracy: 0.9306 - val_loss: 0.8975 - val_accuracy: 0.8010\n",
      "Epoch 11/20\n",
      "16/16 [==============================] - 1s 90ms/step - loss: 0.2964 - accuracy: 0.9371 - val_loss: 0.8822 - val_accuracy: 0.8120\n",
      "Epoch 12/20\n",
      "16/16 [==============================] - 1s 73ms/step - loss: 0.2619 - accuracy: 0.9420 - val_loss: 0.8659 - val_accuracy: 0.8150\n",
      "Epoch 13/20\n",
      "16/16 [==============================] - 1s 87ms/step - loss: 0.2334 - accuracy: 0.9456 - val_loss: 0.8853 - val_accuracy: 0.8070\n",
      "Epoch 14/20\n",
      "16/16 [==============================] - 2s 103ms/step - loss: 0.2086 - accuracy: 0.9491 - val_loss: 0.8864 - val_accuracy: 0.8130\n",
      "Epoch 15/20\n",
      "16/16 [==============================] - 1s 87ms/step - loss: 0.1853 - accuracy: 0.9534 - val_loss: 0.8824 - val_accuracy: 0.8170\n",
      "Epoch 16/20\n",
      "16/16 [==============================] - 1s 93ms/step - loss: 0.1702 - accuracy: 0.9548 - val_loss: 0.8909 - val_accuracy: 0.8120\n",
      "Epoch 17/20\n",
      "16/16 [==============================] - 2s 136ms/step - loss: 0.1631 - accuracy: 0.9541 - val_loss: 0.9275 - val_accuracy: 0.8020\n",
      "Epoch 18/20\n",
      "16/16 [==============================] - 2s 98ms/step - loss: 0.1529 - accuracy: 0.9538 - val_loss: 0.9301 - val_accuracy: 0.8030\n",
      "Epoch 19/20\n",
      "16/16 [==============================] - 1s 76ms/step - loss: 0.1429 - accuracy: 0.9563 - val_loss: 0.9346 - val_accuracy: 0.8110\n",
      "Epoch 20/20\n",
      "16/16 [==============================] - 1s 91ms/step - loss: 0.1429 - accuracy: 0.9548 - val_loss: 0.9557 - val_accuracy: 0.8070\n"
     ]
    }
   ],
   "source": [
    "history = model.fit(partial_x_train, partial_y_train,\n",
    "                    epochs=20, batch_size=512,\n",
    "                    validation_data=(x_val, y_val))"
   ]
  },
  {
   "cell_type": "code",
   "execution_count": 13,
   "metadata": {
    "execution": {
     "iopub.execute_input": "2023-05-06T16:50:18.368506Z",
     "iopub.status.busy": "2023-05-06T16:50:18.367292Z",
     "iopub.status.idle": "2023-05-06T16:50:18.376257Z",
     "shell.execute_reply": "2023-05-06T16:50:18.374930Z",
     "shell.execute_reply.started": "2023-05-06T16:50:18.368468Z"
    }
   },
   "outputs": [
    {
     "data": {
      "text/plain": [
       "dict_keys(['loss', 'accuracy', 'val_loss', 'val_accuracy'])"
      ]
     },
     "execution_count": 13,
     "metadata": {},
     "output_type": "execute_result"
    }
   ],
   "source": [
    "history.history.keys()"
   ]
  },
  {
   "attachments": {},
   "cell_type": "markdown",
   "metadata": {},
   "source": [
    "### *Plotting the training and validation loss*"
   ]
  },
  {
   "cell_type": "code",
   "execution_count": 14,
   "metadata": {
    "execution": {
     "iopub.execute_input": "2023-05-06T16:50:21.788899Z",
     "iopub.status.busy": "2023-05-06T16:50:21.787701Z",
     "iopub.status.idle": "2023-05-06T16:50:22.034057Z",
     "shell.execute_reply": "2023-05-06T16:50:22.033018Z",
     "shell.execute_reply.started": "2023-05-06T16:50:21.788849Z"
    }
   },
   "outputs": [
    {
     "data": {
      "image/png": "[encoded data removed]",
      "text/plain": [
       "<Figure size 640x480 with 1 Axes>"
      ]
     },
     "metadata": {},
     "output_type": "display_data"
    }
   ],
   "source": [
    "import matplotlib.pyplot as plt\n",
    "\n",
    "loss = history.history['loss']\n",
    "val_loss = history.history['val_loss']\n",
    "epochs = range(1, len(loss) + 1)\n",
    "\n",
    "plt.plot(epochs, loss, 'bo', label='Training loss')\n",
    "plt.plot(epochs, val_loss, 'b', label='Validation loss')\n",
    "plt.title('Training and validation loss')\n",
    "plt.xlabel('Epochs')\n",
    "plt.ylabel('Loss')\n",
    "plt.legend()\n",
    "plt.show()"
   ]
  },
  {
   "attachments": {},
   "cell_type": "markdown",
   "metadata": {},
   "source": [
    "### *Plotting the training and validation accuracy*"
   ]
  },
  {
   "cell_type": "code",
   "execution_count": 15,
   "metadata": {
    "execution": {
     "iopub.execute_input": "2023-05-06T16:50:33.801997Z",
     "iopub.status.busy": "2023-05-06T16:50:33.799558Z",
     "iopub.status.idle": "2023-05-06T16:50:34.054075Z",
     "shell.execute_reply": "2023-05-06T16:50:34.052734Z",
     "shell.execute_reply.started": "2023-05-06T16:50:33.801950Z"
    }
   },
   "outputs": [
    {
     "data": {
      "image/png": "[encoded data removed]",
      "text/plain": [
       "<Figure size 640x480 with 1 Axes>"
      ]
     },
     "metadata": {},
     "output_type": "display_data"
    }
   ],
   "source": [
    "plt.clf()\n",
    "\n",
    "acc = history.history['accuracy']\n",
    "val_acc = history.history['val_accuracy']\n",
    "\n",
    "plt.plot(epochs, acc, 'ro', label='Training acc')\n",
    "plt.plot(epochs, val_acc, 'r', label='Validation acc')\n",
    "plt.title('Training and validation accuracy')\n",
    "plt.xlabel('Epochs')\n",
    "plt.ylabel('Loss')\n",
    "plt.legend()\n",
    "plt.show()"
   ]
  },
  {
   "attachments": {},
   "cell_type": "markdown",
   "metadata": {},
   "source": [
    "The network begins to overfit after nine epochs. Let’s train a new network from scratch for nine epochs and then evaluate it on the test set.\n",
    "### *Retraining a model from scratch*"
   ]
  },
  {
   "cell_type": "code",
   "execution_count": 16,
   "metadata": {
    "collapsed": true,
    "execution": {
     "iopub.execute_input": "2023-05-06T16:50:39.541032Z",
     "iopub.status.busy": "2023-05-06T16:50:39.540631Z",
     "iopub.status.idle": "2023-05-06T16:50:45.957634Z",
     "shell.execute_reply": "2023-05-06T16:50:45.956508Z",
     "shell.execute_reply.started": "2023-05-06T16:50:39.541002Z"
    }
   },
   "outputs": [
    {
     "name": "stdout",
     "output_type": "stream",
     "text": [
      "Epoch 1/9\n",
      "16/16 [==============================] - 3s 95ms/step - loss: 2.6479 - accuracy: 0.5158 - val_loss: 1.7889 - val_accuracy: 0.6360\n",
      "Epoch 2/9\n",
      "16/16 [==============================] - 2s 106ms/step - loss: 1.5008 - accuracy: 0.6847 - val_loss: 1.3479 - val_accuracy: 0.6990\n",
      "Epoch 3/9\n",
      "16/16 [==============================] - 2s 97ms/step - loss: 1.1613 - accuracy: 0.7446 - val_loss: 1.1814 - val_accuracy: 0.7370\n",
      "Epoch 4/9\n",
      "16/16 [==============================] - 1s 92ms/step - loss: 0.9523 - accuracy: 0.7929 - val_loss: 1.0844 - val_accuracy: 0.7600\n",
      "Epoch 5/9\n",
      "16/16 [==============================] - 1s 91ms/step - loss: 0.7963 - accuracy: 0.8266 - val_loss: 1.0118 - val_accuracy: 0.7690\n",
      "Epoch 6/9\n",
      "16/16 [==============================] - 1s 80ms/step - loss: 0.6660 - accuracy: 0.8529 - val_loss: 0.9601 - val_accuracy: 0.7930\n",
      "Epoch 7/9\n",
      "16/16 [==============================] - 2s 100ms/step - loss: 0.5611 - accuracy: 0.8777 - val_loss: 0.9360 - val_accuracy: 0.7910\n",
      "Epoch 8/9\n",
      "16/16 [==============================] - 1s 82ms/step - loss: 0.4694 - accuracy: 0.8998 - val_loss: 0.9076 - val_accuracy: 0.7990\n",
      "Epoch 9/9\n",
      "16/16 [==============================] - 2s 95ms/step - loss: 0.4004 - accuracy: 0.9156 - val_loss: 0.8893 - val_accuracy: 0.8040\n",
      "71/71 [==============================] - 1s 7ms/step - loss: 0.9807 - accuracy: 0.7765\n"
     ]
    }
   ],
   "source": [
    "model = models.Sequential()\n",
    "model.add(layers.Dense(64, activation='relu', input_shape=(10000,)))\n",
    "model.add(layers.Dense(64, activation='relu'))\n",
    "model.add(layers.Dense(46, activation='softmax'))\n",
    "model.compile(optimizer='rmsprop',\\\n",
    "              loss='categorical_crossentropy',\\\n",
    "              metrics=['accuracy'])\n",
    "model.fit(partial_x_train, partial_y_train, epochs=9,\\\n",
    "          batch_size=512, validation_data=(x_val, y_val))\n",
    "results = model.evaluate(x_test, one_hot_test_labels)"
   ]
  },
  {
   "cell_type": "code",
   "execution_count": 17,
   "metadata": {
    "execution": {
     "iopub.execute_input": "2023-05-06T16:50:49.539192Z",
     "iopub.status.busy": "2023-05-06T16:50:49.538797Z",
     "iopub.status.idle": "2023-05-06T16:50:49.546598Z",
     "shell.execute_reply": "2023-05-06T16:50:49.545295Z",
     "shell.execute_reply.started": "2023-05-06T16:50:49.539161Z"
    }
   },
   "outputs": [
    {
     "data": {
      "text/plain": [
       "[0.9807299375534058, 0.7764915227890015]"
      ]
     },
     "execution_count": 17,
     "metadata": {},
     "output_type": "execute_result"
    }
   ],
   "source": [
    "results"
   ]
  },
  {
   "attachments": {},
   "cell_type": "markdown",
   "metadata": {},
   "source": [
    "This approach reaches an accuracy of ~80%. With a balanced binary classification problem, the accuracy reached by a purely random classifier would be 50%. But in this case it’s closer to 19%, so the results seem pretty good, at least when compared to a random baseline:"
   ]
  },
  {
   "cell_type": "code",
   "execution_count": 18,
   "metadata": {
    "execution": {
     "iopub.execute_input": "2023-05-06T16:50:54.819165Z",
     "iopub.status.busy": "2023-05-06T16:50:54.818783Z",
     "iopub.status.idle": "2023-05-06T16:50:54.824749Z",
     "shell.execute_reply": "2023-05-06T16:50:54.822965Z",
     "shell.execute_reply.started": "2023-05-06T16:50:54.819135Z"
    }
   },
   "outputs": [],
   "source": [
    "import copy\n",
    "test_labels_copy = copy.copy(test_labels)\n",
    "np.random.shuffle(test_labels_copy)"
   ]
  },
  {
   "cell_type": "code",
   "execution_count": 19,
   "metadata": {
    "execution": {
     "iopub.execute_input": "2023-05-06T16:51:17.417065Z",
     "iopub.status.busy": "2023-05-06T16:51:17.416653Z",
     "iopub.status.idle": "2023-05-06T16:51:17.423386Z",
     "shell.execute_reply": "2023-05-06T16:51:17.422631Z",
     "shell.execute_reply.started": "2023-05-06T16:51:17.417036Z"
    }
   },
   "outputs": [
    {
     "data": {
      "text/plain": [
       "array([ True, False, False, ..., False,  True, False])"
      ]
     },
     "execution_count": 19,
     "metadata": {},
     "output_type": "execute_result"
    }
   ],
   "source": [
    "np.array(test_labels) == np.array(test_labels_copy)"
   ]
  },
  {
   "cell_type": "code",
   "execution_count": 20,
   "metadata": {
    "execution": {
     "iopub.execute_input": "2023-05-06T16:51:59.531286Z",
     "iopub.status.busy": "2023-05-06T16:51:59.530878Z",
     "iopub.status.idle": "2023-05-06T16:51:59.540966Z",
     "shell.execute_reply": "2023-05-06T16:51:59.539749Z",
     "shell.execute_reply.started": "2023-05-06T16:51:59.531255Z"
    }
   },
   "outputs": [
    {
     "data": {
      "text/plain": [
       "0.1798753339269813"
      ]
     },
     "execution_count": 20,
     "metadata": {},
     "output_type": "execute_result"
    }
   ],
   "source": [
    "hits_array = np.array(test_labels) == np.array(test_labels_copy)\n",
    "float(np.sum(hits_array)) / len(test_labels)"
   ]
  },
  {
   "attachments": {},
   "cell_type": "markdown",
   "metadata": {},
   "source": [
    "## 4.2.5 Generating predictions on new data\n",
    "You can verify that the `predict` method of the model instance returns a probability distribution over all 46 topics. Let’s generate topic predictions for all of the test data.\n",
    "### *Generating predictions for new data*"
   ]
  },
  {
   "cell_type": "code",
   "execution_count": 21,
   "metadata": {
    "execution": {
     "iopub.execute_input": "2023-05-06T16:57:37.414657Z",
     "iopub.status.busy": "2023-05-06T16:57:37.414269Z",
     "iopub.status.idle": "2023-05-06T16:57:37.917260Z",
     "shell.execute_reply": "2023-05-06T16:57:37.915982Z",
     "shell.execute_reply.started": "2023-05-06T16:57:37.414629Z"
    }
   },
   "outputs": [
    {
     "name": "stdout",
     "output_type": "stream",
     "text": [
      "71/71 [==============================] - 1s 3ms/step\n"
     ]
    }
   ],
   "source": [
    "predictions = model.predict(x_test)"
   ]
  },
  {
   "attachments": {},
   "cell_type": "markdown",
   "metadata": {},
   "source": [
    "Each entry in `predictions` is a vector of length 46:"
   ]
  },
  {
   "cell_type": "code",
   "execution_count": 22,
   "metadata": {
    "execution": {
     "iopub.execute_input": "2023-05-06T16:59:38.317697Z",
     "iopub.status.busy": "2023-05-06T16:59:38.317330Z",
     "iopub.status.idle": "2023-05-06T16:59:38.324933Z",
     "shell.execute_reply": "2023-05-06T16:59:38.323747Z",
     "shell.execute_reply.started": "2023-05-06T16:59:38.317654Z"
    }
   },
   "outputs": [
    {
     "data": {
      "text/plain": [
       "(46,)"
      ]
     },
     "execution_count": 22,
     "metadata": {},
     "output_type": "execute_result"
    }
   ],
   "source": [
    "predictions[0].shape"
   ]
  },
  {
   "attachments": {},
   "cell_type": "markdown",
   "metadata": {},
   "source": [
    "The coefficients in this vector sum to 1:"
   ]
  },
  {
   "cell_type": "code",
   "execution_count": 23,
   "metadata": {
    "execution": {
     "iopub.execute_input": "2023-05-06T17:00:23.333134Z",
     "iopub.status.busy": "2023-05-06T17:00:23.332769Z",
     "iopub.status.idle": "2023-05-06T17:00:23.340801Z",
     "shell.execute_reply": "2023-05-06T17:00:23.339342Z",
     "shell.execute_reply.started": "2023-05-06T17:00:23.333106Z"
    }
   },
   "outputs": [
    {
     "data": {
      "text/plain": [
       "1.0"
      ]
     },
     "execution_count": 23,
     "metadata": {},
     "output_type": "execute_result"
    }
   ],
   "source": [
    "np.sum(predictions[0])"
   ]
  },
  {
   "attachments": {},
   "cell_type": "markdown",
   "metadata": {},
   "source": [
    "The largest entry is the predicted class—the class with the highest probability:"
   ]
  },
  {
   "cell_type": "code",
   "execution_count": 24,
   "metadata": {
    "execution": {
     "iopub.execute_input": "2023-05-06T17:00:45.535126Z",
     "iopub.status.busy": "2023-05-06T17:00:45.534758Z",
     "iopub.status.idle": "2023-05-06T17:00:45.542036Z",
     "shell.execute_reply": "2023-05-06T17:00:45.540955Z",
     "shell.execute_reply.started": "2023-05-06T17:00:45.535097Z"
    }
   },
   "outputs": [
    {
     "data": {
      "text/plain": [
       "4"
      ]
     },
     "execution_count": 24,
     "metadata": {},
     "output_type": "execute_result"
    }
   ],
   "source": [
    "np.argmax(predictions[0])"
   ]
  },
  {
   "attachments": {},
   "cell_type": "markdown",
   "metadata": {},
   "source": [
    "## 4.2.6 A different way to handle the labels and the loss\n",
    "We mentioned earlier that another way to encode the labels would be to cast them as an integer tensor, like this:\n",
    "`y_train = np.array(train_labels)\n",
    "y_test = np.array(test_labels)`\n",
    "The only thing this approach would change is the choice of the loss function. The loss function used above, `categorical_crossentropy`, expects the labels to follow a categorical encoding. With integer labels, you should use `sparse_categorical_crossentropy`:\n",
    "\n",
    "`model.compile(optimizer='rmsprop', loss='sparse_categorical_crossentropy', metrics=['acc'])`\n",
    "\n",
    "This new loss function is still mathematically the same as `categorical_crossentropy`; it just has a different interface."
   ]
  },
  {
   "attachments": {},
   "cell_type": "markdown",
   "metadata": {},
   "source": [
    "## 4.2.7 The importance of having sufficiently large intermediate layers\n",
    "We mentioned earlier that because the final outputs are 46-dimensional, you should\n",
    "avoid intermediate layers with many fewer than 46 hidden units. Now let’s see what\n",
    "happens when you introduce an information bottleneck by having intermediate layers\n",
    "that are significantly less than 46-dimensional: for example, 4-dimensional."
   ]
  },
  {
   "cell_type": "code",
   "execution_count": 26,
   "metadata": {
    "collapsed": true
   },
   "outputs": [
    {
     "name": "stdout",
     "output_type": "stream",
     "text": [
      "Epoch 1/20\n",
      "63/63 [==============================] - 3s 26ms/step - loss: 2.9874 - accuracy: 0.4382 - val_loss: 2.1784 - val_accuracy: 0.5720\n",
      "Epoch 2/20\n",
      "63/63 [==============================] - 2s 34ms/step - loss: 1.7667 - accuracy: 0.6094 - val_loss: 1.6026 - val_accuracy: 0.6370\n",
      "Epoch 3/20\n",
      "63/63 [==============================] - 2s 36ms/step - loss: 1.3807 - accuracy: 0.6689 - val_loss: 1.4357 - val_accuracy: 0.6690\n",
      "Epoch 4/20\n",
      "63/63 [==============================] - 2s 38ms/step - loss: 1.2079 - accuracy: 0.7095 - val_loss: 1.3782 - val_accuracy: 0.6870\n",
      "Epoch 5/20\n",
      "63/63 [==============================] - 2s 36ms/step - loss: 1.0911 - accuracy: 0.7325 - val_loss: 1.3186 - val_accuracy: 0.6960\n",
      "Epoch 6/20\n",
      "63/63 [==============================] - 2s 37ms/step - loss: 1.0023 - accuracy: 0.7433 - val_loss: 1.3265 - val_accuracy: 0.6960\n",
      "Epoch 7/20\n",
      "63/63 [==============================] - 2s 36ms/step - loss: 0.9272 - accuracy: 0.7549 - val_loss: 1.2824 - val_accuracy: 0.6970\n",
      "Epoch 8/20\n",
      "63/63 [==============================] - 2s 37ms/step - loss: 0.8591 - accuracy: 0.7687 - val_loss: 1.2900 - val_accuracy: 0.7040\n",
      "Epoch 9/20\n",
      "63/63 [==============================] - 2s 36ms/step - loss: 0.8025 - accuracy: 0.7843 - val_loss: 1.2988 - val_accuracy: 0.7010\n",
      "Epoch 10/20\n",
      "63/63 [==============================] - 2s 34ms/step - loss: 0.7505 - accuracy: 0.7953 - val_loss: 1.2975 - val_accuracy: 0.7010\n",
      "Epoch 11/20\n",
      "63/63 [==============================] - 2s 39ms/step - loss: 0.7030 - accuracy: 0.8082 - val_loss: 1.3192 - val_accuracy: 0.7140\n",
      "Epoch 12/20\n",
      "63/63 [==============================] - 2s 37ms/step - loss: 0.6631 - accuracy: 0.8167 - val_loss: 1.3478 - val_accuracy: 0.7120\n",
      "Epoch 13/20\n",
      "63/63 [==============================] - 2s 35ms/step - loss: 0.6246 - accuracy: 0.8249 - val_loss: 1.3802 - val_accuracy: 0.7050\n",
      "Epoch 14/20\n",
      "63/63 [==============================] - 2s 34ms/step - loss: 0.5922 - accuracy: 0.8270 - val_loss: 1.4015 - val_accuracy: 0.7220\n",
      "Epoch 15/20\n",
      "63/63 [==============================] - 2s 35ms/step - loss: 0.5623 - accuracy: 0.8336 - val_loss: 1.4369 - val_accuracy: 0.7140\n",
      "Epoch 16/20\n",
      "63/63 [==============================] - 2s 39ms/step - loss: 0.5377 - accuracy: 0.8393 - val_loss: 1.4552 - val_accuracy: 0.7180\n",
      "Epoch 17/20\n",
      "63/63 [==============================] - 2s 36ms/step - loss: 0.5131 - accuracy: 0.8468 - val_loss: 1.5117 - val_accuracy: 0.7280\n",
      "Epoch 18/20\n",
      "63/63 [==============================] - 2s 36ms/step - loss: 0.4927 - accuracy: 0.8540 - val_loss: 1.5853 - val_accuracy: 0.7070\n",
      "Epoch 19/20\n",
      "63/63 [==============================] - 2s 38ms/step - loss: 0.4715 - accuracy: 0.8626 - val_loss: 1.5941 - val_accuracy: 0.7230\n",
      "Epoch 20/20\n",
      "63/63 [==============================] - 2s 36ms/step - loss: 0.4553 - accuracy: 0.8723 - val_loss: 1.6208 - val_accuracy: 0.7110\n"
     ]
    }
   ],
   "source": [
    "model = models.Sequential()\n",
    "model.add(layers.Dense(64, activation='relu', input_shape=(10000,)))\n",
    "model.add(layers.Dense(4, activation='relu'))\n",
    "model.add(layers.Dense(46, activation='softmax'))\n",
    "model.compile(optimizer='rmsprop',\n",
    "              loss='categorical_crossentropy',\n",
    "              metrics=['accuracy'])\n",
    "history = model.fit(partial_x_train,\n",
    "          partial_y_train,\n",
    "          epochs=20,\n",
    "          batch_size=128,\n",
    "          validation_data=(x_val, y_val))"
   ]
  },
  {
   "cell_type": "code",
   "execution_count": 27,
   "metadata": {},
   "outputs": [
    {
     "data": {
      "image/png": "[encoded data removed]",
      "text/plain": [
       "<Figure size 640x480 with 1 Axes>"
      ]
     },
     "metadata": {},
     "output_type": "display_data"
    }
   ],
   "source": [
    "loss = history.history['loss']\n",
    "val_loss = history.history['val_loss']\n",
    "epochs = range(1, len(loss) + 1)\n",
    "\n",
    "plt.plot(epochs, loss, 'bo', label='Training loss')\n",
    "plt.plot(epochs, val_loss, 'b', label='Validation loss')\n",
    "plt.title('Training and validation loss')\n",
    "plt.xlabel('Epochs')\n",
    "plt.ylabel('Loss')\n",
    "plt.legend()\n",
    "plt.show()"
   ]
  },
  {
   "cell_type": "code",
   "execution_count": 28,
   "metadata": {},
   "outputs": [
    {
     "data": {
      "image/png": "[encoded data removed]",
      "text/plain": [
       "<Figure size 640x480 with 1 Axes>"
      ]
     },
     "metadata": {},
     "output_type": "display_data"
    }
   ],
   "source": [
    "plt.clf()\n",
    "\n",
    "acc = history.history['accuracy']\n",
    "val_acc = history.history['val_accuracy']\n",
    "\n",
    "plt.plot(epochs, acc, 'ro', label='Training acc')\n",
    "plt.plot(epochs, val_acc, 'r', label='Validation acc')\n",
    "plt.title('Training and validation accuracy')\n",
    "plt.xlabel('Epochs')\n",
    "plt.ylabel('Loss')\n",
    "plt.legend()\n",
    "plt.show()"
   ]
  },
  {
   "attachments": {},
   "cell_type": "markdown",
   "metadata": {},
   "source": [
    "The network now peaks at ~71% validation accuracy, an 8% absolute drop. This drop is mostly due to the fact that you’re trying to compress a lot of information (enough\n",
    "information to recover the separation hyperplanes of 46 classes) into an intermediate space that is too low-dimensional. The network is able to cram *most* of the necessary information into these eight-dimensional representations, but not all of it."
   ]
  },
  {
   "attachments": {},
   "cell_type": "markdown",
   "metadata": {},
   "source": [
    "## 4.2.8 Further experiments\n",
    "- Try using larger or smaller layers: 32 units, 128 units, and so on.\n",
    "- You used two hidden layers. Now try using a single hidden layer, or three hidden layers."
   ]
  },
  {
   "attachments": {},
   "cell_type": "markdown",
   "metadata": {},
   "source": [
    "## 4.2.9 Wrapping up\n",
    "Here’s what you should take away from this example:\n",
    "- If you’re trying to classify data points among *N* classes, your network should end with a Dense layer of size *N*.\n",
    "- In a single-label, multiclass classification problem, your network should end with a `softmax` activation so that it will output a probability distribution over the *N* output classes.\n",
    "- Categorical crossentropy is almost always the loss function you should use for such problems. It minimizes the distance between the probability distributions\n",
    "output by the network and the true distribution of the targets.\n",
    "- There are two ways to handle labels in multiclass classification:\n",
    "    - Encoding the labels via categorical encoding (also known as one-hot encoding) and using `categorical_crossentropy` as a loss function\n",
    "    - Encoding the labels as integers and using the `sparse_categorical_crossentropy` loss function\n",
    "- If you need to classify data into a large number of categories, you should avoid creating information bottlenecks in your network due to intermediate layers that are too small. "
   ]
  },
  {
   "attachments": {},
   "cell_type": "markdown",
   "metadata": {},
   "source": [
    "### *cce vs. scce*\n",
    "In this case (multiclass, single-label), we can calculate using two different methods: Categorical Cross-Entropy and Sparse Categorical Cross-Entropy. We can explain themas following:\n",
    "- `categorical_crossentropy` (cce) produces a *one-hot array* containing the probable match for each category,\n",
    "- `sparse_categorical_crossentropy` (scce) produces a *category index* of the most likely matching category.\n",
    "Consider a classification problem with 5 categories (or classes).\n",
    "\n",
    "In the case of cce, the one-hot target may be [0, 1, 0, 0, 0] and the model may predict [.2, .5, .1, .1, .1] (probably right).\n",
    "In the case of scce, the target index may be [1] and the model may predict: [.5].\n",
    "Consider now a classification problem with 3 classes.\n",
    "\n",
    "In the case of cce, the one-hot target might be [0, 0, 1] and the model may predict [.5, .1, .4] (probably inaccurate, given that it gives more probability to the first class)\n",
    "In the case of scce, the target index might be [0], and the model may predict [.5]\n",
    "Many categorical models produce scce output because you save space, but lose A LOT of information (for example, in the 2nd example, index 2 was also very close.) I generally prefer cce output for model reliability.\n",
    "\n",
    "There are a number of situations to use scce, including:\n",
    "- when your classes are mutually exclusive, i.e. you don’t care at all about other close-enough predictions,\n",
    "- the number of categories is large to the prediction output becomes overwhelming."
   ]
  },
  {
   "cell_type": "code",
   "execution_count": null,
   "metadata": {},
   "outputs": [],
   "source": []
  }
 ],
 "metadata": {
  "kernelspec": {
   "display_name": "Python 3 (ipykernel)",
   "language": "python",
   "name": "python3"
  },
  "language_info": {
   "codemirror_mode": {
    "name": "ipython",
    "version": 3
   },
   "file_extension": ".py",
   "mimetype": "text/x-python",
   "name": "python",
   "nbconvert_exporter": "python",
   "pygments_lexer": "ipython3",
   "version": "3.10.9"
  }
 },
 "nbformat": 4,
 "nbformat_minor": 4
}
