{
 "cells": [
  {
   "cell_type": "markdown",
   "id": "7cca7b10",
   "metadata": {},
   "source": [
    "# 5.2 Training a convnet from scratch on a small dataset\n",
    "\n",
    "Having to train an image-classification model using very little data is a common situation, which you’ll likely encounter in practice if you ever do computer vision in a professional context. A “few” samples can mean anywhere from a few hundred to a\n",
    "few tens of thousands of images. As a practical example, we’ll focus on classifying images as dogs or cats, in a dataset containing 4,000 pictures of cats and dogs (2,000 cats, 2,000 dogs). We’ll use 2,000 pictures for training—1,000 for validation, and 1,000 for testing.\n",
    "\n",
    " In this section, we’ll review one basic strategy to tackle this problem: training a new model from scratch using what little data you have. You’ll start by naively training a small convnet on the 2,000 training samples, without any regularization, to set a baseline for what can be achieved. This will get you to a classification accuracy of 71%. At that point, the main issue will be overfitting. Then we’ll introduce *data augmentation*, a powerful technique for mitigating overfitting in computer vision. By using data augmentation, you’ll improve the network to reach an accuracy of 82%.\n",
    " \n",
    " In the next section, we’ll review two more essential techniques for applying deep\n",
    "learning to small datasets: *feature extraction with a pretrained network* (which will get you to an accuracy of 90% to 96%) and *fine-tuning a pretrained network* (this will get you to a final accuracy of 97%). Together, these three strategies—training a small model from scratch, doing feature extraction using a pretrained model, and fine-tuning a pretrained model—will constitute your future toolbox for tackling the problem of performing image classification with small datasets."
   ]
  },
  {
   "cell_type": "markdown",
   "id": "97615e5b",
   "metadata": {},
   "source": [
    "## 5.2.1 The relevance of deep learning for small-data problems\n",
    "\n",
    "You’ll sometimes hear that deep learning only works when lots of data is available.\n",
    "This is valid in part: one fundamental characteristic of deep learning is that it can find\n",
    "interesting features in the training data on its own, without any need for manual feature engineering, and this can only be achieved when lots of training examples are\n",
    "available. This is especially true for problems where the input samples are very highdimensional, like images.\n",
    "\n",
    " But what constitutes lots of samples is relative—relative to the size and depth of the\n",
    "network you’re trying to train, for starters. It isn’t possible to train a convnet to solve a\n",
    "complex problem with just a few tens of samples, but a few hundred can potentially\n",
    "suffice if the model is small and well regularized and the task is simple. Because convnets learn local, translation-invariant features, they’re highly data efficient on perceptual problems. Training a convnet from scratch on a very small image dataset will still\n",
    "yield reasonable results despite a relative lack of data, without the need for any custom\n",
    "feature engineering. You’ll see this in action in this section.\n",
    "\n",
    " What’s more, deep-learning models are by nature highly repurposable: you can\n",
    "take, say, an image-classification or speech-to-text model trained on a large-scale dataset\n",
    "and reuse it on a significantly different problem with only minor changes. Specifically, in the case of computer vision, many pretrained models (usually trained on the ImageNet dataset) are now publicly available for download and can be used to bootstrap powerful vision models out of very little data. That’s what you’ll do in the next section. Let’s\n",
    "start by getting your hands on the data."
   ]
  },
  {
   "cell_type": "markdown",
   "id": "5f71b292",
   "metadata": {},
   "source": [
    "## 5.2.2 Downloading the data\n",
    "\n",
    "The Dogs vs. Cats dataset that you’ll use isn’t packaged with Keras. It was made available by Kaggle as part of a computer-vision competition in late 2013, back when\n",
    "convnets weren’t mainstream. You can download the original dataset from www.kaggle.com/c/dogs-vs-cats/data (you’ll need to create a Kaggle account if you don’t already\n",
    "have one—don’t worry, the process is painless).\n",
    "\n",
    "This dataset contains 25,000 images of dogs and cats (12,500 from each class) and\n",
    "is 543 MB (compressed). After downloading and uncompressing it, you’ll create a new\n",
    "dataset containing three subsets: a training set with 1,000 samples of each class, a validation set with 500 samples of each class, and a test set with 500 samples of each class.\n",
    "\n",
    "### *Copying images to training, validation, and test directories*"
   ]
  },
  {
   "cell_type": "code",
   "execution_count": 6,
   "id": "5b33b932",
   "metadata": {},
   "outputs": [],
   "source": [
    "import os, shutil\n",
    "\n",
    "#Path to the directory where the original dataset was uncompressed\n",
    "original_dataset_dir = 'C:/Users/ADMIN/Downloads/dogs-vs-cats/train/train'\n",
    "\n",
    "# Directory where you'll store your smaller dataset\n",
    "base_dir = 'D:/Machine Learning/cats_and_dogs_small'\n",
    "os.mkdir(base_dir)\n",
    "\n",
    "# Directories for the training, validation, and test splits\n",
    "train_dir = os.path.join(base_dir, 'train')\n",
    "os.mkdir(train_dir)\n",
    "validation_dir = os.path.join(base_dir, 'validation')\n",
    "os.mkdir(validation_dir)\n",
    "test_dir = os.path.join(base_dir, 'test')\n",
    "os.mkdir(test_dir)\n",
    "\n",
    "# Directories with training cat pictures and dog pictures\n",
    "train_cats_dir = os.path.join(train_dir, 'cats')\n",
    "os.mkdir(train_cats_dir)\n",
    "train_dogs_dir = os.path.join(train_dir, 'dogs')\n",
    "os.mkdir(train_dogs_dir)\n",
    "\n",
    "# Directories with validation cat pictures and dog pictures\n",
    "validation_cats_dir = os.path.join(validation_dir, 'cats')\n",
    "os.mkdir(validation_cats_dir)\n",
    "validation_dogs_dir = os.path.join(validation_dir, 'dogs')\n",
    "os.mkdir(validation_dogs_dir)\n",
    "\n",
    "# Directories with test cat pictures and dog pictures\n",
    "test_cats_dir = os.path.join(test_dir, 'cats')\n",
    "os.mkdir(test_cats_dir)\n",
    "test_dogs_dir = os.path.join(test_dir, 'dogs')\n",
    "os.mkdir(test_dogs_dir)\n",
    "\n",
    "# Copies the first 1000 cat images to train_cat_dir\n",
    "fnames = ['cat.{}.jpg'.format(i) for i in range(1000)]\n",
    "for fname in fnames:\n",
    "    src = os.path.join(original_dataset_dir, fname)\n",
    "    dst = os.path.join(train_cats_dir, fname)\n",
    "    shutil.copyfile(src, dst)\n",
    "\n",
    "# Copies the next 500 cat images to validation_cats_dir\n",
    "fnames = ['cat.{}.jpg'.format(i) for i in range(1000, 1500)]\n",
    "for fname in fnames:\n",
    "    src = os.path.join(original_dataset_dir, fname)\n",
    "    dst = os.path.join(validation_cats_dir, fname)\n",
    "    shutil.copyfile(src, dst)\n",
    "\n",
    "# Copies the next 500 cat images to test_cats_dir\n",
    "fnames = ['cat.{}.jpg'.format(i) for i in range(1500, 2000)]\n",
    "for fname in fnames:\n",
    "    src = os.path.join(original_dataset_dir, fname)\n",
    "    dst = os.path.join(test_cats_dir, fname)\n",
    "    shutil.copyfile(src, dst)\n",
    "    \n",
    "# Copies the first 1,000 dog images to train_dogs_dir\n",
    "fnames = ['dog.{}.jpg'.format(i) for i in range(1000)]\n",
    "for fname in fnames:\n",
    "    src = os.path.join(original_dataset_dir, fname)\n",
    "    dst = os.path.join(train_dogs_dir, fname)\n",
    "    shutil.copyfile(src, dst)\n",
    "    \n",
    "# Copies the next 500 dog images to validation_dogs_dir    \n",
    "fnames = ['dog.{}.jpg'.format(i) for i in range(1000, 1500)]\n",
    "for fname in fnames:\n",
    "    src = os.path.join(original_dataset_dir, fname)\n",
    "    dst = os.path.join(validation_dogs_dir, fname)\n",
    "    shutil.copyfile(src, dst)\n",
    "    \n",
    "# Copies the next 500 dog images to test_dogs_dir  \n",
    "fnames = ['dog.{}.jpg'.format(i) for i in range(1500, 2000)]\n",
    "for fname in fnames:\n",
    "    src = os.path.join(original_dataset_dir, fname)\n",
    "    dst = os.path.join(test_dogs_dir, fname)\n",
    "    shutil.copyfile(src, dst)"
   ]
  },
  {
   "cell_type": "markdown",
   "id": "21cada20",
   "metadata": {},
   "source": [
    "So you do indeed have 2,000 training images, 1,000 validation images, and 1,000 test\n",
    "images. Each split contains the same number of samples from each class: this is a balanced binary-classification problem, which means classification accuracy will be an\n",
    "appropriate measure of success. "
   ]
  },
  {
   "cell_type": "code",
   "execution_count": 7,
   "id": "a28766a5",
   "metadata": {},
   "outputs": [
    {
     "name": "stdout",
     "output_type": "stream",
     "text": [
      "total training cat images: 1000\n",
      "total training dog images: 1000\n",
      "total validation cat images: 500\n",
      "total validation dog images: 500\n",
      "total test cat images: 500\n",
      "total test dog images: 500\n"
     ]
    }
   ],
   "source": [
    "print('total training cat images:', len(os.listdir(train_cats_dir)))\n",
    "print('total training dog images:', len(os.listdir(train_dogs_dir)))\n",
    "print('total validation cat images:', len(os.listdir(validation_cats_dir)))\n",
    "print('total validation dog images:', len(os.listdir(validation_dogs_dir)))\n",
    "print('total test cat images:', len(os.listdir(test_cats_dir)))\n",
    "print('total test dog images:', len(os.listdir(test_dogs_dir)))"
   ]
  },
  {
   "cell_type": "markdown",
   "id": "56f08580",
   "metadata": {},
   "source": [
    "## 5.2.3 Building your network\n",
    "\n",
    "You’ll reuse the same general structure: the convnet will be a stack of alternated `Conv2D` (with `relu` activation) and `MaxPooling2D` layers. But because you’re dealing with bigger images and a more complex problem, you’ll make your network larger, accordingly: it will have one more `Conv2D + MaxPooling2D` stage. This serves both to augment the capacity of the network and to further reduce the size of the feature maps so they aren’t overly large when you reach the `Flatten` layer. Here, because you start from inputs of size 150 × 150 (a somewhat arbitrary choice), you end up with feature maps of size 7 × 7 just before the `Flatten` layer.\n",
    "\n",
    "<div class=\"alert alert-block alert-info\">\n",
    "The depth of the feature maps progressively increases in the network\n",
    "(from 32 to 128), whereas the size of the feature maps decreases (from 148 ×\n",
    "148 to 7 × 7). This is a pattern you’ll see in almost all convnets.\n",
    "</div>\n",
    "\n",
    "Because you’re attacking a binary-classification problem, you’ll end the network with a\n",
    "single unit (a `Dens`e layer of size 1) and a `sigmoid` activation. This unit will encode the\n",
    "probability that the network is looking at one class or the other.\n",
    "\n",
    "### *Instantiating a small convnet for dogs vs. cats classification*"
   ]
  },
  {
   "cell_type": "code",
   "execution_count": 9,
   "id": "92e841d8",
   "metadata": {},
   "outputs": [
    {
     "name": "stdout",
     "output_type": "stream",
     "text": [
      "Model: \"sequential\"\n",
      "_________________________________________________________________\n",
      " Layer (type)                Output Shape              Param #   \n",
      "=================================================================\n",
      " conv2d (Conv2D)             (None, 148, 148, 32)      896       \n",
      "                                                                 \n",
      " max_pooling2d (MaxPooling2D  (None, 74, 74, 32)       0         \n",
      " )                                                               \n",
      "                                                                 \n",
      " conv2d_1 (Conv2D)           (None, 72, 72, 64)        18496     \n",
      "                                                                 \n",
      " max_pooling2d_1 (MaxPooling  (None, 36, 36, 64)       0         \n",
      " 2D)                                                             \n",
      "                                                                 \n",
      " conv2d_2 (Conv2D)           (None, 34, 34, 128)       73856     \n",
      "                                                                 \n",
      " max_pooling2d_2 (MaxPooling  (None, 17, 17, 128)      0         \n",
      " 2D)                                                             \n",
      "                                                                 \n",
      " conv2d_3 (Conv2D)           (None, 15, 15, 128)       147584    \n",
      "                                                                 \n",
      " max_pooling2d_3 (MaxPooling  (None, 7, 7, 128)        0         \n",
      " 2D)                                                             \n",
      "                                                                 \n",
      " flatten (Flatten)           (None, 6272)              0         \n",
      "                                                                 \n",
      " dense (Dense)               (None, 512)               3211776   \n",
      "                                                                 \n",
      " dense_1 (Dense)             (None, 1)                 513       \n",
      "                                                                 \n",
      "=================================================================\n",
      "Total params: 3,453,121\n",
      "Trainable params: 3,453,121\n",
      "Non-trainable params: 0\n",
      "_________________________________________________________________\n"
     ]
    }
   ],
   "source": [
    "from keras import layers\n",
    "from keras import models\n",
    "\n",
    "model = models.Sequential()\n",
    "model.add(layers.Conv2D(32, (3, 3), activation='relu', input_shape=(150, 150, 3)))\n",
    "model.add(layers.MaxPooling2D(2, 2))\n",
    "model.add(layers.Conv2D(64, (3, 3), activation='relu'))\n",
    "model.add(layers.MaxPooling2D((2, 2)))\n",
    "model.add(layers.Conv2D(128, (3, 3), activation='relu'))\n",
    "model.add(layers.MaxPooling2D((2, 2)))\n",
    "model.add(layers.Conv2D(128, (3, 3), activation='relu'))\n",
    "model.add(layers.MaxPooling2D((2, 2)))\n",
    "model.add(layers.Flatten())\n",
    "model.add(layers.Dense(512, activation='relu'))\n",
    "model.add(layers.Dense(1, activation='sigmoid'))\n",
    "\n",
    "model.summary()"
   ]
  },
  {
   "cell_type": "markdown",
   "id": "c77eff77",
   "metadata": {},
   "source": [
    "### *Configuring the model for training*"
   ]
  },
  {
   "cell_type": "code",
   "execution_count": 10,
   "id": "e5f122d3",
   "metadata": {},
   "outputs": [],
   "source": [
    "from keras import optimizers\n",
    "model.compile(loss='binary_crossentropy', \\\n",
    "              optimizer=optimizers.RMSprop(learning_rate=1e-4), \\\n",
    "              metrics=['acc'])"
   ]
  },
  {
   "cell_type": "markdown",
   "id": "f6b3565a",
   "metadata": {},
   "source": [
    "## 5.2.4 Data preprocessing\n",
    "\n",
    "As you know by now, data should be formatted into appropriately preprocessed floatingpoint tensors before being fed into the network. Currently, the data sits on a drive as\n",
    "JPEG files, so the steps for getting it into the network are roughly as follows:\n",
    "1. Read the picture files.\n",
    "2. Decode the JPEG content to RGB grids of pixels.\n",
    "3. Convert these into floating-point tensors.\n",
    "4. Rescale the pixel values (between 0 and 255) to the [0, 1] interval (as you know,\n",
    "neural networks prefer to deal with small input values).\n",
    "\n",
    "It may seem a bit daunting, but fortunately Keras has utilities to take care of these\n",
    "steps automatically. Keras has a module with image-processing helper tools, located at\n",
    "`keras.preprocessing.image`. In particular, it contains the class `ImageDataGenerator`,\n",
    "which lets you quickly set up Python generators that can automatically turn image files\n",
    "on disk into batches of preprocessed tensors. This is what you’ll use here.\n",
    "\n",
    "### *Using `ImageDataGenerator` to read images from directories*"
   ]
  },
  {
   "cell_type": "code",
   "execution_count": 11,
   "id": "cbbaee05",
   "metadata": {},
   "outputs": [
    {
     "name": "stdout",
     "output_type": "stream",
     "text": [
      "Found 2000 images belonging to 2 classes.\n",
      "Found 1000 images belonging to 2 classes.\n"
     ]
    }
   ],
   "source": [
    "from keras.preprocessing.image import ImageDataGenerator\n",
    "\n",
    "train_datagen = ImageDataGenerator(rescale=1./255)\n",
    "test_datagen = ImageDataGenerator(rescale=1./255)\n",
    "\n",
    "train_generator = train_datagen.flow_from_directory(train_dir, \n",
    "                                                    target_size=(150, 150), \n",
    "                                                    batch_size=20, \n",
    "                                                    class_mode='binary')\n",
    "# train_dir: target directory \n",
    "# resizes all images to target_size\n",
    "# class_mode='binary': because you use binary_classification, you need binary labels\n",
    "\n",
    "validation_generator = test_datagen.flow_from_directory(validation_dir, \n",
    "                                                        target_size=(150, 150), \n",
    "                                                        batch_size=20, \n",
    "                                                        class_mode='binary')"
   ]
  },
  {
   "cell_type": "markdown",
   "id": "80cd8f74",
   "metadata": {},
   "source": [
    "*Understanding Python generators*\n",
    "\n",
    "A Python generator is an object that acts as an iterator: it’s an object you can use with the `for … in` operator. Generators are built using the yield operator. Here is an example of a generator that yields integers:\n",
    "\n",
    "```python\n",
    "def generator():\n",
    "    i=0\n",
    "    while True:\n",
    "        i += 1\n",
    "        yield i\n",
    "        \n",
    "for item in generator():`\n",
    "    print(item)\n",
    "    if item > 4:\n",
    "        break\n",
    "```\n",
    "It prints this:\n",
    "```python\n",
    "1\n",
    "2\n",
    "3\n",
    "4\n",
    "5\n",
    "```"
   ]
  },
  {
   "cell_type": "markdown",
   "id": "f238bd2b",
   "metadata": {},
   "source": [
    "Let’s look at the output of one of these generators: it yields batches of 150 × 150 RGB\n",
    "images (shape `(20, 150, 150, 3)`) and binary labels (shape `(20,)`). There are 20 samples in each batch (the batch size). Note that the generator yields these batches indefinitely: it loops endlessly over the images in the target folder. For this reason, you need\n",
    "to `break` the iteration loop at some point:"
   ]
  },
  {
   "cell_type": "code",
   "execution_count": 12,
   "id": "879c0447",
   "metadata": {},
   "outputs": [
    {
     "name": "stdout",
     "output_type": "stream",
     "text": [
      "data batch shape (20, 150, 150, 3)\n",
      "labels batch shape: (20,)\n"
     ]
    }
   ],
   "source": [
    "for data_batch, labels_batch in train_generator:\n",
    "    print('data batch shape', data_batch.shape)\n",
    "    print('labels batch shape:', labels_batch.shape)\n",
    "    break"
   ]
  },
  {
   "cell_type": "markdown",
   "id": "4db14f0f",
   "metadata": {},
   "source": [
    "Let’s fit the model to the data using the generator. You do so using the `fit_generator`\n",
    "method, the equivalent of `fit` for data generators like this one. It expects as its first\n",
    "argument a Python generator that will yield batches of inputs and targets indefinitely,\n",
    "like this one does. Because the data is being generated endlessly, the Keras model\n",
    "needs to know how many samples to draw from the generator before declaring an\n",
    "epoch over. This is the role of the `steps_per_epoch` argument: after having drawn\n",
    "`steps_per_epoch` batches from the generator—that is, after having run for `steps_per_epoch` gradient descent steps—the fitting process will go to the next\n",
    "epoch. In this case, batches are 20 samples, so it will take 100 batches until you see\n",
    "your target of 2,000 samples.\n",
    "\n",
    " When using `fit_generator`, you can pass a `validation_data` argument, much as\n",
    "with the `fit` method. It’s important to note that this argument is allowed to be a data\n",
    "generator, but it could also be a tuple of Numpy arrays. If you pass a generator as\n",
    "`validation_data`, then this generator is expected to yield batches of validation data\n",
    "endlessly; thus you should also specify the `validation_steps` argument, which tells\n",
    "the process how many batches to draw from the validation generator for evaluation.\n",
    "\n",
    "### *Fitting the model using a batch generator*"
   ]
  },
  {
   "cell_type": "code",
   "execution_count": 13,
   "id": "d3ba026a",
   "metadata": {
    "collapsed": true
   },
   "outputs": [
    {
     "name": "stdout",
     "output_type": "stream",
     "text": [
      "Epoch 1/30\n"
     ]
    },
    {
     "name": "stderr",
     "output_type": "stream",
     "text": [
      "C:\\Users\\ADMIN\\AppData\\Local\\Temp\\ipykernel_13064\\2459527766.py:1: UserWarning: `Model.fit_generator` is deprecated and will be removed in a future version. Please use `Model.fit`, which supports generators.\n",
      "  history = model.fit_generator(train_generator,\n"
     ]
    },
    {
     "name": "stdout",
     "output_type": "stream",
     "text": [
      "100/100 [==============================] - 32s 317ms/step - loss: 0.6856 - acc: 0.5530 - val_loss: 0.6673 - val_acc: 0.6217\n",
      "Epoch 2/30\n",
      "100/100 [==============================] - 26s 259ms/step - loss: 0.6536 - acc: 0.6205 - val_loss: 0.6395 - val_acc: 0.6033\n",
      "Epoch 3/30\n",
      "100/100 [==============================] - 26s 262ms/step - loss: 0.6049 - acc: 0.6695 - val_loss: 0.6006 - val_acc: 0.6817\n",
      "Epoch 4/30\n",
      "100/100 [==============================] - 26s 257ms/step - loss: 0.5652 - acc: 0.7110 - val_loss: 0.5799 - val_acc: 0.6833\n",
      "Epoch 5/30\n",
      "100/100 [==============================] - 26s 258ms/step - loss: 0.5304 - acc: 0.7365 - val_loss: 0.5911 - val_acc: 0.6900\n",
      "Epoch 6/30\n",
      "100/100 [==============================] - 27s 270ms/step - loss: 0.5069 - acc: 0.7455 - val_loss: 0.5916 - val_acc: 0.6750\n",
      "Epoch 7/30\n",
      "100/100 [==============================] - 27s 265ms/step - loss: 0.4790 - acc: 0.7705 - val_loss: 0.5690 - val_acc: 0.7033\n",
      "Epoch 8/30\n",
      "100/100 [==============================] - 27s 269ms/step - loss: 0.4544 - acc: 0.7880 - val_loss: 0.7314 - val_acc: 0.6350\n",
      "Epoch 9/30\n",
      "100/100 [==============================] - 27s 268ms/step - loss: 0.4265 - acc: 0.7990 - val_loss: 0.5482 - val_acc: 0.7250\n",
      "Epoch 10/30\n",
      "100/100 [==============================] - 27s 266ms/step - loss: 0.4004 - acc: 0.8175 - val_loss: 0.5270 - val_acc: 0.7350\n",
      "Epoch 11/30\n",
      "100/100 [==============================] - 28s 284ms/step - loss: 0.3806 - acc: 0.8305 - val_loss: 0.5474 - val_acc: 0.7350\n",
      "Epoch 12/30\n",
      "100/100 [==============================] - 26s 264ms/step - loss: 0.3558 - acc: 0.8475 - val_loss: 0.5259 - val_acc: 0.7333\n",
      "Epoch 13/30\n",
      "100/100 [==============================] - 26s 261ms/step - loss: 0.3367 - acc: 0.8565 - val_loss: 0.5397 - val_acc: 0.7250\n",
      "Epoch 14/30\n",
      "100/100 [==============================] - 28s 276ms/step - loss: 0.3137 - acc: 0.8715 - val_loss: 0.6108 - val_acc: 0.7383\n",
      "Epoch 15/30\n",
      "100/100 [==============================] - 27s 267ms/step - loss: 0.2926 - acc: 0.8780 - val_loss: 0.5157 - val_acc: 0.7483\n",
      "Epoch 16/30\n",
      "100/100 [==============================] - 26s 264ms/step - loss: 0.2706 - acc: 0.8905 - val_loss: 0.5908 - val_acc: 0.7383\n",
      "Epoch 17/30\n",
      "100/100 [==============================] - 27s 266ms/step - loss: 0.2470 - acc: 0.9045 - val_loss: 0.5691 - val_acc: 0.7383\n",
      "Epoch 18/30\n",
      "100/100 [==============================] - 27s 266ms/step - loss: 0.2241 - acc: 0.9130 - val_loss: 0.6802 - val_acc: 0.7283\n",
      "Epoch 19/30\n",
      "100/100 [==============================] - 28s 283ms/step - loss: 0.2118 - acc: 0.9225 - val_loss: 0.5831 - val_acc: 0.7383\n",
      "Epoch 20/30\n",
      "100/100 [==============================] - 27s 267ms/step - loss: 0.1926 - acc: 0.9270 - val_loss: 0.6526 - val_acc: 0.7350\n",
      "Epoch 21/30\n",
      "100/100 [==============================] - 27s 269ms/step - loss: 0.1693 - acc: 0.9380 - val_loss: 0.7029 - val_acc: 0.7250\n",
      "Epoch 22/30\n",
      "100/100 [==============================] - 27s 268ms/step - loss: 0.1548 - acc: 0.9440 - val_loss: 0.7158 - val_acc: 0.7233\n",
      "Epoch 23/30\n",
      "100/100 [==============================] - 27s 267ms/step - loss: 0.1327 - acc: 0.9530 - val_loss: 0.6926 - val_acc: 0.7550\n",
      "Epoch 24/30\n",
      "100/100 [==============================] - 28s 279ms/step - loss: 0.1166 - acc: 0.9675 - val_loss: 0.8673 - val_acc: 0.7217\n",
      "Epoch 25/30\n",
      "100/100 [==============================] - 29s 289ms/step - loss: 0.1133 - acc: 0.9615 - val_loss: 0.7796 - val_acc: 0.7250\n",
      "Epoch 26/30\n",
      "100/100 [==============================] - 31s 312ms/step - loss: 0.0941 - acc: 0.9675 - val_loss: 0.7958 - val_acc: 0.7283\n",
      "Epoch 27/30\n",
      "100/100 [==============================] - 28s 280ms/step - loss: 0.0838 - acc: 0.9740 - val_loss: 1.3486 - val_acc: 0.6633\n",
      "Epoch 28/30\n",
      "100/100 [==============================] - 27s 273ms/step - loss: 0.0773 - acc: 0.9765 - val_loss: 0.9227 - val_acc: 0.7233\n",
      "Epoch 29/30\n",
      "100/100 [==============================] - 27s 265ms/step - loss: 0.0628 - acc: 0.9850 - val_loss: 0.9817 - val_acc: 0.7067\n",
      "Epoch 30/30\n",
      "100/100 [==============================] - 27s 271ms/step - loss: 0.0500 - acc: 0.9895 - val_loss: 0.9387 - val_acc: 0.7417\n"
     ]
    }
   ],
   "source": [
    "history = model.fit_generator(train_generator, \n",
    "                              steps_per_epoch=100, \n",
    "                              epochs=30, validation_data=validation_generator, \n",
    "                              validation_steps=30)"
   ]
  },
  {
   "cell_type": "markdown",
   "id": "8b2a73fb",
   "metadata": {},
   "source": [
    "### *Saving the model*"
   ]
  },
  {
   "cell_type": "code",
   "execution_count": 14,
   "id": "537c4b61",
   "metadata": {},
   "outputs": [],
   "source": [
    "model.save('cats_and_dogs_small_1.h5')"
   ]
  },
  {
   "cell_type": "markdown",
   "id": "d92e9910",
   "metadata": {},
   "source": [
    "### *Displaying curves of loss and accuracy during training*"
   ]
  },
  {
   "cell_type": "code",
   "execution_count": 15,
   "id": "7bb4fcda",
   "metadata": {},
   "outputs": [
    {
     "data": {
      "image/png": "[encoded data removed]",
      "text/plain": [
       "<Figure size 640x480 with 1 Axes>"
      ]
     },
     "metadata": {},
     "output_type": "display_data"
    },
    {
     "data": {
      "image/png": "[encoded data removed]",
      "text/plain": [
       "<Figure size 640x480 with 1 Axes>"
      ]
     },
     "metadata": {},
     "output_type": "display_data"
    }
   ],
   "source": [
    "import matplotlib.pyplot as plt\n",
    "\n",
    "acc = history.history['acc']\n",
    "val_acc = history.history['val_acc']\n",
    "loss = history.history['loss']\n",
    "val_loss = history.history['val_loss']\n",
    "\n",
    "epochs = range(1, len(acc) + 1)\n",
    "\n",
    "plt.plot(epochs, acc, 'bo', label='Training acc')\n",
    "plt.plot(epochs, val_acc, 'b', label='Validation acc')\n",
    "plt.title('Training and validation accuracy')\n",
    "plt.legend()\n",
    "\n",
    "plt.figure()\n",
    "\n",
    "plt.plot(epochs, loss, 'bo', label='Training loss')\n",
    "plt.plot(epochs, val_loss, 'b', label='Validation loss')\n",
    "plt.title('Training and validation loss')\n",
    "plt.legend()\n",
    "\n",
    "plt.show()"
   ]
  },
  {
   "cell_type": "markdown",
   "id": "271f5a2a",
   "metadata": {},
   "source": [
    "These plots are characteristic of overfitting. The training accuracy increases linearly\n",
    "over time, until it reaches nearly 100%, whereas the validation accuracy stalls at 70–72%.\n",
    "The validation loss reaches its minimum after only five epochs and then stalls, whereas\n",
    "the training loss keeps decreasing linearly until it reaches nearly 0.\n",
    " Because you have relatively few training samples (2,000), overfitting will be your\n",
    "number-one concern. You already know about a number of techniques that can help\n",
    "mitigate overfitting, such as dropout and weight decay (L2 regularization). In the next section, we will work with a new one, specific to computer vision and used almost universally\n",
    "when processing images with deep-learning models: *data augmentation*. "
   ]
  },
  {
   "cell_type": "code",
   "execution_count": null,
   "id": "900ab2d2",
   "metadata": {},
   "outputs": [],
   "source": []
  }
 ],
 "metadata": {
  "kernelspec": {
   "display_name": "Python 3 (ipykernel)",
   "language": "python",
   "name": "python3"
  },
  "language_info": {
   "codemirror_mode": {
    "name": "ipython",
    "version": 3
   },
   "file_extension": ".py",
   "mimetype": "text/x-python",
   "name": "python",
   "nbconvert_exporter": "python",
   "pygments_lexer": "ipython3",
   "version": "3.10.9"
  }
 },
 "nbformat": 4,
 "nbformat_minor": 5
}
