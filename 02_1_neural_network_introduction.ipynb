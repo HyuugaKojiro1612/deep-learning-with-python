{
 "cells": [
  {
   "cell_type": "markdown",
   "metadata": {},
   "source": [
    "## 2.1 A first look at a neural network\n",
    "\n",
    "The problem we’re trying to solve here is to classify grayscale images of handwritten digits (28 × 28 pixels) into their 10 categories (0 through 9). We’ll use the MNIST dataset, a classic in the machine-learning community, which has been around almost as long as the field itself and has been intensively studied. It’s a set of 60,000 training images, plus 10,000 test images, assembled by the National Institute of Standards and Technology (the NIST in MNIST) in the 1980s."
   ]
  },
  {
   "cell_type": "markdown",
   "metadata": {},
   "source": [
    "### *Loading the MNIST dataset in Keras*"
   ]
  },
  {
   "cell_type": "code",
   "execution_count": 1,
   "metadata": {
    "execution": {
     "iopub.execute_input": "2023-05-06T03:37:31.557446Z",
     "iopub.status.busy": "2023-05-06T03:37:31.556782Z",
     "iopub.status.idle": "2023-05-06T03:37:39.904259Z",
     "shell.execute_reply": "2023-05-06T03:37:39.903023Z",
     "shell.execute_reply.started": "2023-05-06T03:37:31.557411Z"
    }
   },
   "outputs": [],
   "source": [
    "from tensorflow.keras.datasets import mnist\n",
    "(train_images, train_labels), (test_images, test_labels) = mnist.load_data()"
   ]
  },
  {
   "cell_type": "code",
   "execution_count": 2,
   "metadata": {
    "execution": {
     "iopub.execute_input": "2023-05-06T03:37:50.318372Z",
     "iopub.status.busy": "2023-05-06T03:37:50.317640Z",
     "iopub.status.idle": "2023-05-06T03:37:50.329142Z",
     "shell.execute_reply": "2023-05-06T03:37:50.327890Z",
     "shell.execute_reply.started": "2023-05-06T03:37:50.318337Z"
    }
   },
   "outputs": [
    {
     "name": "stdout",
     "output_type": "stream",
     "text": [
      "(60000, 28, 28)\n",
      "60000\n"
     ]
    },
    {
     "data": {
      "text/plain": [
       "array([5, 0, 4, ..., 5, 6, 8], dtype=uint8)"
      ]
     },
     "execution_count": 2,
     "metadata": {},
     "output_type": "execute_result"
    }
   ],
   "source": [
    "print(train_images.shape)\n",
    "print(len(train_labels))\n",
    "train_labels"
   ]
  },
  {
   "cell_type": "code",
   "execution_count": 3,
   "metadata": {
    "execution": {
     "iopub.execute_input": "2023-05-06T03:37:53.277559Z",
     "iopub.status.busy": "2023-05-06T03:37:53.277150Z",
     "iopub.status.idle": "2023-05-06T03:37:53.285412Z",
     "shell.execute_reply": "2023-05-06T03:37:53.284134Z",
     "shell.execute_reply.started": "2023-05-06T03:37:53.277529Z"
    }
   },
   "outputs": [
    {
     "name": "stdout",
     "output_type": "stream",
     "text": [
      "(10000, 28, 28)\n",
      "10000\n"
     ]
    },
    {
     "data": {
      "text/plain": [
       "array([7, 2, 1, ..., 4, 5, 6], dtype=uint8)"
      ]
     },
     "execution_count": 3,
     "metadata": {},
     "output_type": "execute_result"
    }
   ],
   "source": [
    "print(test_images.shape)\n",
    "print(len(test_labels))\n",
    "test_labels"
   ]
  },
  {
   "cell_type": "markdown",
   "metadata": {},
   "source": [
    "The workflow will be as follows: First, we’ll feed the neural network the training data, `train_images` and `train_labels`. The network will then learn to associate images and labels. Finally, we’ll ask the network to produce predictions for `test_images`, and we’ll verify whether these predictions match the labels from `test_labels`."
   ]
  },
  {
   "cell_type": "markdown",
   "metadata": {},
   "source": [
    "###  *The network architecture*"
   ]
  },
  {
   "cell_type": "code",
   "execution_count": 4,
   "metadata": {
    "execution": {
     "iopub.execute_input": "2023-05-06T03:37:57.865862Z",
     "iopub.status.busy": "2023-05-06T03:37:57.865464Z",
     "iopub.status.idle": "2023-05-06T03:37:58.075455Z",
     "shell.execute_reply": "2023-05-06T03:37:58.074308Z",
     "shell.execute_reply.started": "2023-05-06T03:37:57.865833Z"
    }
   },
   "outputs": [],
   "source": [
    "from tensorflow import keras\n",
    "from tensorflow.keras import layers\n",
    "from keras import layers\n",
    "model = keras.Sequential([\n",
    "    layers.Dense(512, activation=\"relu\"),\n",
    "    layers.Dense(10, activation=\"softmax\")\n",
    "])"
   ]
  },
  {
   "cell_type": "markdown",
   "metadata": {},
   "source": [
    "The core building block of neural networks is the *layer*, a data-processing module that you can think of as a filter for data. Some data goes in, and it comes out in a more useful form. Specifically, layers extract *representations* out of the data fed into them — hopefully, representations that are more meaningful for the problem at hand. Most of deep learning consists of chaining together simple layers that will implement a form of progressive *data distillation*. A deep-learning model is like a sieve for data processing, made of a succession of increasingly refined data filters — the layers."
   ]
  },
  {
   "cell_type": "markdown",
   "metadata": {},
   "source": [
    "Here, our network consists of a sequence of two `Dense` layers, which are densely connected (also called *fully connected*) neural layers. The second (and last) layer is a 10-way *softmax* layer, which means it will return an array of 10 probability scores (summing to 1). Each score will be the probability that the current digit image belongs to one of our 10 digit classes."
   ]
  },
  {
   "cell_type": "markdown",
   "metadata": {},
   "source": [
    "To make the network ready for training, we need to pick three more things, as part of the compilation step:\n",
    "- A loss function—How the network will be able to measure its performance on the training data, and thus how it will be able to steer itself in the right direction.\n",
    "- An optimizer—The mechanism through which the network will update itself based on the data it sees and its loss function.\n",
    "- Metrics to monitor during training and testing—Here, we’ll only care about accuracy (the fraction of the images that were correctly classified)."
   ]
  },
  {
   "cell_type": "markdown",
   "metadata": {},
   "source": [
    "### *The compilation step*"
   ]
  },
  {
   "cell_type": "code",
   "execution_count": 5,
   "metadata": {
    "execution": {
     "iopub.execute_input": "2023-05-06T03:38:05.332464Z",
     "iopub.status.busy": "2023-05-06T03:38:05.332065Z",
     "iopub.status.idle": "2023-05-06T03:38:05.354878Z",
     "shell.execute_reply": "2023-05-06T03:38:05.354084Z",
     "shell.execute_reply.started": "2023-05-06T03:38:05.332434Z"
    }
   },
   "outputs": [],
   "source": [
    "model.compile(optimizer='rmsprop',\\\n",
    "                loss='categorical_crossentropy',\\\n",
    "                metrics=['accuracy'])"
   ]
  },
  {
   "cell_type": "markdown",
   "metadata": {},
   "source": [
    "Before training, we’ll preprocess the data by reshaping it into the shape the network expects and scaling it so that all values are in the `[0, 1]` interval. Previously, our training images, for instance, were stored in an array of shape `(60000, 28, 28)` of type `uint8` with values in the `[0, 255]` interval. We transform it into a `float32` array of shape `(60000, 28 * 28)` with values between 0 and 1.\n",
    "\n",
    "### *Preparing the image data*\n"
   ]
  },
  {
   "cell_type": "code",
   "execution_count": 6,
   "metadata": {
    "execution": {
     "iopub.execute_input": "2023-05-06T03:38:08.277422Z",
     "iopub.status.busy": "2023-05-06T03:38:08.277028Z",
     "iopub.status.idle": "2023-05-06T03:38:08.394517Z",
     "shell.execute_reply": "2023-05-06T03:38:08.393015Z",
     "shell.execute_reply.started": "2023-05-06T03:38:08.277393Z"
    }
   },
   "outputs": [],
   "source": [
    "train_images = train_images.reshape((60000, 28 * 28))\n",
    "train_images = train_images.astype('float32') / 255\n",
    "test_images = test_images.reshape((10000, 28 * 28))\n",
    "test_images = test_images.astype('float32') / 255"
   ]
  },
  {
   "cell_type": "markdown",
   "metadata": {},
   "source": [
    "We also need to categorically encode the labels, a step that’s explained in chapter 3.\n",
    "### *Preparing the labels*"
   ]
  },
  {
   "cell_type": "code",
   "execution_count": 7,
   "metadata": {
    "execution": {
     "iopub.execute_input": "2023-05-06T03:38:11.373379Z",
     "iopub.status.busy": "2023-05-06T03:38:11.372954Z",
     "iopub.status.idle": "2023-05-06T03:38:11.382754Z",
     "shell.execute_reply": "2023-05-06T03:38:11.381405Z",
     "shell.execute_reply.started": "2023-05-06T03:38:11.373346Z"
    }
   },
   "outputs": [],
   "source": [
    "from tensorflow.keras.utils import to_categorical\n",
    "train_labels = to_categorical(train_labels)\n",
    "test_labels = to_categorical(test_labels)"
   ]
  },
  {
   "cell_type": "code",
   "execution_count": 8,
   "metadata": {
    "execution": {
     "iopub.execute_input": "2023-05-06T03:39:24.383006Z",
     "iopub.status.busy": "2023-05-06T03:39:24.382251Z",
     "iopub.status.idle": "2023-05-06T03:39:41.405238Z",
     "shell.execute_reply": "2023-05-06T03:39:41.404378Z",
     "shell.execute_reply.started": "2023-05-06T03:39:24.382965Z"
    }
   },
   "outputs": [
    {
     "name": "stdout",
     "output_type": "stream",
     "text": [
      "Epoch 1/5\n",
      "469/469 [==============================] - 5s 9ms/step - loss: 0.2660 - accuracy: 0.9241\n",
      "Epoch 2/5\n",
      "469/469 [==============================] - 4s 9ms/step - loss: 0.1080 - accuracy: 0.9688\n",
      "Epoch 3/5\n",
      "469/469 [==============================] - 4s 8ms/step - loss: 0.0701 - accuracy: 0.9792\n",
      "Epoch 4/5\n",
      "469/469 [==============================] - 4s 8ms/step - loss: 0.0512 - accuracy: 0.9849\n",
      "Epoch 5/5\n",
      "469/469 [==============================] - 5s 10ms/step - loss: 0.0379 - accuracy: 0.9887\n"
     ]
    }
   ],
   "source": [
    "history = model.fit(train_images, train_labels, epochs=5, batch_size=128)"
   ]
  },
  {
   "cell_type": "code",
   "execution_count": 9,
   "metadata": {
    "execution": {
     "iopub.execute_input": "2023-05-06T03:39:46.924396Z",
     "iopub.status.busy": "2023-05-06T03:39:46.923814Z",
     "iopub.status.idle": "2023-05-06T03:39:46.933895Z",
     "shell.execute_reply": "2023-05-06T03:39:46.932458Z",
     "shell.execute_reply.started": "2023-05-06T03:39:46.924343Z"
    }
   },
   "outputs": [
    {
     "data": {
      "text/plain": [
       "dict_keys(['loss', 'accuracy'])"
      ]
     },
     "execution_count": 9,
     "metadata": {},
     "output_type": "execute_result"
    }
   ],
   "source": [
    "history_dict = history.history\n",
    "history_dict.keys()"
   ]
  },
  {
   "cell_type": "code",
   "execution_count": 10,
   "metadata": {
    "execution": {
     "iopub.execute_input": "2023-05-06T03:42:11.311089Z",
     "iopub.status.busy": "2023-05-06T03:42:11.310693Z",
     "iopub.status.idle": "2023-05-06T03:42:11.318487Z",
     "shell.execute_reply": "2023-05-06T03:42:11.317234Z",
     "shell.execute_reply.started": "2023-05-06T03:42:11.311059Z"
    }
   },
   "outputs": [
    {
     "data": {
      "text/plain": [
       "5"
      ]
     },
     "execution_count": 10,
     "metadata": {},
     "output_type": "execute_result"
    }
   ],
   "source": [
    "len(history_dict['accuracy'])"
   ]
  },
  {
   "cell_type": "code",
   "execution_count": 11,
   "metadata": {
    "execution": {
     "iopub.execute_input": "2023-05-06T03:47:13.798402Z",
     "iopub.status.busy": "2023-05-06T03:47:13.798007Z",
     "iopub.status.idle": "2023-05-06T03:47:14.670650Z",
     "shell.execute_reply": "2023-05-06T03:47:14.669526Z",
     "shell.execute_reply.started": "2023-05-06T03:47:13.798373Z"
    }
   },
   "outputs": [
    {
     "data": {
      "image/png": "[encoded data removed]",
      "text/plain": [
       "<Figure size 640x480 with 1 Axes>"
      ]
     },
     "metadata": {},
     "output_type": "display_data"
    }
   ],
   "source": [
    "import matplotlib.pyplot as plt\n",
    "acc_values = history_dict['accuracy']\n",
    "loss_values = history_dict['loss']\n",
    "epochs = range(1, len(acc_values) + 1)\n",
    "\n",
    "plt.plot(epochs, loss_values, 'b', label='Training loss')\n",
    "plt.title('Training loss')\n",
    "plt.xlabel('Epochs')\n",
    "plt.ylabel('Loss')\n",
    "plt.legend()\n",
    "\n",
    "plt.show()"
   ]
  },
  {
   "cell_type": "code",
   "execution_count": 12,
   "metadata": {
    "execution": {
     "iopub.execute_input": "2023-05-06T03:48:59.033869Z",
     "iopub.status.busy": "2023-05-06T03:48:59.032698Z",
     "iopub.status.idle": "2023-05-06T03:48:59.310354Z",
     "shell.execute_reply": "2023-05-06T03:48:59.309403Z",
     "shell.execute_reply.started": "2023-05-06T03:48:59.033825Z"
    }
   },
   "outputs": [
    {
     "data": {
      "image/png": "[encoded data removed]",
      "text/plain": [
       "<Figure size 640x480 with 1 Axes>"
      ]
     },
     "metadata": {},
     "output_type": "display_data"
    }
   ],
   "source": [
    "plt.clf()\n",
    "\n",
    "plt.plot(epochs, acc_values, 'b', label='Training accuracy')\n",
    "plt.title('Training accuracy')\n",
    "plt.xlabel('Epochs')\n",
    "plt.ylabel('Accuracy')\n",
    "plt.legend()\n",
    "\n",
    "plt.show()"
   ]
  },
  {
   "cell_type": "markdown",
   "metadata": {},
   "source": [
    "### *Using the model to make predictions*"
   ]
  },
  {
   "cell_type": "code",
   "execution_count": 14,
   "metadata": {},
   "outputs": [
    {
     "name": "stdout",
     "output_type": "stream",
     "text": [
      "1/1 [==============================] - 0s 101ms/step\n"
     ]
    },
    {
     "data": {
      "text/plain": [
       "array([9.9063236e-08, 9.0583390e-09, 4.7904859e-06, 4.3021551e-05,\n",
       "       2.7234545e-10, 4.0743657e-08, 5.1639266e-12, 9.9994540e-01,\n",
       "       1.4755791e-07, 6.4684914e-06], dtype=float32)"
      ]
     },
     "execution_count": 14,
     "metadata": {},
     "output_type": "execute_result"
    }
   ],
   "source": [
    "test_digits = test_images[0:10]\n",
    "predictions = model.predict(test_digits)\n",
    "predictions[0]"
   ]
  },
  {
   "cell_type": "markdown",
   "metadata": {},
   "source": [
    "Each number of index `i` in that array corresponds to the probability that digit image `test_digits[0]` belongs to class `i`.\n",
    " This first test digit has the highest probability score (0.999454, almost 1) at\n",
    "index 7, so according to our model, it must be a 7:"
   ]
  },
  {
   "cell_type": "code",
   "execution_count": 15,
   "metadata": {},
   "outputs": [
    {
     "name": "stdout",
     "output_type": "stream",
     "text": [
      "7\n",
      "0.9999454\n"
     ]
    }
   ],
   "source": [
    "print(predictions[0].argmax())\n",
    "print(predictions[0][7])"
   ]
  },
  {
   "cell_type": "markdown",
   "metadata": {},
   "source": [
    "### *Evaluating the model on new data*"
   ]
  },
  {
   "cell_type": "code",
   "execution_count": 16,
   "metadata": {
    "execution": {
     "iopub.execute_input": "2023-05-06T03:50:09.459721Z",
     "iopub.status.busy": "2023-05-06T03:50:09.459361Z",
     "iopub.status.idle": "2023-05-06T03:50:10.538544Z",
     "shell.execute_reply": "2023-05-06T03:50:10.537284Z",
     "shell.execute_reply.started": "2023-05-06T03:50:09.459694Z"
    }
   },
   "outputs": [
    {
     "name": "stdout",
     "output_type": "stream",
     "text": [
      "313/313 [==============================] - 1s 2ms/step - loss: 0.0606 - accuracy: 0.9817\n",
      "test_acc: 0.9817000031471252\n"
     ]
    }
   ],
   "source": [
    "test_loss, test_acc = model.evaluate(test_images, test_labels)\n",
    "print(f\"test_acc: {test_acc}\")"
   ]
  },
  {
   "cell_type": "code",
   "execution_count": null,
   "metadata": {},
   "outputs": [],
   "source": []
  }
 ],
 "metadata": {
  "kernelspec": {
   "display_name": "Python 3 (ipykernel)",
   "language": "python",
   "name": "python3"
  },
  "language_info": {
   "codemirror_mode": {
    "name": "ipython",
    "version": 3
   },
   "file_extension": ".py",
   "mimetype": "text/x-python",
   "name": "python",
   "nbconvert_exporter": "python",
   "pygments_lexer": "ipython3",
   "version": "3.10.9"
  }
 },
 "nbformat": 4,
 "nbformat_minor": 4
}
