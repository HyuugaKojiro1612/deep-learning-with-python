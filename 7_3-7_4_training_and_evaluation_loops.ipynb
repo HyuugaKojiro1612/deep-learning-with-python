{
 "cells": [
  {
   "cell_type": "markdown",
   "id": "19829b38",
   "metadata": {},
   "source": [
    "# 7.3 Using built-in training and evaluation loops\n",
    "\n",
    "### *The standard workflow: `compile()`, `fit()`, `evaluate()`, `predict()`*"
   ]
  },
  {
   "cell_type": "code",
   "execution_count": 1,
   "id": "e520998c",
   "metadata": {},
   "outputs": [
    {
     "name": "stdout",
     "output_type": "stream",
     "text": [
      "Epoch 1/3\n",
      "1563/1563 [==============================] - 14s 8ms/step - loss: 0.2952 - accuracy: 0.9128 - val_loss: 0.1714 - val_accuracy: 0.9514\n",
      "Epoch 2/3\n",
      "1563/1563 [==============================] - 14s 9ms/step - loss: 0.1608 - accuracy: 0.9533 - val_loss: 0.1260 - val_accuracy: 0.9640\n",
      "Epoch 3/3\n",
      "1563/1563 [==============================] - 13s 9ms/step - loss: 0.1305 - accuracy: 0.9631 - val_loss: 0.1068 - val_accuracy: 0.9716\n",
      "313/313 [==============================] - 1s 2ms/step - loss: 0.0956 - accuracy: 0.9752\n",
      "313/313 [==============================] - 1s 2ms/step\n"
     ]
    }
   ],
   "source": [
    "from tensorflow import keras\n",
    "from tensorflow.keras import layers\n",
    "from tensorflow.keras.datasets import mnist\n",
    "\n",
    "def get_mnist_model():\n",
    "    inputs = keras.Input(shape=(28 * 28,))\n",
    "    features = layers.Dense(512, activation='relu')(inputs)\n",
    "    features = layers.Dropout(0.5)(features)\n",
    "    outputs = layers.Dense(10, activation='softmax')(features)\n",
    "    model = keras.Model(inputs, outputs)\n",
    "    return model\n",
    "\n",
    "(images, labels), (test_images, test_labels) = mnist.load_data()\n",
    "images = images.reshape((60000, 28 * 28)).astype(\"float32\") / 255\n",
    "test_images = test_images.reshape((10000, 28 * 28)).astype(\"float32\") / 255\n",
    "train_images, val_images = images[10000:], images[:10000]\n",
    "train_labels, val_labels = labels[10000:], labels[:10000]\n",
    "\n",
    "model = get_mnist_model()\n",
    "\n",
    "# Compile the model by specifying its optimizer, the loss function to minimize, and the metrics to monitor.\n",
    "model.compile(optimizer=\"rmsprop\", \n",
    "              loss=\"sparse_categorical_crossentropy\",\n",
    "              metrics=[\"accuracy\"]) \n",
    "\n",
    "# Use fit() to train the model, optionally providing validation data to monitor performance on unseen data.\n",
    "model.fit(train_images, train_labels, epochs=3,\n",
    "          validation_data=(val_images, val_labels))\n",
    "\n",
    "# Use evaluate() to compute the loss and metrics on new data.\n",
    "test_metrics = model.evaluate(test_images, test_labels)\n",
    "\n",
    "# Use predict() to compute classification probabilities on new data.\n",
    "predictions = model.predict(test_images) "
   ]
  },
  {
   "cell_type": "markdown",
   "id": "9869b207",
   "metadata": {},
   "source": [
    "There are a couple of ways you can customize this simple workflow:\n",
    "- Provide your own custom metrics.\n",
    "- Pass callbacks to the `fit()` method to schedule actions to be taken at specific\n",
    "points during training.\n",
    "\n",
    "Let’s take a look at these.\n",
    "\n",
    "## 7.3.1 Writing your own metrics\n",
    "\n",
    "Metrics are key to measuring the performance of your model—in particular, to measuring the difference between its performance on the training data and its performance on the test data. Commonly used metrics for classification and regression are\n",
    "already part of the built-in `keras.metrics` module, and most of the time that’s what\n",
    "you will use. But if you’re doing anything out of the ordinary, you will need to be able\n",
    "to write your own metrics. It’s simple!\n",
    "\n",
    " A Keras metric is a subclass of the `keras.metrics.Metric` class. Like layers, a metric has an internal state stored in TensorFlow variables. Unlike layers, these variables\n",
    "aren’t updated via backpropagation, so you have to write the state-update logic yourself, which happens in the `update_state()` method.\n",
    "\n",
    " For example, here’s a simple custom metric that measures the root mean squared\n",
    "error (RMSE).\n",
    "\n",
    "### *Implementing a custom metric by subclassing the `Metric` class*"
   ]
  },
  {
   "cell_type": "code",
   "execution_count": 2,
   "id": "4fc091f3",
   "metadata": {},
   "outputs": [],
   "source": [
    "import tensorflow as tf\n",
    "\n",
    "# Subclass the Metric class.\n",
    "class RootMeanSquaredError(keras.metrics.Metric):\n",
    "    \n",
    "    # Define the state variables in the constructor. Like for layers, you have access to the add_weight() method.\n",
    "    def __init__(self, name='rmse', **kwargs):\n",
    "        super().__init__(name=name, **kwargs)\n",
    "        self.mse_sum = self.add_weight(name='mse_sum', initializer='zeros')\n",
    "        self.total_samples = self.add_weight(name='total_samples', initializer='zeros', dtype='int32')\n",
    "        \n",
    "    # Implement the state update logic in update_state(). The y_true argument is the targets (or labels) for one batch, \n",
    "    # while y_pred represents the corresponding predictions from the model. You can ignore the sample_weight argument—\n",
    "    # we won’t use it here.\n",
    "    def update_state(self, y_true, y_pred, sample_weight=None):\n",
    "        # To match our MNIST model, we expect categorical predictions and integer labels.\n",
    "        y_true = tf.one_hot(y_true, depth=tf.shape(y_pred)[1])\n",
    "        mse = tf.reduce_sum(tf.square(y_true - y_pred))\n",
    "        self.mse_sum.assign_add(mse)\n",
    "        num_samples = tf.shape(y_pred)[0]\n",
    "        self.total_samples.assign_add(num_samples)\n",
    "        \n",
    "    # Return the current value of the metric.\n",
    "    def result(self):\n",
    "        return tf.sqrt(self.mse_sum / tf.cast(self.total_samples, tf.float32))\n",
    "    \n",
    "    # Expose a way to reset the metric state without having to reinstantiate it—\n",
    "    # this enables the same metric objects to be used across different\n",
    "    # epochs of training or across both training and evaluation.\n",
    "    def reset_state(self):\n",
    "        self.mse_sum.assign(0.)\n",
    "        self.total_samples.assign(0)"
   ]
  },
  {
   "cell_type": "markdown",
   "id": "bf6ccc68",
   "metadata": {},
   "source": [
    "Custom metrics can be used just like built-in ones. You can now see the `fit()` progress bar displaying the RMSE of your model. "
   ]
  },
  {
   "cell_type": "code",
   "execution_count": 3,
   "id": "3c7aac1d",
   "metadata": {},
   "outputs": [
    {
     "name": "stdout",
     "output_type": "stream",
     "text": [
      "Epoch 1/3\n",
      "1563/1563 [==============================] - 15s 9ms/step - loss: 0.2937 - accuracy: 0.9127 - rmse: 7.1782 - val_loss: 0.1462 - val_accuracy: 0.9570 - val_rmse: 7.3566\n",
      "Epoch 2/3\n",
      "1563/1563 [==============================] - 14s 9ms/step - loss: 0.1612 - accuracy: 0.9543 - rmse: 7.3517 - val_loss: 0.1288 - val_accuracy: 0.9638 - val_rmse: 7.3998\n",
      "Epoch 3/3\n",
      "1563/1563 [==============================] - 14s 9ms/step - loss: 0.1314 - accuracy: 0.9632 - rmse: 7.3803 - val_loss: 0.1026 - val_accuracy: 0.9725 - val_rmse: 7.4240\n",
      "313/313 [==============================] - 1s 2ms/step - loss: 0.0928 - accuracy: 0.9758 - rmse: 7.4376\n"
     ]
    }
   ],
   "source": [
    "model = get_mnist_model()\n",
    "model.compile(optimizer=\"rmsprop\",\n",
    "              loss=\"sparse_categorical_crossentropy\",\n",
    "              metrics=[\"accuracy\", RootMeanSquaredError()])\n",
    "model.fit(train_images, train_labels, epochs=3,\n",
    "          validation_data=(val_images, val_labels))\n",
    "test_metrics = model.evaluate(test_images, test_labels)"
   ]
  },
  {
   "cell_type": "markdown",
   "id": "83a73412",
   "metadata": {},
   "source": [
    "## 7.3.2 Using callbacks\n",
    "\n",
    "A callback is an object (a class instance implementing specific methods) that is passed to the model in the call to `fit()` and that is called by the model at various points during training. It has access to all the available data about the state of the model and its performance, and it can take action: interrupt training, save a model, load a different weight set, or otherwise alter the state of the model.\n",
    "\n",
    " Here are some examples of ways you can use callbacks:\n",
    "- *Model checkpointing*—Saving the current state of the model at different points during training.\n",
    "- *Early stopping*—Interrupting training when the validation loss is no longer improving (and of course, saving the best model obtained during training).\n",
    "- *Dynamically adjusting the value of certain parameters during training*—Such as the learning rate of the optimizer.\n",
    "- *Logging training and validation metrics during training, or visualizing the representations learned by the model as they’re updated*—The `fit()` progress bar that you’re familiar with is in fact a callback!\n",
    "\n",
    "The `keras.callbacks` module includes a number of built-in callbacks (this is not an\n",
    "exhaustive list):\n",
    "- `keras.callbacks.ModelCheckpoint`\n",
    "- `keras.callbacks.EarlyStopping`\n",
    "- `keras.callbacks.LearningRateScheduler`\n",
    "- `keras.callbacks.ReduceLROnPlateau`\n",
    "- `keras.callbacks.CSVLogger`\n",
    "\n",
    "Let’s review two of them to give you an idea of how to use them: `EarlyStopping` and\n",
    "`ModelCheckpoint`."
   ]
  },
  {
   "cell_type": "markdown",
   "id": "2c93ab0b",
   "metadata": {},
   "source": [
    "### The `EarlyStopping` and `ModelCheckpoint` callbacks\n",
    "\n",
    "When you’re training a model, there are many things you can’t predict from the start.\n",
    "In particular, you can’t tell how many epochs will be needed to get to an optimal validation loss. Our examples so far have adopted the strategy of training for enough\n",
    "epochs that you begin overfitting, using the first run to figure out the proper number\n",
    "of epochs to train for, and then finally launching a new training run from scratch\n",
    "using this optimal number. Of course, this approach is wasteful. A much better way to\n",
    "handle this is to stop training when you measure that the validation loss is no longer\n",
    "improving. This can be achieved using the `EarlyStopping` callback.\n",
    "\n",
    " The `EarlyStopping` callback interrupts training once a target metric being monitored has stopped improving for a fixed number of epochs. For instance, this callback\n",
    "allows you to interrupt training as soon as you start overfitting, thus avoiding having to\n",
    "retrain your model for a smaller number of epochs. This callback is typically used in\n",
    "combination with `ModelCheckpoint`, which lets you continually save the model during\n",
    "training (and, optionally, save only the current best model so far: the version of the\n",
    "model that achieved the best performance at the end of an epoch).\n",
    "\n",
    "### *Using the `callbacks` argument in the `fit()` method*"
   ]
  },
  {
   "cell_type": "code",
   "execution_count": 4,
   "id": "433ba251",
   "metadata": {},
   "outputs": [
    {
     "name": "stdout",
     "output_type": "stream",
     "text": [
      "Epoch 1/10\n",
      "1563/1563 [==============================] - 14s 9ms/step - loss: 0.2972 - accuracy: 0.9117 - val_loss: 0.1480 - val_accuracy: 0.9570\n",
      "Epoch 2/10\n",
      "1563/1563 [==============================] - 14s 9ms/step - loss: 0.1611 - accuracy: 0.9531 - val_loss: 0.1206 - val_accuracy: 0.9676\n",
      "Epoch 3/10\n",
      "1563/1563 [==============================] - 14s 9ms/step - loss: 0.1303 - accuracy: 0.9629 - val_loss: 0.1062 - val_accuracy: 0.9713\n",
      "Epoch 4/10\n",
      "1563/1563 [==============================] - 14s 9ms/step - loss: 0.1151 - accuracy: 0.9688 - val_loss: 0.1020 - val_accuracy: 0.9738\n",
      "Epoch 5/10\n",
      "1563/1563 [==============================] - 14s 9ms/step - loss: 0.1061 - accuracy: 0.9713 - val_loss: 0.0956 - val_accuracy: 0.9754\n",
      "Epoch 6/10\n",
      "1563/1563 [==============================] - 14s 9ms/step - loss: 0.0955 - accuracy: 0.9746 - val_loss: 0.0861 - val_accuracy: 0.9792\n",
      "Epoch 7/10\n",
      "1563/1563 [==============================] - 14s 9ms/step - loss: 0.0887 - accuracy: 0.9751 - val_loss: 0.0928 - val_accuracy: 0.9765\n",
      "Epoch 8/10\n",
      "1563/1563 [==============================] - 14s 9ms/step - loss: 0.0833 - accuracy: 0.9775 - val_loss: 0.0897 - val_accuracy: 0.9786\n"
     ]
    },
    {
     "data": {
      "text/plain": [
       "<keras.callbacks.History at 0x12a81724910>"
      ]
     },
     "execution_count": 4,
     "metadata": {},
     "output_type": "execute_result"
    }
   ],
   "source": [
    "# Callbacks are passed to the model via the callbacks argument in fit(), which takes a list of callbacks.\n",
    "# You can pass any number of callbacks.\n",
    "callbacks_list = [\n",
    "    keras.callbacks.EarlyStopping( # Interrupts training when improvement stops.\n",
    "        monitor=\"val_accuracy\",    # Monitors the model's validation accuracy.\n",
    "        patience=2,                # Interrupts training when accuracy has stopped improving for two epochs.\n",
    "    ),\n",
    "    keras.callbacks.ModelCheckpoint(      # Saves the current weights after every epoch.\n",
    "        filepath=\"checkpoint_path.keras\", # Path to the destination model file.\n",
    "        monitor=\"val_loss\",               # These two arguments mean you won’t overwrite the model file unless val_loss  \n",
    "        save_best_only=True,              # has improved, which allows you to keep the best model seen during training.\n",
    "    )\n",
    "]\n",
    "\n",
    "model = get_mnist_model()\n",
    "model.compile(optimizer=\"rmsprop\",\n",
    "              loss=\"sparse_categorical_crossentropy\",\n",
    "              metrics=[\"accuracy\"])       # You monitor accuracy, so it should be part of the model’s metrics.\n",
    "\n",
    "# Note that because the callback will monitor validation loss and validation accuracy, \n",
    "# you need to pass validation_data to the call to fit().\n",
    "model.fit(train_images, train_labels,\n",
    "          epochs=10,\n",
    "          callbacks=callbacks_list,\n",
    "          validation_data=(val_images, val_labels))"
   ]
  },
  {
   "cell_type": "markdown",
   "id": "4b79bd40",
   "metadata": {},
   "source": [
    "Note that you can always save models manually after training as well—just call\n",
    "`model.save('my_checkpoint_path')`. To reload the model you’ve saved, just use "
   ]
  },
  {
   "cell_type": "code",
   "execution_count": 5,
   "id": "9a3f0c45",
   "metadata": {},
   "outputs": [],
   "source": [
    "model = keras.models.load_model('checkpoint_path.keras')"
   ]
  },
  {
   "cell_type": "markdown",
   "id": "1380739e",
   "metadata": {},
   "source": [
    "## 7.3.3 Writing your own callbacks\n",
    "\n",
    "If you need to take a specific action during training that isn’t covered by one of the\n",
    "built-in callbacks, you can write your own callback. Callbacks are implemented by subclassing the `keras.callbacks.Callback` class. You can then implement any number\n",
    "of the following transparently named methods, which are called at various points\n",
    "during training:\n",
    "\n",
    "- `on_epoch_begin(epoch, logs)`—Called at the start of every epoch.\n",
    "- `on_epoch_end(epoch, logs)`—Called at the end of every epoch.\n",
    "- `on_batch_begin(batch, logs)`—Called right before processing each batch.\n",
    "- `on_batch_end(batch, logs)`—Called right after processing each batch.\n",
    "- `on_train_begin(logs)`—Called at the start of training.\n",
    "- `on_train_end(logs)`—Called at the end of training.\n",
    "\n",
    "These methods are all called with a `logs` argument, which is a dictionary containing\n",
    "information about the previous batch, epoch, or training run—training and validation metrics, and so on. The `on_epoch_*` and `on_batch_*` methods also take the\n",
    "epoch or batch index as their first argument (an integer).\n",
    "\n",
    " Here’s a simple example that saves a list of per-batch loss values during training\n",
    "and saves a graph of these values at the end of each epoch.\n",
    "\n",
    "### *Creating a custom callback by subclassing the `Callback` class*"
   ]
  },
  {
   "cell_type": "code",
   "execution_count": 6,
   "id": "cefb402d",
   "metadata": {},
   "outputs": [
    {
     "name": "stdout",
     "output_type": "stream",
     "text": [
      "Epoch 1/10\n",
      "1563/1563 [==============================] - 15s 9ms/step - loss: 0.2942 - accuracy: 0.9137 - val_loss: 0.1455 - val_accuracy: 0.9576\n",
      "Epoch 2/10\n",
      "1563/1563 [==============================] - 15s 9ms/step - loss: 0.1590 - accuracy: 0.9538 - val_loss: 0.1102 - val_accuracy: 0.9689\n",
      "Epoch 3/10\n",
      "1563/1563 [==============================] - 14s 9ms/step - loss: 0.1294 - accuracy: 0.9636 - val_loss: 0.0986 - val_accuracy: 0.9726\n",
      "Epoch 4/10\n",
      "1563/1563 [==============================] - 13s 8ms/step - loss: 0.1118 - accuracy: 0.9694 - val_loss: 0.0979 - val_accuracy: 0.9734\n",
      "Epoch 5/10\n",
      "1563/1563 [==============================] - 13s 8ms/step - loss: 0.1003 - accuracy: 0.9721 - val_loss: 0.0862 - val_accuracy: 0.9774\n",
      "Epoch 6/10\n",
      "1563/1563 [==============================] - 14s 9ms/step - loss: 0.0979 - accuracy: 0.9738 - val_loss: 0.0941 - val_accuracy: 0.9769\n",
      "Epoch 7/10\n",
      "1563/1563 [==============================] - 14s 9ms/step - loss: 0.0883 - accuracy: 0.9760 - val_loss: 0.0889 - val_accuracy: 0.9777\n",
      "Epoch 8/10\n",
      "1563/1563 [==============================] - 14s 9ms/step - loss: 0.0825 - accuracy: 0.9779 - val_loss: 0.0919 - val_accuracy: 0.9779\n",
      "Epoch 9/10\n",
      "1563/1563 [==============================] - 14s 9ms/step - loss: 0.0755 - accuracy: 0.9790 - val_loss: 0.0922 - val_accuracy: 0.9791\n",
      "Epoch 10/10\n",
      "1563/1563 [==============================] - 14s 9ms/step - loss: 0.0753 - accuracy: 0.9802 - val_loss: 0.0898 - val_accuracy: 0.9805\n"
     ]
    },
    {
     "data": {
      "text/plain": [
       "<keras.callbacks.History at 0x12a8042e650>"
      ]
     },
     "execution_count": 6,
     "metadata": {},
     "output_type": "execute_result"
    },
    {
     "data": {
      "image/png": "[encoded data removed]",
      "text/plain": [
       "<Figure size 640x480 with 1 Axes>"
      ]
     },
     "metadata": {},
     "output_type": "display_data"
    }
   ],
   "source": [
    "from matplotlib import pyplot as plt\n",
    "\n",
    "class LossHistory(keras.callbacks.Callback):\n",
    "    def on_train_begin(self, logs):\n",
    "        self.per_batch_losses = []\n",
    "        \n",
    "    def on_batch_end(self, batch, logs):\n",
    "        self.per_batch_losses.append(logs.get(\"loss\"))\n",
    "        \n",
    "    def on_epoch_end(self, epoch, logs):\n",
    "        plt.clf()\n",
    "        plt.plot(range(len(self.per_batch_losses)), self.per_batch_losses, \n",
    "                 label=\"Training loss for each batch\")\n",
    "        plt.xlabel(f\"Batch (epoch {epoch})\")\n",
    "        plt.ylabel(\"Loss\")\n",
    "        plt.legend()\n",
    "        plt.savefig(f\"plot_at_epoch_{epoch}\")\n",
    "        self.per_batch_losses = []\n",
    "        \n",
    "\n",
    "model = get_mnist_model()\n",
    "model.compile(optimizer=\"rmsprop\",\n",
    "              loss=\"sparse_categorical_crossentropy\",\n",
    "              metrics=[\"accuracy\"])\n",
    "model.fit(train_images, train_labels,\n",
    "          epochs=10,\n",
    "          callbacks=[LossHistory()],\n",
    "          validation_data=(val_images, val_labels))"
   ]
  },
  {
   "cell_type": "markdown",
   "id": "26f9f809",
   "metadata": {},
   "source": [
    "## 7.3.4 Monitoring and visualization with TensorBoard\n",
    "\n",
    "To do good research or develop good models, you need rich, frequent feedback about\n",
    "what’s going on inside your models during your experiments. That’s the point of running experiments: to get information about how well a model performs—as much\n",
    "information as possible. Making progress is an iterative process, a loop—you start with\n",
    "an idea and express it as an experiment, attempting to validate or invalidate your idea.\n",
    "You run this experiment and process the information it generates. This inspires your\n",
    "next idea. The more iterations of this loop you’re able to run, the more refined and\n",
    "powerful your ideas become. Keras helps you go from idea to experiment in the least\n",
    "possible time, and fast GPUs can help you get from experiment to result as quickly as\n",
    "possible. But what about processing the experiment’s results? That’s where TensorBoard comes in.\n",
    "\n",
    "TensorBoard (www.tensorflow.org/tensorboard) is a browser-based application that\n",
    "you can run locally. It’s the best way to monitor everything that goes on inside your\n",
    "model during training. With TensorBoard, you can\n",
    "- Visually monitor metrics during training\n",
    "- Visualize your model architecture\n",
    "- Visualize histograms of activations and gradients\n",
    "- Explore embeddings in 3D\n",
    "\n",
    "If you’re monitoring more information than just the model’s final loss, you can\n",
    "develop a clearer vision of what the model does and doesn’t do, and you can make\n",
    "progress more quickly.\n",
    "\n",
    " The easiest way to use TensorBoard with a Keras model and the `fit()` method is to\n",
    "use the `keras.callbacks.TensorBoard` callback.\n",
    "\n",
    " In the simplest case, just specify where you want the callback to write logs, and\n",
    "you’re good to go:"
   ]
  },
  {
   "cell_type": "code",
   "execution_count": 7,
   "id": "7926057b",
   "metadata": {},
   "outputs": [
    {
     "name": "stdout",
     "output_type": "stream",
     "text": [
      "Epoch 1/10\n",
      "1563/1563 [==============================] - 14s 9ms/step - loss: 0.2916 - accuracy: 0.9140 - val_loss: 0.1416 - val_accuracy: 0.9596\n",
      "Epoch 2/10\n",
      "1563/1563 [==============================] - 14s 9ms/step - loss: 0.1593 - accuracy: 0.9551 - val_loss: 0.1164 - val_accuracy: 0.9676\n",
      "Epoch 3/10\n",
      "1563/1563 [==============================] - 14s 9ms/step - loss: 0.1296 - accuracy: 0.9632 - val_loss: 0.1077 - val_accuracy: 0.9710\n",
      "Epoch 4/10\n",
      "1563/1563 [==============================] - 14s 9ms/step - loss: 0.1157 - accuracy: 0.9671 - val_loss: 0.1060 - val_accuracy: 0.9729\n",
      "Epoch 5/10\n",
      "1563/1563 [==============================] - 14s 9ms/step - loss: 0.1058 - accuracy: 0.9708 - val_loss: 0.0916 - val_accuracy: 0.9778\n",
      "Epoch 6/10\n",
      "1563/1563 [==============================] - 15s 9ms/step - loss: 0.0951 - accuracy: 0.9757 - val_loss: 0.0922 - val_accuracy: 0.9776\n",
      "Epoch 7/10\n",
      "1563/1563 [==============================] - 15s 9ms/step - loss: 0.0912 - accuracy: 0.9757 - val_loss: 0.0920 - val_accuracy: 0.9790\n",
      "Epoch 8/10\n",
      "1563/1563 [==============================] - 14s 9ms/step - loss: 0.0861 - accuracy: 0.9776 - val_loss: 0.0912 - val_accuracy: 0.9784\n",
      "Epoch 9/10\n",
      "1563/1563 [==============================] - 14s 9ms/step - loss: 0.0782 - accuracy: 0.9782 - val_loss: 0.0838 - val_accuracy: 0.9804\n",
      "Epoch 10/10\n",
      "1563/1563 [==============================] - 14s 9ms/step - loss: 0.0738 - accuracy: 0.9800 - val_loss: 0.0892 - val_accuracy: 0.9789\n"
     ]
    },
    {
     "data": {
      "text/plain": [
       "<keras.callbacks.History at 0x12a861f6620>"
      ]
     },
     "execution_count": 7,
     "metadata": {},
     "output_type": "execute_result"
    }
   ],
   "source": [
    "model = get_mnist_model()\n",
    "model.compile(optimizer=\"rmsprop\",\n",
    "              loss=\"sparse_categorical_crossentropy\",\n",
    "              metrics=[\"accuracy\"])\n",
    "\n",
    "tensorboard = keras.callbacks.TensorBoard(\n",
    "    log_dir=\"/full_path_to_your_log_dir\",\n",
    ")\n",
    "\n",
    "model.fit(train_images, train_labels,\n",
    "          epochs=10,\n",
    "          validation_data=(val_images, val_labels),\n",
    "          callbacks=[tensorboard])"
   ]
  },
  {
   "cell_type": "markdown",
   "id": "3a699a40",
   "metadata": {},
   "source": [
    "Once the model starts running, it will write logs at the target location. If you are running your Python script on a local machine, you can then launch the local TensorBoard server using the following command (note that the `tensorboard` executable\n",
    "should be already available if you have installed TensorFlow via `pip`; if not, you can\n",
    "install TensorBoard manually via `pip install tensorboard`):\n",
    "\n",
    "`tensorboard --logdir /full_path_to_your_log_dir`\n",
    "\n",
    "You can then navigate to the URL that the command returns in order to access the\n",
    "TensorBoard interface.\n",
    "\n",
    " If you are running your script in a Colab notebook, you can run an embedded TensorBoard instance as part of your notebook, using the following commands:\n",
    " \n",
    "`%load_ext tensorboard`\n",
    "\n",
    "`%tensorboard --logdir /full_path_to_your_log_dir`\n",
    "\n",
    "In the TensorBoard interface, you will be able to monitor live graphs of your training\n",
    "and evaluation metrics."
   ]
  },
  {
   "cell_type": "markdown",
   "id": "dc8204e3",
   "metadata": {},
   "source": [
    "# 7.4 Writing your own training and evaluation loops\n",
    "\n",
    "The `fit()` workflow strikes a nice balance between ease of use and flexibility. It’s what\n",
    "you will use most of the time. However, it isn’t meant to support everything a deep\n",
    "learning researcher may want to do, even with custom metrics, custom losses, and custom callbacks.\n",
    "\n",
    " After all, the built-in `fit()` workflow is solely focused on supervised learning: a setup\n",
    "where there are known *targets* (also called *labels* or *annotations*) associated with your\n",
    "input data, and where you compute your loss as a function of these targets and the\n",
    "model’s predictions. However, not every form of machine learning falls into this\n",
    "category. There are other setups where no explicit targets are present, such as *generative learning* (which we will discuss in chapter 12), *self-supervised learning* (where targets\n",
    "are obtained from the inputs), and *reinforcement learning* (where learning is driven by\n",
    "occasional “rewards,” much like training a dog). Even if you’re doing regular supervised learning, as a researcher, you may want to add some novel bells and whistles that\n",
    "require low-level flexibility.\n",
    "\n",
    "Whenever you find yourself in a situation where the built-in `fit()` is not enough,\n",
    "you will need to write your own custom training logic. You already saw simple examples of low-level training loops in chapters 2 and 3. As a reminder, the contents of a\n",
    "typical training loop look like this:\n",
    "1. Run the forward pass (compute the model’s output) inside a gradient tape to\n",
    "obtain a loss value for the current batch of data.\n",
    "2. Retrieve the gradients of the loss with regard to the model’s weights.\n",
    "3. Update the model’s weights so as to lower the loss value on the current batch\n",
    "of data.\n",
    "\n",
    "These steps are repeated for as many batches as necessary. This is essentially what\n",
    "`fit()` does under the hood. In this section, you will learn to reimplement `fit()` from\n",
    "scratch, which will give you all the knowledge you need to write any training algorithm\n",
    "you may come up with.\n",
    " Let’s go over the details."
   ]
  },
  {
   "cell_type": "markdown",
   "id": "46139ca0",
   "metadata": {},
   "source": [
    "## 7.4.1 Training vs. inference\n",
    "\n",
    "In the low-level training loop examples you’ve seen so far, step 1 (the forward pass)\n",
    "was done via `predictions = model(inputs)`, and step 2 (retrieving the gradients\n",
    "computed by the gradient tape) was done via `gradients = tape.gradient(loss,\n",
    "model.weights)`. In the general case, there are actually two subtleties you need to take\n",
    "into account.\n",
    "\n",
    "Some Keras layers, such as the `Dropout` layer, have different behaviors during training\n",
    "and during inference (when you use them to generate predictions). Such layers expose\n",
    "a `training` Boolean argument in their `call()` method. Calling `dropout(inputs,\n",
    "training=True)` will drop some activation entries, while calling `dropout(inputs,\n",
    "training=False)` does nothing. By extension, Functional and Sequential models also\n",
    "expose this training argument in their `call()` methods. Remember to pass `training\n",
    "=True` when you call a Keras model during the forward pass! Our forward pass thus\n",
    "becomes `predictions = model(inputs, training=True)`.\n",
    "\n",
    " In addition, note that when you retrieve the gradients of the weights of your\n",
    "model, you should not use `tape.gradients(loss, model.weights)`, but rather `tape\n",
    ".gradients(loss, model.trainable_weights)`. Indeed, layers and models own two\n",
    "kinds of weights:\n",
    "- *Trainable weights*—These are meant to be updated via backpropagation to minimize the loss of the model, such as the kernel and bias of a `Dense` layer.\n",
    "- *Non-trainable weights*—These are meant to be updated during the forward pass\n",
    "by the layers that own them. For instance, if you wanted a custom layer to keep\n",
    "a counter of how many batches it has processed so far, that information would\n",
    "be stored in a non-trainable weight, and at each batch, your layer would increment the counter by one.\n",
    "\n",
    "Among Keras built-in layers, the only layer that features non-trainable weights is the\n",
    "`BatchNormalization` layer, which we will discuss in chapter 9. The `BatchNormalization`\n",
    "layer needs non-trainable weights in order to track information about the mean and\n",
    "standard deviation of the data that passes through it, so as to perform an online\n",
    "approximation of *feature normalization* (a concept you learned about in chapter 6).\n",
    "\n",
    " Taking into account these two details, a supervised-learning training step ends up\n",
    "looking like this:\n",
    "\n",
    "```python\n",
    "def train_step(inputs, targets):\n",
    "    with tf.GradientTape() as tape:\n",
    "        predictions = model(inputs, training=True)\n",
    "        loss = loss_fn(targets, predictions)\n",
    "    gradients = tape.gradients(loss, model.trainable_weights)\n",
    "    optimizer.apply_gradients(zip(model.trainable_weights, gradients))\n",
    "```"
   ]
  },
  {
   "cell_type": "markdown",
   "id": "92c7948a",
   "metadata": {},
   "source": [
    "## 7.4.2 Low-level usage of metrics\n",
    "\n",
    "In a low-level training loop, you will probably want to leverage Keras metrics (whether\n",
    "custom ones or the built-in ones). You’ve already learned about the metrics API: simply call `update_state(y_true, y_pred)` for each batch of targets and predictions, and\n",
    "then use `result()` to query the current metric value:"
   ]
  },
  {
   "cell_type": "code",
   "execution_count": 8,
   "id": "32578893",
   "metadata": {},
   "outputs": [
    {
     "name": "stdout",
     "output_type": "stream",
     "text": [
      "result: 1.00\n"
     ]
    }
   ],
   "source": [
    "metric = keras.metrics.SparseCategoricalAccuracy()\n",
    "targets = [0, 1, 2]\n",
    "predictions = [[1, 0, 0], [0, 1, 0], [0, 0, 1]]\n",
    "metric.update_state(targets, predictions)\n",
    "current_result = metric.result()\n",
    "print(f\"result: {current_result:.2f}\")"
   ]
  },
  {
   "cell_type": "markdown",
   "id": "55317d93",
   "metadata": {},
   "source": [
    "You may also need to track the average of a scalar value, such as the model’s loss. You\n",
    "can do this via the `keras.metrics.Mean` metric:"
   ]
  },
  {
   "cell_type": "code",
   "execution_count": 9,
   "id": "72cad425",
   "metadata": {},
   "outputs": [
    {
     "name": "stdout",
     "output_type": "stream",
     "text": [
      "Mean of values: 2.00\n"
     ]
    }
   ],
   "source": [
    "values = [0, 1, 2, 3, 4]\n",
    "mean_tracker = keras.metrics.Mean()\n",
    "for value in values:\n",
    "    mean_tracker.update_state(value)\n",
    "print(f\"Mean of values: {mean_tracker.result():.2f}\")"
   ]
  },
  {
   "cell_type": "markdown",
   "id": "29d6367f",
   "metadata": {},
   "source": [
    "Remember to use `metric.reset_state()` when you want to reset the current results\n",
    "(at the start of a training epoch or at the start of evaluation). "
   ]
  },
  {
   "cell_type": "markdown",
   "id": "5330b444",
   "metadata": {},
   "source": [
    "## 7.4.3 A complete training and evaluation loop\n",
    "\n",
    "Let’s combine the forward pass, backward pass, and metrics tracking into a `fit()`-like\n",
    "training step function that takes a batch of data and targets and returns the logs that\n",
    "would get displayed by the `fit()` progress bar.\n",
    "\n",
    "### *Writing a step-by-step training loop: the training step function*"
   ]
  },
  {
   "cell_type": "code",
   "execution_count": 10,
   "id": "4ba747b0",
   "metadata": {},
   "outputs": [],
   "source": [
    "model = get_mnist_model()\n",
    "\n",
    "# Prepare the loss function.\n",
    "loss_fn = keras.losses.SparseCategoricalCrossentropy()\n",
    "# Prepare the optimizer\n",
    "optimizer = keras.optimizers.RMSprop()\n",
    "# Prepare a list of metrics to monitor.\n",
    "metrics = [keras.metrics.SparseCategoricalAccuracy()]\n",
    "# Prepare a Mean metric tracker to keep track of the loss average.\n",
    "loss_tracking_metric = keras.metrics.Mean()\n",
    "\n",
    "def train_step(inputs, targets):\n",
    "    # Run the forward pass. Note that we pass training=True.\n",
    "    with tf.GradientTape() as tape:\n",
    "        predictions = model(inputs, training=True)\n",
    "        loss = loss_fn(targets, predictions)\n",
    "        \n",
    "    # Run the backward pass. Note that we use the model.trainable_weights.\n",
    "    gradients = tape.gradient(loss, model.trainable_weights)\n",
    "    optimizer.apply_gradients(zip(gradients, model.trainable_weights))\n",
    "    \n",
    "    # Keep track of metrics.\n",
    "    logs = {}\n",
    "    for metric in metrics:\n",
    "        metric.update_state(targets, predictions)\n",
    "        logs[metric.name] = metric.result()\n",
    "    \n",
    "    # Keep track of the loss average.\n",
    "    loss_tracking_metric.update_state(loss)\n",
    "    logs[\"loss\"] = loss_tracking_metric.result()\n",
    "    \n",
    "    # Return the current value of the metrics and the loss.\n",
    "    return logs"
   ]
  },
  {
   "cell_type": "markdown",
   "id": "a4b307bf",
   "metadata": {},
   "source": [
    "We will need to reset the state of our metrics at the start of each epoch and before running evaluation. Here's a utility function to do it.\n",
    "\n",
    "### *Writing a step-by-step training loop: resetting the metrics*"
   ]
  },
  {
   "cell_type": "code",
   "execution_count": 11,
   "id": "ed726c81",
   "metadata": {},
   "outputs": [],
   "source": [
    "def reset_metrics():\n",
    "    for metric in metrics:\n",
    "        metric.reset_state()\n",
    "    loss_tracking_metric.reset_state()"
   ]
  },
  {
   "cell_type": "markdown",
   "id": "e08dd51f",
   "metadata": {},
   "source": [
    "We can now lay out our complete training loop. Note that we use a `tf.data.Dataset` object to turn our NumPy data into an iterator that iterates over the data in batches of size 32.\n",
    "\n",
    "### *Writing a step-by-step training loop: the loop itself*"
   ]
  },
  {
   "cell_type": "code",
   "execution_count": 12,
   "id": "99c6e4d0",
   "metadata": {},
   "outputs": [
    {
     "name": "stdout",
     "output_type": "stream",
     "text": [
      "Results at the end of epoch 0\n",
      "...sparse_categorical_accuracy: 0.9129\n",
      "...loss: 0.2919\n",
      "Results at the end of epoch 1\n",
      "...sparse_categorical_accuracy: 0.9533\n",
      "...loss: 0.1587\n",
      "Results at the end of epoch 2\n",
      "...sparse_categorical_accuracy: 0.9633\n",
      "...loss: 0.1291\n"
     ]
    }
   ],
   "source": [
    "training_dataset = tf.data.Dataset.from_tensor_slices((train_images, train_labels))\n",
    "training_dataset = training_dataset.batch(32)\n",
    "epochs = 3\n",
    "\n",
    "for epoch in range(epochs):\n",
    "    reset_metrics()\n",
    "    for inputs_batch, targets_batch in training_dataset:\n",
    "        logs = train_step(inputs_batch, targets_batch)\n",
    "    print(f\"Results at the end of epoch {epoch}\")\n",
    "    for key, value in logs.items():\n",
    "        print(f\"...{key}: {value:.4f}\")"
   ]
  },
  {
   "cell_type": "markdown",
   "id": "162ae61e",
   "metadata": {},
   "source": [
    "And here’s the evaluation loop: a simple `for` loop that repeatedly calls a `test_step()`\n",
    "function, which processes a single batch of data. The `test_step()` function is just a subset of the logic of `train_step()`. It omits the code that deals with updating the weights\n",
    "of the model—that is to say, everything involving the `GradientTape` and the optimizer.\n",
    "\n",
    "### *Writing a step-by-step evaluation loop*"
   ]
  },
  {
   "cell_type": "code",
   "execution_count": 13,
   "id": "b446c1ad",
   "metadata": {},
   "outputs": [
    {
     "name": "stdout",
     "output_type": "stream",
     "text": [
      "Evaluation results:\n",
      "...val_sparse_categorical_accuracy: 0.9689\n",
      "...val_loss: 0.1189\n"
     ]
    }
   ],
   "source": [
    "def test_step(inputs, targets):\n",
    "    # Note that we pass training=False.\n",
    "    predictions = model(inputs, training=False)\n",
    "    loss = loss_fn(targets, predictions)\n",
    "    \n",
    "    logs = {}\n",
    "    for metric in metrics:\n",
    "        metric.update_state(targets, predictions)\n",
    "        logs[\"val_\" + metric.name] = metric.result()\n",
    "        \n",
    "    loss_tracking_metric.update_state(loss)\n",
    "    logs[\"val_loss\"] = loss_tracking_metric.result()\n",
    "    return logs\n",
    "\n",
    "val_dataset = tf.data.Dataset.from_tensor_slices((val_images, val_labels))\n",
    "val_dataset = val_dataset.batch(32)\n",
    "reset_metrics() \n",
    "for inputs_batch, targets_batch in val_dataset:\n",
    "    logs = test_step(inputs_batch, targets_batch)\n",
    "print(\"Evaluation results:\")\n",
    "for key, value in logs.items():\n",
    "    print(f\"...{key}: {value:.4f}\")"
   ]
  },
  {
   "cell_type": "markdown",
   "id": "0a1a66ff",
   "metadata": {},
   "source": [
    "Congrats—you’ve just reimplemented `fit()` and `evaluate()`! Or almost: `fit()`\n",
    "and `evaluate()` support many more features, including large-scale distributed computation, which requires a bit more work. It also includes several key performance\n",
    "optimizations.\n",
    "\n",
    " Let’s take a look at one of these optimizations: TensorFlow function compilation."
   ]
  },
  {
   "cell_type": "markdown",
   "id": "351c5806",
   "metadata": {},
   "source": [
    "## 7.4.4 Make it fast with tf.function\n",
    "\n",
    "You may have noticed that your custom loops are running significantly slower than the\n",
    "built-in `fit()` and `evaluate()`, despite implementing essentially the same logic.\n",
    "That’s because, by default, TensorFlow code is executed line by line, *eagerly*, much like\n",
    "NumPy code or regular Python code. Eager execution makes it easier to debug your\n",
    "code, but it is far from optimal from a performance standpoint.\n",
    "\n",
    " It’s more performant to *compile* your TensorFlow code into a computation graph that\n",
    "can be globally optimized in a way that code interpreted line by line cannot. The syntax to do this is very simple: just add a `@tf.function` to any function you want to compile before executing.\n",
    "\n",
    "### *Adding a `@tf.function` decorator to our evaluation-step function*"
   ]
  },
  {
   "cell_type": "code",
   "execution_count": 14,
   "id": "e4c6d547",
   "metadata": {},
   "outputs": [
    {
     "name": "stdout",
     "output_type": "stream",
     "text": [
      "Evaluation results:\n",
      "...val_sparse_categorical_accuracy: 0.9689\n",
      "...val_loss: 0.1189\n"
     ]
    }
   ],
   "source": [
    "@tf.function    # This is the only line that changed.\n",
    "def test_step(inputs, targets):\n",
    "    predictions = model(inputs, training=False)\n",
    "    loss = loss_fn(targets, predictions)\n",
    "    \n",
    "    logs = {}\n",
    "    for metric in metrics:\n",
    "        metric.update_state(targets, predictions)\n",
    "        logs[\"val_\" + metric.name] = metric.result()\n",
    "        \n",
    "    loss_tracking_metric.update_state(loss)\n",
    "    logs[\"val_loss\"] = loss_tracking_metric.result()\n",
    "    return logs\n",
    "\n",
    "val_dataset = tf.data.Dataset.from_tensor_slices((val_images, val_labels))\n",
    "val_dataset = val_dataset.batch(32)\n",
    "reset_metrics() \n",
    "for inputs_batch, targets_batch in val_dataset:\n",
    "    logs = test_step(inputs_batch, targets_batch)\n",
    "print(\"Evaluation results:\")\n",
    "for key, value in logs.items():\n",
    "    print(f\"...{key}: {value:.4f}\")"
   ]
  },
  {
   "cell_type": "markdown",
   "id": "ab672b84",
   "metadata": {},
   "source": [
    "On the Colab CPU, we go from taking 1.80 s to run the evaluation loop to only 0.8 s.\n",
    "Much faster!\n",
    "\n",
    " Remember, while you are debugging your code, prefer running it eagerly, without\n",
    "any `@tf.function` decorator. It’s easier to track bugs this way. Once your code is working and you want to make it fast, add a `@tf.function` decorator to your training step\n",
    "and your evaluation step—or any other performance-critical function."
   ]
  },
  {
   "cell_type": "markdown",
   "id": "daf5a45e",
   "metadata": {},
   "source": [
    "## 7.4.5 Leveraging `fit()` with a custom training loop\n",
    "\n",
    "In the previous sections, we were writing our own training loop entirely from scratch.\n",
    "Doing so provides you with the most flexibility, but you end up writing a lot of code\n",
    "while simultaneously missing out on many convenient features of `fit()`, such as callbacks or built-in support for distributed training.\n",
    "\n",
    "What if you need a custom training algorithm, but you still want to leverage the\n",
    "power of the built-in Keras training logic? There’s actually a middle ground between\n",
    "`fit()` and a training loop written from scratch: you can provide a custom training\n",
    "step function and let the framework do the rest.\n",
    "\n",
    " You can do this by overriding the `train_step()` method of the Model class. This is\n",
    "the function that is called by `fit(`) for every batch of data. You will then be able to call\n",
    "`fit()` as usual, and it will be running your own learning algorithm under the hood.\n",
    "\n",
    " Here’s a simple example:\n",
    "- We create a new class that subclasses `keras.Model`.\n",
    "- We override the method `train_step(self, data)`. Its contents are nearly identical to what we used in the previous section. It returns a dictionary mapping\n",
    "metric names (including the loss) to their current values.\n",
    "- We implement a `metrics` property that tracks the model’s `Metric` instances.\n",
    "This enables the model to automatically call `reset_state()` on the model’s\n",
    "metrics at the start of each epoch and at the start of a call to `evaluate()`, so you\n",
    "don’t have to do it by hand.\n",
    "\n",
    "### *Implementing a custom training step to use with `fit()`*"
   ]
  },
  {
   "cell_type": "code",
   "execution_count": 15,
   "id": "fe75a2bc",
   "metadata": {},
   "outputs": [],
   "source": [
    "loss_fn = keras.losses.SparseCategoricalCrossentropy()\n",
    "# This metric object will be used to track the average of per-batch losses during training and evaluation.\n",
    "loss_tracker = keras.metrics.Mean(name=\"loss\")\n",
    "\n",
    "class CustomModel(keras.Model):\n",
    "    # Overide the train_step method.\n",
    "    def train_step(self, data):\n",
    "        inputs, targets = data\n",
    "        with tf.GradientTape() as tape:\n",
    "            # We use self(inputs, training=True) instead of model(inputs, training=True), since our model is the class itself.\n",
    "            predictions = self(inputs, training=True)\n",
    "            loss = loss_fn(targets, predictions)\n",
    "        gradients = tape.gradient(loss, self.trainable_weights)\n",
    "        self.optimizer.apply_gradients(zip(gradients, self.trainable_weights))\n",
    "        \n",
    "        # Update the loss tracker metric that tracks the average of the loss.\n",
    "        loss_tracker.update_state(loss)\n",
    "        # Return the average loss so far by querying the loss tracker metric.\n",
    "        return {\"loss\": loss_tracker.result()}\n",
    "    \n",
    "    @property\n",
    "    def metrics(self):\n",
    "        return [loss_tracker]"
   ]
  },
  {
   "cell_type": "markdown",
   "id": "7d0d57fc",
   "metadata": {},
   "source": [
    "We can now instantiate our custom model, compile it (we only pass the optimizer, since\n",
    "the loss is already defined outside of the model), and train it using `fit()` as usual:"
   ]
  },
  {
   "cell_type": "code",
   "execution_count": 16,
   "id": "337d41c9",
   "metadata": {},
   "outputs": [
    {
     "name": "stdout",
     "output_type": "stream",
     "text": [
      "Epoch 1/3\n",
      "1563/1563 [==============================] - 13s 8ms/step - loss: 0.2959\n",
      "Epoch 2/3\n",
      "1563/1563 [==============================] - 12s 8ms/step - loss: 0.1587\n",
      "Epoch 3/3\n",
      "1563/1563 [==============================] - 13s 8ms/step - loss: 0.1291\n"
     ]
    },
    {
     "data": {
      "text/plain": [
       "<keras.callbacks.History at 0x12a80524100>"
      ]
     },
     "execution_count": 16,
     "metadata": {},
     "output_type": "execute_result"
    }
   ],
   "source": [
    "inputs = keras.Input(shape=(28 * 28,))\n",
    "features = layers.Dense(512, activation=\"relu\")(inputs)\n",
    "features = layers.Dropout(0.5)(features)\n",
    "outputs = layers.Dense(10, activation=\"softmax\")(features)\n",
    "model = CustomModel(inputs, outputs)\n",
    "\n",
    "model.compile(optimizer=keras.optimizers.RMSprop())\n",
    "model.fit(train_images, train_labels, epochs=3)"
   ]
  },
  {
   "cell_type": "markdown",
   "id": "1b5f37a0",
   "metadata": {},
   "source": [
    "There are a couple of points to note:\n",
    "- This pattern does not prevent you from building models with the Functional\n",
    "API. You can do this whether you’re building Sequential models, Functional\n",
    "API models, or subclassed models.\n",
    "- You don’t need to use a `@tf.function` decorator when you override `train_step`—the framework does it for you.\n",
    "\n",
    "Now, what about metrics, and what about configuring the loss via `compile()`? After\n",
    "you’ve called `compile()`, you get access to the following:\n",
    "- `self.compiled_loss`—The loss function you passed to `compile()`.\n",
    "- `self.compiled_metrics`—A wrapper for the list of metrics you passed, which\n",
    "allows you to call `self.compiled_metrics.update_state()` to update all of\n",
    "your metrics at once.\n",
    "- `self.metrics`—The actual list of metrics you passed to `compile()`. Note that it\n",
    "also includes a metric that tracks the loss, similar to what we did manually with\n",
    "our `loss_tracking_metric` earlier.\n",
    "\n",
    "We can thus write"
   ]
  },
  {
   "cell_type": "code",
   "execution_count": 17,
   "id": "7977a56c",
   "metadata": {},
   "outputs": [],
   "source": [
    "class CustomModel(keras.Model):\n",
    "    def train_step(self, data):\n",
    "        inputs, targets = data\n",
    "        with tf.GradientTape() as tape:\n",
    "            predictions = self(inputs, training=True)\n",
    "            # Compute the loss via self.compiled_loss.\n",
    "            loss = self.compiled_loss(targets, predictions)\n",
    "            \n",
    "        gradients = tape.gradient(loss, self.trainable_weights)\n",
    "        self.optimizer.apply_gradients(zip(gradients, self.trainable_weights))\n",
    "        \n",
    "        # Update the model’s metrics via self.compiled_metrics.\n",
    "        self.compiled_metrics.update_state(targets, predictions)\n",
    "        \n",
    "        # Return a dict mapping metric names to their current value.\n",
    "        return {m.name: m.result() for m in self.metrics} "
   ]
  },
  {
   "cell_type": "code",
   "execution_count": 18,
   "id": "25adf137",
   "metadata": {},
   "outputs": [
    {
     "name": "stdout",
     "output_type": "stream",
     "text": [
      "Epoch 1/3\n",
      "1563/1563 [==============================] - 15s 9ms/step - loss: 0.2961 - sparse_categorical_accuracy: 0.9121\n",
      "Epoch 2/3\n",
      "1563/1563 [==============================] - 14s 9ms/step - loss: 0.1598 - sparse_categorical_accuracy: 0.9532\n",
      "Epoch 3/3\n",
      "1563/1563 [==============================] - 14s 9ms/step - loss: 0.1297 - sparse_categorical_accuracy: 0.9630\n"
     ]
    },
    {
     "data": {
      "text/plain": [
       "<keras.callbacks.History at 0x12a8715db10>"
      ]
     },
     "execution_count": 18,
     "metadata": {},
     "output_type": "execute_result"
    }
   ],
   "source": [
    "inputs = keras.Input(shape=(28 * 28,))\n",
    "features = layers.Dense(512, activation=\"relu\")(inputs)\n",
    "features = layers.Dropout(0.5)(features)\n",
    "outputs = layers.Dense(10, activation=\"softmax\")(features)\n",
    "model = CustomModel(inputs, outputs)\n",
    "\n",
    "model.compile(optimizer=keras.optimizers.RMSprop(),\n",
    "              loss=keras.losses.SparseCategoricalCrossentropy(),\n",
    "              metrics=[keras.metrics.SparseCategoricalAccuracy()])\n",
    "model.fit(train_images, train_labels, epochs=3)"
   ]
  },
  {
   "cell_type": "markdown",
   "id": "36f0face",
   "metadata": {},
   "source": [
    "That was a lot of information, but you now know enough to use Keras to do almost\n",
    "anything. \n",
    "\n",
    "## *Summary*\n",
    "\n",
    "- Keras offers a spectrum of different workflows, based on the principle of *progressive disclosure of complexity*. They all smoothly inter-operate together.\n",
    "- You can build models via the `Sequential` class, via the Functional API, or by subclassing the `Model` class. Most of the time, you’ll be using the Functional API.\n",
    "- The simplest way to train and evaluate a model is via the default `fit()` and\n",
    "`evaluate()` methods.\n",
    "- Keras callbacks provide a simple way to monitor models during your call to\n",
    "`fit()` and automatically take action based on the state of the model.\n",
    "- You can also fully take control of what `fit()` does by overriding the `train_step()` method.\n",
    "- Beyond `fit()`, you can also write your own training loops entirely from scratch.\n",
    "This is useful for researchers implementing brand-new training algorithms."
   ]
  },
  {
   "cell_type": "code",
   "execution_count": null,
   "id": "62171f1b",
   "metadata": {},
   "outputs": [],
   "source": []
  }
 ],
 "metadata": {
  "kernelspec": {
   "display_name": "Python 3 (ipykernel)",
   "language": "python",
   "name": "python3"
  },
  "language_info": {
   "codemirror_mode": {
    "name": "ipython",
    "version": 3
   },
   "file_extension": ".py",
   "mimetype": "text/x-python",
   "name": "python",
   "nbconvert_exporter": "python",
   "pygments_lexer": "ipython3",
   "version": "3.10.9"
  }
 },
 "nbformat": 4,
 "nbformat_minor": 5
}
