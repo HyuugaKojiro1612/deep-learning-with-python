{
 "cells": [
  {
   "cell_type": "markdown",
   "metadata": {
    "_cell_guid": "b1076dfc-b9ad-4769-8c92-a6c4dae69d19",
    "_uuid": "8f2839f25d086af736a60e9eeb907d3b93b6e0e5"
   },
   "source": [
    "# 4.1 Classifying movie reviews: a binary classification example\n",
    "Two-class classification, or binary classification, may be the most widely applied kind of machine-learning problem. This example will introduce how to classify movie reviews as positive or negative, based on the text content of the reviews."
   ]
  },
  {
   "cell_type": "markdown",
   "metadata": {},
   "source": [
    "## 4.1.1 The IMDB dataset\n",
    "\n",
    "IMDB dataset: a set of 50,000 highly polarized reviews from the Internet Movie Database. They’re split into 25,000 reviews for training and 25,000 reviews for testing, each set consisting of 50% negative and 50% positive reviews.\n",
    "\n",
    "Just like the MNIST dataset, the IMDB dataset comes packaged with Keras. It has already been preprocessed: the reviews (sequences of words) have been turned into sequences of integers, where each integer stands for a specific word in a dictionary."
   ]
  },
  {
   "cell_type": "code",
   "execution_count": 1,
   "metadata": {
    "execution": {
     "iopub.execute_input": "2023-05-05T14:38:44.415681Z",
     "iopub.status.busy": "2023-05-05T14:38:44.415204Z",
     "iopub.status.idle": "2023-05-05T14:38:44.421684Z",
     "shell.execute_reply": "2023-05-05T14:38:44.419231Z",
     "shell.execute_reply.started": "2023-05-05T14:38:44.415643Z"
    }
   },
   "outputs": [],
   "source": [
    "from tensorflow.keras.datasets import imdb"
   ]
  },
  {
   "cell_type": "code",
   "execution_count": 2,
   "metadata": {
    "execution": {
     "iopub.execute_input": "2023-05-05T14:38:55.417991Z",
     "iopub.status.busy": "2023-05-05T14:38:55.416739Z",
     "iopub.status.idle": "2023-05-05T14:39:00.539970Z",
     "shell.execute_reply": "2023-05-05T14:39:00.538848Z",
     "shell.execute_reply.started": "2023-05-05T14:38:55.417944Z"
    }
   },
   "outputs": [],
   "source": [
    "(train_data, train_labels), (test_data, test_labels) = imdb.load_data(num_words=10000)"
   ]
  },
  {
   "cell_type": "markdown",
   "metadata": {},
   "source": [
    "The argument `num_words=10000` means you’ll only keep the top 10,000 most frequently occurring words in the training data. Rare words will be discarded. This allows you to work with vector data of manageable size.\n",
    "\n",
    "The variables `train_data` and `test_data` are lists of reviews; each review is a list of word indices (encoding a sequence of words). `train_labels` and `test_labels` are lists of 0s and 1s, where 0 stands for negative and 1 stands for positive."
   ]
  },
  {
   "cell_type": "code",
   "execution_count": 5,
   "metadata": {
    "execution": {
     "iopub.execute_input": "2023-05-05T14:40:16.514730Z",
     "iopub.status.busy": "2023-05-05T14:40:16.514200Z",
     "iopub.status.idle": "2023-05-05T14:40:16.522123Z",
     "shell.execute_reply": "2023-05-05T14:40:16.520576Z",
     "shell.execute_reply.started": "2023-05-05T14:40:16.514689Z"
    }
   },
   "outputs": [
    {
     "name": "stdout",
     "output_type": "stream",
     "text": [
      "length of sequence: 218\n",
      "[1, 14, 22, 16, 43, 530, 973, 1622, 1385, 65, 458, 4468, 66, 3941, 4, 173, 36, 256, 5, 25, 100, 43, 838, 112, 50, 670, 2, 9, 35, 480, 284, 5, 150, 4, 172, 112, 167, 2, 336, 385, 39, 4, 172, 4536, 1111, 17, 546, 38, 13, 447, 4, 192, 50, 16, 6, 147, 2025, 19, 14, 22, 4, 1920, 4613, 469, 4, 22, 71, 87, 12, 16, 43, 530, 38, 76, 15, 13, 1247, 4, 22, 17, 515, 17, 12, 16, 626, 18, 2, 5, 62, 386, 12, 8, 316, 8, 106, 5, 4, 2223, 5244, 16, 480, 66, 3785, 33, 4, 130, 12, 16, 38, 619, 5, 25, 124, 51, 36, 135, 48, 25, 1415, 33, 6, 22, 12, 215, 28, 77, 52, 5, 14, 407, 16, 82, 2, 8, 4, 107, 117, 5952, 15, 256, 4, 2, 7, 3766, 5, 723, 36, 71, 43, 530, 476, 26, 400, 317, 46, 7, 4, 2, 1029, 13, 104, 88, 4, 381, 15, 297, 98, 32, 2071, 56, 26, 141, 6, 194, 7486, 18, 4, 226, 22, 21, 134, 476, 26, 480, 5, 144, 30, 5535, 18, 51, 36, 28, 224, 92, 25, 104, 4, 226, 65, 16, 38, 1334, 88, 12, 16, 283, 5, 16, 4472, 113, 103, 32, 15, 16, 5345, 19, 178, 32]\n",
      "label: 1\n"
     ]
    }
   ],
   "source": [
    "print(\"length of sequence:\", len(train_data[0]))\n",
    "print(train_data[0])\n",
    "print(\"label:\", train_labels[0])"
   ]
  },
  {
   "cell_type": "markdown",
   "metadata": {},
   "source": [
    "Because you’re restricting yourself to the top 10,000 most frequent words, no word index will exceed 10,000."
   ]
  },
  {
   "cell_type": "code",
   "execution_count": 6,
   "metadata": {
    "execution": {
     "iopub.execute_input": "2023-05-05T14:40:44.277035Z",
     "iopub.status.busy": "2023-05-05T14:40:44.275921Z",
     "iopub.status.idle": "2023-05-05T14:40:44.394522Z",
     "shell.execute_reply": "2023-05-05T14:40:44.393369Z",
     "shell.execute_reply.started": "2023-05-05T14:40:44.276990Z"
    }
   },
   "outputs": [
    {
     "data": {
      "text/plain": [
       "9999"
      ]
     },
     "execution_count": 6,
     "metadata": {},
     "output_type": "execute_result"
    }
   ],
   "source": [
    "max([max(sequence) for sequence in train_data])"
   ]
  },
  {
   "cell_type": "markdown",
   "metadata": {},
   "source": [
    "## 4.1.2 Preparing the data\n",
    "You can’t feed lists of integers into a neural network. You have to turn your lists into tensors. There are two ways to do that:\n",
    "- Pad your lists so that they all have the same length, turn them into an integer tensor of shape `(samples, max_length)`, and then use as the first layer in your network a layer capable of handling such integer tensors (the `Embedding` layer).\n",
    "- One-hot encode your lists to turn them into vectors of 0s and 1s. This would mean, for instance, turning the sequence `[3, 5]` into a 10,000-dimensional vector that would be all 0s except for indices 3 and 5, which would be 1s. Then you could use as the first layer in your network a `Dense` layer, capable of handling floating-point vector data.\n",
    "\n",
    "Let’s go with the latter solution to vectorize the data, which you’ll do manually for maximum clarity."
   ]
  },
  {
   "cell_type": "markdown",
   "metadata": {},
   "source": [
    "### *Encoding the integer sequences into a binary matrix*"
   ]
  },
  {
   "cell_type": "code",
   "execution_count": 3,
   "metadata": {
    "execution": {
     "iopub.execute_input": "2023-05-05T14:41:40.675751Z",
     "iopub.status.busy": "2023-05-05T14:41:40.675202Z",
     "iopub.status.idle": "2023-05-05T14:41:44.543659Z",
     "shell.execute_reply": "2023-05-05T14:41:44.542332Z",
     "shell.execute_reply.started": "2023-05-05T14:41:40.675710Z"
    }
   },
   "outputs": [],
   "source": [
    "import numpy as np\n",
    "def vectorize_sequences(sequences, dimension=10000):\n",
    "    results = np.zeros((len(sequences), dimension))\n",
    "    for i, sequence in enumerate(sequences):\n",
    "        for j in sequence:\n",
    "            results[i, j] = 1.\n",
    "    return results\n",
    "x_train = vectorize_sequences(train_data)\n",
    "x_test = vectorize_sequences(test_data)"
   ]
  },
  {
   "cell_type": "code",
   "execution_count": 4,
   "metadata": {
    "execution": {
     "iopub.execute_input": "2023-05-05T14:41:55.337384Z",
     "iopub.status.busy": "2023-05-05T14:41:55.336337Z",
     "iopub.status.idle": "2023-05-05T14:41:55.351372Z",
     "shell.execute_reply": "2023-05-05T14:41:55.350052Z",
     "shell.execute_reply.started": "2023-05-05T14:41:55.337331Z"
    }
   },
   "outputs": [
    {
     "name": "stdout",
     "output_type": "stream",
     "text": [
      "10000\n"
     ]
    },
    {
     "data": {
      "text/plain": [
       "array([0., 1., 1., ..., 0., 0., 0.])"
      ]
     },
     "execution_count": 4,
     "metadata": {},
     "output_type": "execute_result"
    }
   ],
   "source": [
    "print(len(x_train[0]))\n",
    "x_train[0]"
   ]
  },
  {
   "cell_type": "code",
   "execution_count": 5,
   "metadata": {
    "execution": {
     "iopub.execute_input": "2023-05-05T14:42:03.129190Z",
     "iopub.status.busy": "2023-05-05T14:42:03.128728Z",
     "iopub.status.idle": "2023-05-05T14:42:03.135057Z",
     "shell.execute_reply": "2023-05-05T14:42:03.133886Z",
     "shell.execute_reply.started": "2023-05-05T14:42:03.129158Z"
    }
   },
   "outputs": [],
   "source": [
    "y_train = np.asarray(train_labels).astype('float32')\n",
    "y_test = np.asarray(test_labels).astype('float32')"
   ]
  },
  {
   "cell_type": "markdown",
   "metadata": {},
   "source": [
    "##  4.1.3 Building your network\n",
    "The input data is vectors, and the labels are scalars (1s and 0s): this is the easiest setup you’ll ever encounter. A type of network that performs well on such a problem is a simple stack of fully connected (`Dense`) layers with `relu` activations: `Dense(16, activation='relu')`.\n",
    "\n",
    "The argument being passed to each `Dense` layer (16) is the number of hidden units of the layer. A hidden unit is a dimension in the representation space of the layer. You may remember from chapter 2 that each such `Dense` layer with a `relu` activation implements the following chain of tensor operations:\n",
    "\n",
    "`output = relu(dot(W, input) + b)`\n",
    "\n",
    "Having 16 hidden units means the weight matrix `W` will have shape `(input_dimension, 16)`: the dot product with `W` will project the input data onto a 16-dimensional representation space (and then you’ll add the bias vector `b` and apply the `relu` operation). \n",
    "\n",
    "You can intuitively understand the dimensionality of your representation space as “how much freedom you’re allowing the network to have when learning internal representations.” Having more hidden units (a higher-dimensional representation space) allows your network to learn more-complex representations, but it makes the network more computationally expensive and may lead to learning unwanted patterns (patterns that will improve performance on the training data but not on the test data)."
   ]
  },
  {
   "cell_type": "markdown",
   "metadata": {},
   "source": [
    "There are two key architecture decisions to be made about such a stack of `Dense` layers:\n",
    "- How many layers to use\n",
    "- How many hidden units to choose for each layer\n",
    "\n",
    "In chapter 5, you’ll learn formal principles to guide you in making these choices. For the time being, you’ll have to trust me with the following architecture choice:\n",
    "- Two intermediate layers with 16 hidden units each\n",
    "- A third layer that will output the scalar prediction regarding the sentiment of the current review\n",
    "\n",
    "The intermediate layers will use relu as their activation function, and the final layer will use a sigmoid activation so as to output a probability (a score between 0 and 1, indicating how likely the sample is to have the target “1”: how likely the review is to be positive)."
   ]
  },
  {
   "cell_type": "markdown",
   "metadata": {},
   "source": [
    "### *The model definition*"
   ]
  },
  {
   "cell_type": "code",
   "execution_count": 6,
   "metadata": {
    "execution": {
     "iopub.execute_input": "2023-05-05T14:43:24.942126Z",
     "iopub.status.busy": "2023-05-05T14:43:24.941719Z",
     "iopub.status.idle": "2023-05-05T14:43:25.154688Z",
     "shell.execute_reply": "2023-05-05T14:43:25.153477Z",
     "shell.execute_reply.started": "2023-05-05T14:43:24.942094Z"
    }
   },
   "outputs": [],
   "source": [
    "from tensorflow import keras\n",
    "from tensorflow.keras import layers\n",
    "\n",
    "model = keras.Sequential([\n",
    "    layers.Dense(16, activation=\"relu\"),\n",
    "    layers.Dense(16, activation=\"relu\"),\n",
    "    layers.Dense(1, activation=\"sigmoid\")\n",
    "])"
   ]
  },
  {
   "cell_type": "markdown",
   "metadata": {},
   "source": [
    "Finally, you need to choose a loss function and an optimizer. Because you’re facing a binary classification problem and the output of your network is a probability (you end your network with a single-unit layer with a sigmoid activation), it’s best to use the `binary_crossentropy loss`. It isn’t the only viable choice: you could use, for instance, `mean_squared_error`. But crossentropy is usually the best choice when you’re dealing with models that output probabilities. *Crossentropy* is a quantity that measures the distance between probability distributions or, in this case, between the ground-truth distribution and your predictions. \n",
    "\n",
    "Here’s the step where you configure the model with the `rmsprop` optimizer and the `binary_crossentropy` loss function. Note that you’ll also monitor accuracy during training."
   ]
  },
  {
   "cell_type": "markdown",
   "metadata": {},
   "source": [
    "### *Compiling the model*"
   ]
  },
  {
   "cell_type": "code",
   "execution_count": 7,
   "metadata": {
    "execution": {
     "iopub.execute_input": "2023-05-05T14:44:14.823813Z",
     "iopub.status.busy": "2023-05-05T14:44:14.823237Z",
     "iopub.status.idle": "2023-05-05T14:44:14.849404Z",
     "shell.execute_reply": "2023-05-05T14:44:14.848135Z",
     "shell.execute_reply.started": "2023-05-05T14:44:14.823740Z"
    }
   },
   "outputs": [],
   "source": [
    "model.compile(optimizer='rmsprop', \n",
    "              loss='binary_crossentropy', \n",
    "              metrics=['accuracy'])"
   ]
  },
  {
   "cell_type": "markdown",
   "metadata": {},
   "source": [
    "You’re passing your optimizer, loss function, and metrics as strings, which is possible because `rmsprop`, `binary_crossentropy`, and `accuracy` are packaged as part of Keras."
   ]
  },
  {
   "cell_type": "markdown",
   "metadata": {},
   "source": [
    "### *Configuring the optimizer*\n",
    "Sometimes you may want to configure the parameters of your optimizer, which can be done by passing an optimizer class instance as the `optimizer` argument:"
   ]
  },
  {
   "cell_type": "code",
   "execution_count": 9,
   "metadata": {
    "execution": {
     "iopub.execute_input": "2023-05-05T14:57:16.078827Z",
     "iopub.status.busy": "2023-05-05T14:57:16.078346Z",
     "iopub.status.idle": "2023-05-05T14:57:16.095068Z",
     "shell.execute_reply": "2023-05-05T14:57:16.093712Z",
     "shell.execute_reply.started": "2023-05-05T14:57:16.078779Z"
    }
   },
   "outputs": [],
   "source": [
    "from tensorflow.keras import optimizers\n",
    "model.compile(optimizer=optimizers.RMSprop(learning_rate=0.001), \\\n",
    "              loss='binary_crossentropy', metrics=['accuracy'])"
   ]
  },
  {
   "cell_type": "markdown",
   "metadata": {},
   "source": [
    "Additionally, you may also want to pass a custom loss function or metric function, which can be done by passing function objects as the `loss` and/or `metrics` arguments:\n",
    "### *Using custom losses and metrics*"
   ]
  },
  {
   "cell_type": "code",
   "execution_count": 10,
   "metadata": {
    "execution": {
     "iopub.execute_input": "2023-05-05T14:57:50.226071Z",
     "iopub.status.busy": "2023-05-05T14:57:50.225578Z",
     "iopub.status.idle": "2023-05-05T14:57:50.240579Z",
     "shell.execute_reply": "2023-05-05T14:57:50.239237Z",
     "shell.execute_reply.started": "2023-05-05T14:57:50.226031Z"
    }
   },
   "outputs": [],
   "source": [
    "from tensorflow.keras import losses\n",
    "from tensorflow.keras import metrics\n",
    "model.compile(optimizer=optimizers.RMSprop(learning_rate=0.001),\n",
    "              loss=losses.binary_crossentropy,\n",
    "              metrics=[metrics.binary_accuracy])"
   ]
  },
  {
   "cell_type": "markdown",
   "metadata": {},
   "source": [
    "## 4.1.4 Validating your approach"
   ]
  },
  {
   "cell_type": "markdown",
   "metadata": {},
   "source": [
    "### *Setting aside a validation set*\n",
    "In order to monitor during training the accuracy of the model on data it has never seen before, you’ll create a validation set by setting apart 10,000 samples from the original training data."
   ]
  },
  {
   "cell_type": "code",
   "execution_count": 11,
   "metadata": {
    "execution": {
     "iopub.execute_input": "2023-05-05T14:59:01.376782Z",
     "iopub.status.busy": "2023-05-05T14:59:01.376331Z",
     "iopub.status.idle": "2023-05-05T14:59:01.384233Z",
     "shell.execute_reply": "2023-05-05T14:59:01.382669Z",
     "shell.execute_reply.started": "2023-05-05T14:59:01.376748Z"
    }
   },
   "outputs": [
    {
     "name": "stdout",
     "output_type": "stream",
     "text": [
      "25000\n",
      "25000\n"
     ]
    }
   ],
   "source": [
    "# review train/test\n",
    "print(len(x_train))\n",
    "print(len(x_test))"
   ]
  },
  {
   "cell_type": "code",
   "execution_count": 12,
   "metadata": {
    "execution": {
     "iopub.execute_input": "2023-05-05T14:59:06.751739Z",
     "iopub.status.busy": "2023-05-05T14:59:06.750513Z",
     "iopub.status.idle": "2023-05-05T14:59:06.756619Z",
     "shell.execute_reply": "2023-05-05T14:59:06.755265Z",
     "shell.execute_reply.started": "2023-05-05T14:59:06.751699Z"
    }
   },
   "outputs": [],
   "source": [
    "x_val = x_train[:10000]\n",
    "partial_x_train = x_train[10000:]\n",
    "y_val = y_train[:10000]\n",
    "partial_y_train = y_train[10000:]"
   ]
  },
  {
   "cell_type": "code",
   "execution_count": 13,
   "metadata": {
    "execution": {
     "iopub.execute_input": "2023-05-05T14:59:11.776078Z",
     "iopub.status.busy": "2023-05-05T14:59:11.774686Z",
     "iopub.status.idle": "2023-05-05T14:59:11.782021Z",
     "shell.execute_reply": "2023-05-05T14:59:11.781094Z",
     "shell.execute_reply.started": "2023-05-05T14:59:11.776027Z"
    }
   },
   "outputs": [
    {
     "name": "stdout",
     "output_type": "stream",
     "text": [
      "training: 15000\n",
      "validation: 10000\n",
      "test: 25000\n"
     ]
    }
   ],
   "source": [
    "print(\"training:\", len(partial_x_train))\n",
    "print(\"validation:\", len(x_val))\n",
    "print(\"test:\", len(x_test))"
   ]
  },
  {
   "cell_type": "markdown",
   "metadata": {},
   "source": [
    "### *Training your model*\n",
    "You’ll now train the model for 20 epochs (20 iterations over all samples in the`x_train` and `y_train` tensors), in mini-batches of 512 samples. At the same time, you’ll monitor loss and accuracy on the 10,000 samples that you set apart. You do so by passing the validation data as the `validation_data` argument."
   ]
  },
  {
   "cell_type": "code",
   "execution_count": 14,
   "metadata": {
    "execution": {
     "iopub.execute_input": "2023-05-05T14:59:58.680697Z",
     "iopub.status.busy": "2023-05-05T14:59:58.680193Z",
     "iopub.status.idle": "2023-05-05T15:00:21.242053Z",
     "shell.execute_reply": "2023-05-05T15:00:21.240052Z",
     "shell.execute_reply.started": "2023-05-05T14:59:58.680622Z"
    }
   },
   "outputs": [
    {
     "name": "stdout",
     "output_type": "stream",
     "text": [
      "Epoch 1/20\n",
      "30/30 [==============================] - 4s 85ms/step - loss: 0.5427 - acc: 0.7787 - val_loss: 0.4071 - val_acc: 0.8645\n",
      "Epoch 2/20\n",
      "30/30 [==============================] - 1s 20ms/step - loss: 0.3328 - acc: 0.8919 - val_loss: 0.3174 - val_acc: 0.8822\n",
      "Epoch 3/20\n",
      "30/30 [==============================] - 1s 18ms/step - loss: 0.2495 - acc: 0.9165 - val_loss: 0.2854 - val_acc: 0.8892\n",
      "Epoch 4/20\n",
      "30/30 [==============================] - 1s 17ms/step - loss: 0.2008 - acc: 0.9323 - val_loss: 0.2870 - val_acc: 0.8848\n",
      "Epoch 5/20\n",
      "30/30 [==============================] - 0s 16ms/step - loss: 0.1675 - acc: 0.9454 - val_loss: 0.3079 - val_acc: 0.8744\n",
      "Epoch 6/20\n",
      "30/30 [==============================] - 0s 17ms/step - loss: 0.1443 - acc: 0.9531 - val_loss: 0.3079 - val_acc: 0.8782\n",
      "Epoch 7/20\n",
      "30/30 [==============================] - 0s 17ms/step - loss: 0.1232 - acc: 0.9612 - val_loss: 0.2955 - val_acc: 0.8807\n",
      "Epoch 8/20\n",
      "30/30 [==============================] - 0s 17ms/step - loss: 0.1067 - acc: 0.9677 - val_loss: 0.3080 - val_acc: 0.8796\n",
      "Epoch 9/20\n",
      "30/30 [==============================] - 0s 16ms/step - loss: 0.0904 - acc: 0.9750 - val_loss: 0.3653 - val_acc: 0.8732\n",
      "Epoch 10/20\n",
      "30/30 [==============================] - 1s 17ms/step - loss: 0.0785 - acc: 0.9786 - val_loss: 0.3357 - val_acc: 0.8787\n",
      "Epoch 11/20\n",
      "30/30 [==============================] - 0s 16ms/step - loss: 0.0654 - acc: 0.9833 - val_loss: 0.4095 - val_acc: 0.8703\n",
      "Epoch 12/20\n",
      "30/30 [==============================] - 0s 16ms/step - loss: 0.0566 - acc: 0.9870 - val_loss: 0.3771 - val_acc: 0.8749\n",
      "Epoch 13/20\n",
      "30/30 [==============================] - 0s 16ms/step - loss: 0.0484 - acc: 0.9893 - val_loss: 0.3955 - val_acc: 0.8792\n",
      "Epoch 14/20\n",
      "30/30 [==============================] - 0s 16ms/step - loss: 0.0425 - acc: 0.9909 - val_loss: 0.4173 - val_acc: 0.8728\n",
      "Epoch 15/20\n",
      "30/30 [==============================] - 0s 16ms/step - loss: 0.0353 - acc: 0.9937 - val_loss: 0.4868 - val_acc: 0.8592\n",
      "Epoch 16/20\n",
      "30/30 [==============================] - 0s 17ms/step - loss: 0.0270 - acc: 0.9960 - val_loss: 0.4929 - val_acc: 0.8716\n",
      "Epoch 17/20\n",
      "30/30 [==============================] - 0s 16ms/step - loss: 0.0250 - acc: 0.9949 - val_loss: 0.4845 - val_acc: 0.8743\n",
      "Epoch 18/20\n",
      "30/30 [==============================] - 0s 16ms/step - loss: 0.0218 - acc: 0.9960 - val_loss: 0.4997 - val_acc: 0.8746\n",
      "Epoch 19/20\n",
      "30/30 [==============================] - 0s 16ms/step - loss: 0.0132 - acc: 0.9991 - val_loss: 0.5260 - val_acc: 0.8734\n",
      "Epoch 20/20\n",
      "30/30 [==============================] - 0s 16ms/step - loss: 0.0161 - acc: 0.9977 - val_loss: 0.5481 - val_acc: 0.8738\n"
     ]
    }
   ],
   "source": [
    "model.compile(optimizer='rmsprop', loss='binary_crossentropy', metrics=['acc'])\n",
    "\n",
    "history = model.fit(partial_x_train, partial_y_train, epochs=20,\n",
    "                    batch_size=512, validation_data=(x_val, y_val))"
   ]
  },
  {
   "cell_type": "markdown",
   "metadata": {},
   "source": [
    "On CPU, this will take less than 2 seconds per epoch—training is over in 20 seconds. At the end of every epoch, there is a slight pause as the model computes its loss and accuracy on the 10,000 samples of the validation data.\n",
    "\n",
    "Note that the call to `model.fit()` returns a `History` object. This object has a member `history`, which is a dictionary containing data about everything that happened during training. Let’s look at it:"
   ]
  },
  {
   "cell_type": "code",
   "execution_count": 15,
   "metadata": {
    "execution": {
     "iopub.execute_input": "2023-05-05T15:01:20.703201Z",
     "iopub.status.busy": "2023-05-05T15:01:20.702719Z",
     "iopub.status.idle": "2023-05-05T15:01:20.711196Z",
     "shell.execute_reply": "2023-05-05T15:01:20.709568Z",
     "shell.execute_reply.started": "2023-05-05T15:01:20.703164Z"
    }
   },
   "outputs": [
    {
     "data": {
      "text/plain": [
       "dict_keys(['loss', 'acc', 'val_loss', 'val_acc'])"
      ]
     },
     "execution_count": 15,
     "metadata": {},
     "output_type": "execute_result"
    }
   ],
   "source": [
    "history_dict = history.history\n",
    "history_dict.keys()"
   ]
  },
  {
   "cell_type": "markdown",
   "metadata": {},
   "source": [
    "The dictionary contains four entries: one per metric that was being monitored during training and during validation. Let's use Matplotlib to plot the training and validation loss side by side (see figure 1), as well as the training and validation accuracy (see figure 2). Note that your own results may vary slightly due to a different random initialization of your network."
   ]
  },
  {
   "cell_type": "markdown",
   "metadata": {},
   "source": [
    "### *Plotting the training and validation loss*"
   ]
  },
  {
   "cell_type": "code",
   "execution_count": 16,
   "metadata": {
    "execution": {
     "iopub.execute_input": "2023-05-05T15:02:02.624933Z",
     "iopub.status.busy": "2023-05-05T15:02:02.624395Z",
     "iopub.status.idle": "2023-05-05T15:02:02.916317Z",
     "shell.execute_reply": "2023-05-05T15:02:02.915057Z",
     "shell.execute_reply.started": "2023-05-05T15:02:02.624891Z"
    }
   },
   "outputs": [
    {
     "data": {
      "image/png": "[encoded data removed]",
      "text/plain": [
       "<Figure size 640x480 with 1 Axes>"
      ]
     },
     "metadata": {},
     "output_type": "display_data"
    }
   ],
   "source": [
    "import matplotlib.pyplot as plt\n",
    "\n",
    "history_dict = history.history\n",
    "loss_values = history_dict['loss']\n",
    "val_loss_values = history_dict['val_loss']\n",
    "epochs = range(1, len(history_dict['acc']) + 1)\n",
    "\n",
    "# \"bo\" is for \"blue dot\"\n",
    "plt.plot(epochs, loss_values, 'bo', label='Training loss')\n",
    "# \"b\" is for \"solid blue line\"\n",
    "plt.plot(epochs, val_loss_values, 'b', label='Validation loss')\n",
    "plt.title('Figure 1: Training and validation loss')\n",
    "plt.xlabel('Epochs')\n",
    "plt.ylabel('Loss')\n",
    "plt.legend()\n",
    "\n",
    "plt.show()"
   ]
  },
  {
   "cell_type": "markdown",
   "metadata": {},
   "source": [
    "### *Plotting the training and validation accuracy*"
   ]
  },
  {
   "cell_type": "code",
   "execution_count": 17,
   "metadata": {
    "execution": {
     "iopub.execute_input": "2023-05-05T15:02:29.546054Z",
     "iopub.status.busy": "2023-05-05T15:02:29.545639Z",
     "iopub.status.idle": "2023-05-05T15:02:29.777988Z",
     "shell.execute_reply": "2023-05-05T15:02:29.776862Z",
     "shell.execute_reply.started": "2023-05-05T15:02:29.546019Z"
    }
   },
   "outputs": [
    {
     "data": {
      "image/png": "[encoded data removed]",
      "text/plain": [
       "<Figure size 640x480 with 1 Axes>"
      ]
     },
     "metadata": {},
     "output_type": "display_data"
    }
   ],
   "source": [
    "# clear the figure\n",
    "plt.clf()\n",
    "acc_values = history_dict['acc']\n",
    "val_acc_values = history_dict['val_acc']\n",
    "\n",
    "plt.plot(epochs, acc_values, 'bo', label='Training acc')\n",
    "plt.plot(epochs, val_acc_values, 'b', label='Validation acc')\n",
    "plt.title('Figure 2: Training and validation accuracy')\n",
    "plt.xlabel('Epochs')\n",
    "plt.ylabel('Loss')\n",
    "plt.legend()\n",
    "\n",
    "plt.show()"
   ]
  },
  {
   "cell_type": "markdown",
   "metadata": {},
   "source": [
    "As you can see, the training loss decreases with every epoch, and the training accuracy increases with every epoch. That’s what you would expect when running gradient descent optimization—the quantity you’re trying to minimize should be less with every iteration. \n",
    "\n",
    "But that isn’t the case for the validation loss and accuracy: they seem to peak at the fourth epoch. This is an example of what we warned against earlier: a model that performs better on the training data isn’t necessarily a model that will do better on data it has never seen before. In precise terms, what you’re seeing is overfitting: after the second epoch, you’re overoptimizing on the training data, and you end up learning representations that are specific to the training data and don’t generalize to data outside of the training set.\n",
    "\n",
    "In this case, to prevent overfitting, you could stop training after three epochs. In general, you can use a range of techniques to mitigate overfitting, which we’ll cover in chapter 4.\n",
    "\n",
    "Let’s train a new network from scratch for four epochs and then evaluate it on the test data."
   ]
  },
  {
   "cell_type": "markdown",
   "metadata": {},
   "source": [
    "### *Retraining a model from scratch*"
   ]
  },
  {
   "cell_type": "code",
   "execution_count": 18,
   "metadata": {
    "execution": {
     "iopub.execute_input": "2023-05-05T15:03:04.544295Z",
     "iopub.status.busy": "2023-05-05T15:03:04.543779Z",
     "iopub.status.idle": "2023-05-05T15:03:13.660636Z",
     "shell.execute_reply": "2023-05-05T15:03:13.659398Z",
     "shell.execute_reply.started": "2023-05-05T15:03:04.544255Z"
    }
   },
   "outputs": [
    {
     "name": "stdout",
     "output_type": "stream",
     "text": [
      "Epoch 1/4\n",
      "49/49 [==============================] - 2s 12ms/step - loss: 0.4796 - accuracy: 0.8064\n",
      "Epoch 2/4\n",
      "49/49 [==============================] - 1s 11ms/step - loss: 0.2785 - accuracy: 0.8997\n",
      "Epoch 3/4\n",
      "49/49 [==============================] - 1s 11ms/step - loss: 0.2186 - accuracy: 0.9208\n",
      "Epoch 4/4\n",
      "49/49 [==============================] - 1s 10ms/step - loss: 0.1832 - accuracy: 0.9348\n",
      "782/782 [==============================] - 2s 2ms/step - loss: 0.2988 - accuracy: 0.8806\n"
     ]
    }
   ],
   "source": [
    "model = keras.Sequential([\n",
    "    layers.Dense(16, activation=\"relu\"),\n",
    "    layers.Dense(16, activation=\"relu\"),\n",
    "    layers.Dense(1, activation=\"sigmoid\")\n",
    "])\n",
    "model.compile(optimizer='rmsprop', loss='binary_crossentropy', metrics=['accuracy'])\n",
    "model.fit(x_train, y_train, epochs=4, batch_size=512)\n",
    "results = model.evaluate(x_test, y_test)"
   ]
  },
  {
   "cell_type": "code",
   "execution_count": 19,
   "metadata": {
    "execution": {
     "iopub.execute_input": "2023-05-05T15:04:06.744285Z",
     "iopub.status.busy": "2023-05-05T15:04:06.743707Z",
     "iopub.status.idle": "2023-05-05T15:04:06.751417Z",
     "shell.execute_reply": "2023-05-05T15:04:06.750233Z",
     "shell.execute_reply.started": "2023-05-05T15:04:06.744238Z"
    }
   },
   "outputs": [
    {
     "data": {
      "text/plain": [
       "[0.2988487184047699, 0.8805999755859375]"
      ]
     },
     "execution_count": 19,
     "metadata": {},
     "output_type": "execute_result"
    }
   ],
   "source": [
    "results"
   ]
  },
  {
   "cell_type": "markdown",
   "metadata": {},
   "source": [
    "This fairly naive approach achieves an accuracy of 88%. With state-of-the-art approaches, you should be able to get close to 95%."
   ]
  },
  {
   "cell_type": "markdown",
   "metadata": {},
   "source": [
    "## 4.1.5 Using a trained network to generate predictions on new data\n",
    "After having trained a network, you’ll want to use it in a practical setting. You can generate the likelihood of reviews being positive by using the `predict` method:"
   ]
  },
  {
   "cell_type": "code",
   "execution_count": 20,
   "metadata": {
    "execution": {
     "iopub.execute_input": "2023-05-05T15:06:09.773195Z",
     "iopub.status.busy": "2023-05-05T15:06:09.772674Z",
     "iopub.status.idle": "2023-05-05T15:06:12.915670Z",
     "shell.execute_reply": "2023-05-05T15:06:12.914681Z",
     "shell.execute_reply.started": "2023-05-05T15:06:09.773157Z"
    }
   },
   "outputs": [
    {
     "name": "stdout",
     "output_type": "stream",
     "text": [
      "782/782 [==============================] - 2s 2ms/step\n"
     ]
    },
    {
     "data": {
      "text/plain": [
       "array([[0.16974103],\n",
       "       [0.99943495],\n",
       "       [0.6167592 ],\n",
       "       ...,\n",
       "       [0.08119755],\n",
       "       [0.05349763],\n",
       "       [0.4405848 ]], dtype=float32)"
      ]
     },
     "execution_count": 20,
     "metadata": {},
     "output_type": "execute_result"
    }
   ],
   "source": [
    "model.predict(x_test)"
   ]
  },
  {
   "cell_type": "markdown",
   "metadata": {},
   "source": [
    "As you can see, the network is confident for some samples (0.99 or more, or 0.01 or less) but less confident for others (0.6, 0.4)."
   ]
  },
  {
   "cell_type": "markdown",
   "metadata": {},
   "source": [
    "# 4.1.6 Further experiments\n",
    "The following experiments will help convince you that the architecture choices you’ve made are all fairly reasonable, although there’s still room for improvement:\n",
    "- You used two hidden layers. Try using one or three hidden layers, and see how doing so affects validation and test accuracy.\n",
    "- Try using layers with more hidden units or fewer hidden units: 32 units, 64 units, and so on.\n",
    "- Try using the `mse` loss function instead of `binary_crossentropy`.\n",
    "- Try using the `tanh` activation (an activation that was popular in the early days of neural networks) instead of `relu`."
   ]
  },
  {
   "cell_type": "markdown",
   "metadata": {},
   "source": [
    "# 4.1.7 Wrapping up\n",
    "Here’s what you should take away from this example:\n",
    "- You usually need to do quite a bit of preprocessing on your raw data in order to be able to feed it—as tensors—into a neural network. Sequences of words can be encoded as binary vectors, but there are other encoding options, too.\n",
    "- Stacks of `Dense` layers with `relu` activations can solve a wide range of problems (including sentiment classification), and you’ll likely use them frequently.\n",
    "- In a binary classification problem (two output classes), your network should end with a `Dense` layer with one unit and a `sigmoid` activation: the output of your network should be a scalar between 0 and 1, encoding a probability.\n",
    "- With such a scalar sigmoid output on a binary classification problem, the loss function you should use is `binary_crossentropy`.\n",
    "- The `rmsprop` optimizer is generally a good enough choice, whatever your problem. That’s one less thing for you to worry about.\n",
    "- As they get better on their training data, neural networks eventually start overfitting and end up obtaining increasingly worse results on data they’ve never seen before. Be sure to always monitor performance on data that is outside of the training set. "
   ]
  },
  {
   "cell_type": "code",
   "execution_count": null,
   "metadata": {},
   "outputs": [],
   "source": []
  }
 ],
 "metadata": {
  "kernelspec": {
   "display_name": "Python 3 (ipykernel)",
   "language": "python",
   "name": "python3"
  },
  "language_info": {
   "codemirror_mode": {
    "name": "ipython",
    "version": 3
   },
   "file_extension": ".py",
   "mimetype": "text/x-python",
   "name": "python",
   "nbconvert_exporter": "python",
   "pygments_lexer": "ipython3",
   "version": "3.10.9"
  }
 },
 "nbformat": 4,
 "nbformat_minor": 4
}
